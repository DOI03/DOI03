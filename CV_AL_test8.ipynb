{
  "nbformat": 4,
  "nbformat_minor": 0,
  "metadata": {
    "colab": {
      "provenance": [],
      "gpuType": "T4",
      "include_colab_link": true
    },
    "kernelspec": {
      "name": "python3",
      "display_name": "Python 3"
    },
    "language_info": {
      "name": "python"
    },
    "accelerator": "GPU",
    "widgets": {
      "application/vnd.jupyter.widget-state+json": {
        "62093c78ab3b4d8093fc5fe92153c82d": {
          "model_module": "@jupyter-widgets/controls",
          "model_name": "VBoxModel",
          "model_module_version": "1.5.0",
          "state": {
            "_dom_classes": [],
            "_model_module": "@jupyter-widgets/controls",
            "_model_module_version": "1.5.0",
            "_model_name": "VBoxModel",
            "_view_count": null,
            "_view_module": "@jupyter-widgets/controls",
            "_view_module_version": "1.5.0",
            "_view_name": "VBoxView",
            "box_style": "",
            "children": [
              "IPY_MODEL_8ade3e0f33314080a8f694593404715e",
              "IPY_MODEL_c2aa5e40f7254689b2689648b297c66c"
            ],
            "layout": "IPY_MODEL_6851bfcc9e34499a8cbfc0420301884c"
          }
        },
        "8ade3e0f33314080a8f694593404715e": {
          "model_module": "@jupyter-widgets/controls",
          "model_name": "LabelModel",
          "model_module_version": "1.5.0",
          "state": {
            "_dom_classes": [],
            "_model_module": "@jupyter-widgets/controls",
            "_model_module_version": "1.5.0",
            "_model_name": "LabelModel",
            "_view_count": null,
            "_view_module": "@jupyter-widgets/controls",
            "_view_module_version": "1.5.0",
            "_view_name": "LabelView",
            "description": "",
            "description_tooltip": null,
            "layout": "IPY_MODEL_06bcc92b2be747ad99e9cb9a18be7f8b",
            "placeholder": "​",
            "style": "IPY_MODEL_f8adc9a5f06d45eca843ff01b414e712",
            "value": "0.021 MB of 0.021 MB uploaded\r"
          }
        },
        "c2aa5e40f7254689b2689648b297c66c": {
          "model_module": "@jupyter-widgets/controls",
          "model_name": "FloatProgressModel",
          "model_module_version": "1.5.0",
          "state": {
            "_dom_classes": [],
            "_model_module": "@jupyter-widgets/controls",
            "_model_module_version": "1.5.0",
            "_model_name": "FloatProgressModel",
            "_view_count": null,
            "_view_module": "@jupyter-widgets/controls",
            "_view_module_version": "1.5.0",
            "_view_name": "ProgressView",
            "bar_style": "",
            "description": "",
            "description_tooltip": null,
            "layout": "IPY_MODEL_657304cc03174ca2bdd65cc2d4a9f7ed",
            "max": 1,
            "min": 0,
            "orientation": "horizontal",
            "style": "IPY_MODEL_7627be8c0c32416899ec83d5578aaf3a",
            "value": 1
          }
        },
        "6851bfcc9e34499a8cbfc0420301884c": {
          "model_module": "@jupyter-widgets/base",
          "model_name": "LayoutModel",
          "model_module_version": "1.2.0",
          "state": {
            "_model_module": "@jupyter-widgets/base",
            "_model_module_version": "1.2.0",
            "_model_name": "LayoutModel",
            "_view_count": null,
            "_view_module": "@jupyter-widgets/base",
            "_view_module_version": "1.2.0",
            "_view_name": "LayoutView",
            "align_content": null,
            "align_items": null,
            "align_self": null,
            "border": null,
            "bottom": null,
            "display": null,
            "flex": null,
            "flex_flow": null,
            "grid_area": null,
            "grid_auto_columns": null,
            "grid_auto_flow": null,
            "grid_auto_rows": null,
            "grid_column": null,
            "grid_gap": null,
            "grid_row": null,
            "grid_template_areas": null,
            "grid_template_columns": null,
            "grid_template_rows": null,
            "height": null,
            "justify_content": null,
            "justify_items": null,
            "left": null,
            "margin": null,
            "max_height": null,
            "max_width": null,
            "min_height": null,
            "min_width": null,
            "object_fit": null,
            "object_position": null,
            "order": null,
            "overflow": null,
            "overflow_x": null,
            "overflow_y": null,
            "padding": null,
            "right": null,
            "top": null,
            "visibility": null,
            "width": null
          }
        },
        "06bcc92b2be747ad99e9cb9a18be7f8b": {
          "model_module": "@jupyter-widgets/base",
          "model_name": "LayoutModel",
          "model_module_version": "1.2.0",
          "state": {
            "_model_module": "@jupyter-widgets/base",
            "_model_module_version": "1.2.0",
            "_model_name": "LayoutModel",
            "_view_count": null,
            "_view_module": "@jupyter-widgets/base",
            "_view_module_version": "1.2.0",
            "_view_name": "LayoutView",
            "align_content": null,
            "align_items": null,
            "align_self": null,
            "border": null,
            "bottom": null,
            "display": null,
            "flex": null,
            "flex_flow": null,
            "grid_area": null,
            "grid_auto_columns": null,
            "grid_auto_flow": null,
            "grid_auto_rows": null,
            "grid_column": null,
            "grid_gap": null,
            "grid_row": null,
            "grid_template_areas": null,
            "grid_template_columns": null,
            "grid_template_rows": null,
            "height": null,
            "justify_content": null,
            "justify_items": null,
            "left": null,
            "margin": null,
            "max_height": null,
            "max_width": null,
            "min_height": null,
            "min_width": null,
            "object_fit": null,
            "object_position": null,
            "order": null,
            "overflow": null,
            "overflow_x": null,
            "overflow_y": null,
            "padding": null,
            "right": null,
            "top": null,
            "visibility": null,
            "width": null
          }
        },
        "f8adc9a5f06d45eca843ff01b414e712": {
          "model_module": "@jupyter-widgets/controls",
          "model_name": "DescriptionStyleModel",
          "model_module_version": "1.5.0",
          "state": {
            "_model_module": "@jupyter-widgets/controls",
            "_model_module_version": "1.5.0",
            "_model_name": "DescriptionStyleModel",
            "_view_count": null,
            "_view_module": "@jupyter-widgets/base",
            "_view_module_version": "1.2.0",
            "_view_name": "StyleView",
            "description_width": ""
          }
        },
        "657304cc03174ca2bdd65cc2d4a9f7ed": {
          "model_module": "@jupyter-widgets/base",
          "model_name": "LayoutModel",
          "model_module_version": "1.2.0",
          "state": {
            "_model_module": "@jupyter-widgets/base",
            "_model_module_version": "1.2.0",
            "_model_name": "LayoutModel",
            "_view_count": null,
            "_view_module": "@jupyter-widgets/base",
            "_view_module_version": "1.2.0",
            "_view_name": "LayoutView",
            "align_content": null,
            "align_items": null,
            "align_self": null,
            "border": null,
            "bottom": null,
            "display": null,
            "flex": null,
            "flex_flow": null,
            "grid_area": null,
            "grid_auto_columns": null,
            "grid_auto_flow": null,
            "grid_auto_rows": null,
            "grid_column": null,
            "grid_gap": null,
            "grid_row": null,
            "grid_template_areas": null,
            "grid_template_columns": null,
            "grid_template_rows": null,
            "height": null,
            "justify_content": null,
            "justify_items": null,
            "left": null,
            "margin": null,
            "max_height": null,
            "max_width": null,
            "min_height": null,
            "min_width": null,
            "object_fit": null,
            "object_position": null,
            "order": null,
            "overflow": null,
            "overflow_x": null,
            "overflow_y": null,
            "padding": null,
            "right": null,
            "top": null,
            "visibility": null,
            "width": null
          }
        },
        "7627be8c0c32416899ec83d5578aaf3a": {
          "model_module": "@jupyter-widgets/controls",
          "model_name": "ProgressStyleModel",
          "model_module_version": "1.5.0",
          "state": {
            "_model_module": "@jupyter-widgets/controls",
            "_model_module_version": "1.5.0",
            "_model_name": "ProgressStyleModel",
            "_view_count": null,
            "_view_module": "@jupyter-widgets/base",
            "_view_module_version": "1.2.0",
            "_view_name": "StyleView",
            "bar_color": null,
            "description_width": ""
          }
        }
      }
    }
  },
  "cells": [
    {
      "cell_type": "markdown",
      "metadata": {
        "id": "view-in-github",
        "colab_type": "text"
      },
      "source": [
        "<a href=\"https://colab.research.google.com/github/DOI03/DOI03/blob/main/CV_AL_test8.ipynb\" target=\"_parent\"><img src=\"https://colab.research.google.com/assets/colab-badge.svg\" alt=\"Open In Colab\"/></a>"
      ]
    },
    {
      "cell_type": "markdown",
      "source": [
        "1.   optimizer로 AdamW 사용\n",
        "2.   lr 0.0001\n",
        "3.   epoch 25\n",
        "4.   CosineAnnealingLR 스케줄러 사용\n",
        "\n"
      ],
      "metadata": {
        "id": "JBBnibyCbQ_A"
      }
    },
    {
      "cell_type": "code",
      "source": [
        "from google.colab import drive\n",
        "drive.mount('/content/gdrive')"
      ],
      "metadata": {
        "colab": {
          "base_uri": "https://localhost:8080/"
        },
        "id": "xr4ox9es1m_Z",
        "outputId": "1026d4e4-d93c-40e7-a1e7-8f1657f32e8e"
      },
      "execution_count": 1,
      "outputs": [
        {
          "output_type": "stream",
          "name": "stdout",
          "text": [
            "Mounted at /content/gdrive\n"
          ]
        }
      ]
    },
    {
      "cell_type": "code",
      "source": [
        "!pip install wandb"
      ],
      "metadata": {
        "colab": {
          "base_uri": "https://localhost:8080/"
        },
        "id": "7a36Uzf7yL9l",
        "outputId": "4803cbed-9240-4e9e-b78e-6d08e6b395c5"
      },
      "execution_count": 2,
      "outputs": [
        {
          "output_type": "stream",
          "name": "stdout",
          "text": [
            "Requirement already satisfied: wandb in /usr/local/lib/python3.10/dist-packages (0.18.5)\n",
            "Requirement already satisfied: click!=8.0.0,>=7.1 in /usr/local/lib/python3.10/dist-packages (from wandb) (8.1.7)\n",
            "Requirement already satisfied: docker-pycreds>=0.4.0 in /usr/local/lib/python3.10/dist-packages (from wandb) (0.4.0)\n",
            "Requirement already satisfied: gitpython!=3.1.29,>=1.0.0 in /usr/local/lib/python3.10/dist-packages (from wandb) (3.1.43)\n",
            "Requirement already satisfied: platformdirs in /usr/local/lib/python3.10/dist-packages (from wandb) (4.3.6)\n",
            "Requirement already satisfied: protobuf!=4.21.0,!=5.28.0,<6,>=3.19.0 in /usr/local/lib/python3.10/dist-packages (from wandb) (3.20.3)\n",
            "Requirement already satisfied: psutil>=5.0.0 in /usr/local/lib/python3.10/dist-packages (from wandb) (5.9.5)\n",
            "Requirement already satisfied: pyyaml in /usr/local/lib/python3.10/dist-packages (from wandb) (6.0.2)\n",
            "Requirement already satisfied: requests<3,>=2.0.0 in /usr/local/lib/python3.10/dist-packages (from wandb) (2.32.3)\n",
            "Requirement already satisfied: sentry-sdk>=2.0.0 in /usr/local/lib/python3.10/dist-packages (from wandb) (2.17.0)\n",
            "Requirement already satisfied: setproctitle in /usr/local/lib/python3.10/dist-packages (from wandb) (1.3.3)\n",
            "Requirement already satisfied: setuptools in /usr/local/lib/python3.10/dist-packages (from wandb) (75.1.0)\n",
            "Requirement already satisfied: typing-extensions<5,>=4.4 in /usr/local/lib/python3.10/dist-packages (from wandb) (4.12.2)\n",
            "Requirement already satisfied: six>=1.4.0 in /usr/local/lib/python3.10/dist-packages (from docker-pycreds>=0.4.0->wandb) (1.16.0)\n",
            "Requirement already satisfied: gitdb<5,>=4.0.1 in /usr/local/lib/python3.10/dist-packages (from gitpython!=3.1.29,>=1.0.0->wandb) (4.0.11)\n",
            "Requirement already satisfied: charset-normalizer<4,>=2 in /usr/local/lib/python3.10/dist-packages (from requests<3,>=2.0.0->wandb) (3.4.0)\n",
            "Requirement already satisfied: idna<4,>=2.5 in /usr/local/lib/python3.10/dist-packages (from requests<3,>=2.0.0->wandb) (3.10)\n",
            "Requirement already satisfied: urllib3<3,>=1.21.1 in /usr/local/lib/python3.10/dist-packages (from requests<3,>=2.0.0->wandb) (2.2.3)\n",
            "Requirement already satisfied: certifi>=2017.4.17 in /usr/local/lib/python3.10/dist-packages (from requests<3,>=2.0.0->wandb) (2024.8.30)\n",
            "Requirement already satisfied: smmap<6,>=3.0.1 in /usr/local/lib/python3.10/dist-packages (from gitdb<5,>=4.0.1->gitpython!=3.1.29,>=1.0.0->wandb) (5.0.1)\n"
          ]
        }
      ]
    },
    {
      "cell_type": "code",
      "execution_count": 3,
      "metadata": {
        "id": "qOc0tT3-nv73",
        "colab": {
          "base_uri": "https://localhost:8080/",
          "height": 232
        },
        "outputId": "9db3f229-80c0-4611-b1ab-b70d72714047"
      },
      "outputs": [
        {
          "output_type": "stream",
          "name": "stderr",
          "text": [
            "\u001b[34m\u001b[1mwandb\u001b[0m: Using wandb-core as the SDK backend. Please refer to https://wandb.me/wandb-core for more information.\n"
          ]
        },
        {
          "output_type": "display_data",
          "data": {
            "text/plain": [
              "<IPython.core.display.Javascript object>"
            ],
            "application/javascript": [
              "\n",
              "        window._wandbApiKey = new Promise((resolve, reject) => {\n",
              "            function loadScript(url) {\n",
              "            return new Promise(function(resolve, reject) {\n",
              "                let newScript = document.createElement(\"script\");\n",
              "                newScript.onerror = reject;\n",
              "                newScript.onload = resolve;\n",
              "                document.body.appendChild(newScript);\n",
              "                newScript.src = url;\n",
              "            });\n",
              "            }\n",
              "            loadScript(\"https://cdn.jsdelivr.net/npm/postmate/build/postmate.min.js\").then(() => {\n",
              "            const iframe = document.createElement('iframe')\n",
              "            iframe.style.cssText = \"width:0;height:0;border:none\"\n",
              "            document.body.appendChild(iframe)\n",
              "            const handshake = new Postmate({\n",
              "                container: iframe,\n",
              "                url: 'https://wandb.ai/authorize'\n",
              "            });\n",
              "            const timeout = setTimeout(() => reject(\"Couldn't auto authenticate\"), 5000)\n",
              "            handshake.then(function(child) {\n",
              "                child.on('authorize', data => {\n",
              "                    clearTimeout(timeout)\n",
              "                    resolve(data)\n",
              "                });\n",
              "            });\n",
              "            })\n",
              "        });\n",
              "    "
            ]
          },
          "metadata": {}
        },
        {
          "output_type": "stream",
          "name": "stderr",
          "text": [
            "\u001b[34m\u001b[1mwandb\u001b[0m: Logging into wandb.ai. (Learn how to deploy a W&B server locally: https://wandb.me/wandb-server)\n",
            "\u001b[34m\u001b[1mwandb\u001b[0m: You can find your API key in your browser here: https://wandb.ai/authorize\n",
            "wandb: Paste an API key from your profile and hit enter, or press ctrl+c to quit:"
          ]
        },
        {
          "name": "stdout",
          "output_type": "stream",
          "text": [
            " ··········\n"
          ]
        },
        {
          "output_type": "stream",
          "name": "stderr",
          "text": [
            "\u001b[34m\u001b[1mwandb\u001b[0m: Appending key for api.wandb.ai to your netrc file: /root/.netrc\n"
          ]
        },
        {
          "output_type": "display_data",
          "data": {
            "text/plain": [
              "<IPython.core.display.HTML object>"
            ],
            "text/html": [
              "Tracking run with wandb version 0.18.5"
            ]
          },
          "metadata": {}
        },
        {
          "output_type": "display_data",
          "data": {
            "text/plain": [
              "<IPython.core.display.HTML object>"
            ],
            "text/html": [
              "Run data is saved locally in <code>/content/wandb/run-20241025_150133-a8xkz428</code>"
            ]
          },
          "metadata": {}
        },
        {
          "output_type": "display_data",
          "data": {
            "text/plain": [
              "<IPython.core.display.HTML object>"
            ],
            "text/html": [
              "Syncing run <strong><a href='https://wandb.ai/parkdoi-gachon-university/CUB_Transfer_Learning/runs/a8xkz428' target=\"_blank\">AdamW_with_CosineAnnealingLR</a></strong> to <a href='https://wandb.ai/parkdoi-gachon-university/CUB_Transfer_Learning' target=\"_blank\">Weights & Biases</a> (<a href='https://wandb.me/run' target=\"_blank\">docs</a>)<br/>"
            ]
          },
          "metadata": {}
        },
        {
          "output_type": "display_data",
          "data": {
            "text/plain": [
              "<IPython.core.display.HTML object>"
            ],
            "text/html": [
              " View project at <a href='https://wandb.ai/parkdoi-gachon-university/CUB_Transfer_Learning' target=\"_blank\">https://wandb.ai/parkdoi-gachon-university/CUB_Transfer_Learning</a>"
            ]
          },
          "metadata": {}
        },
        {
          "output_type": "display_data",
          "data": {
            "text/plain": [
              "<IPython.core.display.HTML object>"
            ],
            "text/html": [
              " View run at <a href='https://wandb.ai/parkdoi-gachon-university/CUB_Transfer_Learning/runs/a8xkz428' target=\"_blank\">https://wandb.ai/parkdoi-gachon-university/CUB_Transfer_Learning/runs/a8xkz428</a>"
            ]
          },
          "metadata": {}
        },
        {
          "output_type": "stream",
          "name": "stdout",
          "text": [
            "cuda\n"
          ]
        }
      ],
      "source": [
        "import os\n",
        "import time\n",
        "\n",
        "import torch\n",
        "import torchvision.transforms as transforms\n",
        "import torchvision.models as models\n",
        "from torch.utils.data import Dataset, DataLoader\n",
        "\n",
        "import torch.optim as optim\n",
        "import torch.nn as nn\n",
        "import torch.nn.functional as F\n",
        "\n",
        "import wandb\n",
        "\n",
        "# AdamP 사용\n",
        "from torch.optim import AdamW\n",
        "\n",
        "from PIL import Image\n",
        "#내가 추가\n",
        "import re\n",
        "\n",
        "from torch.optim.lr_scheduler import CosineAnnealingLR\n",
        "\n",
        "### wandb 설정 ###\n",
        "wandb.init(project=\"CUB_Transfer_Learning\", name=\"AdamW_with_CosineAnnealingLR\")\n",
        "\n",
        "### GPU Setting ###\n",
        "USE_CUDA = torch.cuda.is_available()\n",
        "DEVICE = torch.device(\"cuda\" if USE_CUDA else \"cpu\")\n",
        "print(DEVICE)"
      ]
    },
    {
      "cell_type": "code",
      "source": [
        "### Custom Dataset ###\n",
        "class CUB2011(Dataset):\n",
        "  def __init__(self, transform, mode='train'):\n",
        "    self.transform = transform\n",
        "    self.mode = mode\n",
        "\n",
        "    if self.mode == 'train':\n",
        "      self.image_folder = os.listdir('/content/gdrive/MyDrive/CUB_200_2011_repackage_class50/datasets/train')\n",
        "    elif self.mode == 'valid':\n",
        "      self.image_folder = os.listdir('/content/gdrive/MyDrive/CUB_200_2011_repackage_class50/datasets/valid')\n",
        "    elif self.mode == 'test':\n",
        "      self.image_folder = os.listdir('/content/gdrive/MyDrive/CUB_200_2011_repackage_class50/datasets/test')\n",
        "\n",
        "  def __len__(self):\n",
        "    return len(self.image_folder)\n",
        "\n",
        "  def __getitem__(self, idx):\n",
        "    img_path = self.image_folder[idx]\n",
        "    img = Image.open(os.path.join('/content/gdrive/MyDrive/CUB_200_2011_repackage_class50/datasets', self.mode, img_path)).convert('RGB')\n",
        "    img = self.transform(img)\n",
        "    label = img_path.split('_')[-1].split('.')[0]\n",
        "    label = re.sub(r'\\([^)]*\\)', '', label)\n",
        "    label = int(label)\n",
        "    return (img, label)"
      ],
      "metadata": {
        "id": "KaFgjkFp8tzI"
      },
      "execution_count": 4,
      "outputs": []
    },
    {
      "cell_type": "code",
      "source": [
        "### Data Preprocessing ###\n",
        "\n",
        "# 데이터 정규화 추가\n",
        "# 정규화 변환 정의\n",
        "normalize = transforms.Normalize(mean=[0.485, 0.456, 0.406], std=[0.229, 0.224, 0.225])\n",
        "\n",
        "transforms_train = transforms.Compose([\n",
        "    transforms.Resize((448, 448)),\n",
        "    transforms.ToTensor(),\n",
        "    normalize  # 정규화 추가\n",
        "])\n",
        "\n",
        "transforms_valtest = transforms.Compose([\n",
        "    transforms.Resize((448, 448)),\n",
        "    transforms.ToTensor(),\n",
        "    normalize  # 정규화 추가\n",
        "])\n",
        "\n",
        "BATCH_SIZE = 32\n",
        "train_set = CUB2011(mode='train', transform=transforms_train)\n",
        "val_set = CUB2011(mode='valid', transform=transforms_valtest)\n",
        "test_set = CUB2011(mode='test', transform=transforms_valtest)\n",
        "\n",
        "print('Num of each dataset: ', len(train_set), len(val_set), len(test_set))\n",
        "\n",
        "train_loader = DataLoader(train_set, batch_size=BATCH_SIZE, shuffle=True)\n",
        "val_loader = DataLoader(val_set, batch_size=BATCH_SIZE, shuffle=False)\n",
        "test_loader = DataLoader(test_set, batch_size=BATCH_SIZE, shuffle=False)\n",
        "\n",
        "print(\"Loaded dataloader\")\n",
        "\n",
        "### Model / Optimizer ###\n",
        "EPOCH = 25\n",
        "lr = 0.0001\n",
        "\n",
        "model = models.resnet18(pretrained=True)\n",
        "\n",
        "### Transfer Learning ###\n",
        "num_features = model.fc.in_features\n",
        "model.fc = nn.Linear(num_features, 50)\n",
        "model.to(DEVICE)\n",
        "\n",
        "optimizer = AdamW(model.parameters(), lr=lr)\n",
        "scheduler = CosineAnnealingLR(optimizer, T_max=EPOCH)\n",
        "\n",
        "print(\"Created a learning model and optimizer\")"
      ],
      "metadata": {
        "colab": {
          "base_uri": "https://localhost:8080/"
        },
        "id": "38vx5jj22neg",
        "outputId": "eac3290c-a8a0-4d90-f8d2-7053f7681ae0"
      },
      "execution_count": 5,
      "outputs": [
        {
          "output_type": "stream",
          "name": "stdout",
          "text": [
            "Num of each dataset:  2360 296 298\n",
            "Loaded dataloader\n"
          ]
        },
        {
          "output_type": "stream",
          "name": "stderr",
          "text": [
            "/usr/local/lib/python3.10/dist-packages/torchvision/models/_utils.py:208: UserWarning: The parameter 'pretrained' is deprecated since 0.13 and may be removed in the future, please use 'weights' instead.\n",
            "  warnings.warn(\n",
            "/usr/local/lib/python3.10/dist-packages/torchvision/models/_utils.py:223: UserWarning: Arguments other than a weight enum or `None` for 'weights' are deprecated since 0.13 and may be removed in the future. The current behavior is equivalent to passing `weights=ResNet18_Weights.IMAGENET1K_V1`. You can also use `weights=ResNet18_Weights.DEFAULT` to get the most up-to-date weights.\n",
            "  warnings.warn(msg)\n",
            "Downloading: \"https://download.pytorch.org/models/resnet18-f37072fd.pth\" to /root/.cache/torch/hub/checkpoints/resnet18-f37072fd.pth\n",
            "100%|██████████| 44.7M/44.7M [00:00<00:00, 197MB/s]\n"
          ]
        },
        {
          "output_type": "stream",
          "name": "stdout",
          "text": [
            "Created a learning model and optimizer\n"
          ]
        }
      ]
    },
    {
      "cell_type": "code",
      "source": [
        "### Train/Evaluation ###\n",
        "def train(model, train_loader, optimizer, epoch):\n",
        "    model.train()\n",
        "    train_loss_total = 0\n",
        "    for i, (image, target) in enumerate(train_loader):\n",
        "        image, target = image.to(DEVICE), target.to(DEVICE)\n",
        "        output = model(image)\n",
        "        optimizer.zero_grad()\n",
        "        train_loss = F.cross_entropy(output, target).to(DEVICE)\n",
        "\n",
        "        train_loss.backward()\n",
        "        optimizer.step()\n",
        "\n",
        "        train_loss_total += train_loss.item()\n",
        "\n",
        "        if i % 10 == 0:\n",
        "            print(f'Train Epoch: {epoch} [{i}/{len(train_loader)}]\\tloss: {train_loss.item():.6f}')\n",
        "\n",
        "    avg_train_loss = train_loss_total / len(train_loader)\n",
        "    return avg_train_loss\n",
        "\n",
        "def evaluate(model, val_loader):\n",
        "    model.eval()\n",
        "    eval_loss = 0\n",
        "    correct = 0\n",
        "    with torch.no_grad():\n",
        "        for i, (image, target) in enumerate(val_loader):\n",
        "            image, target = image.to(DEVICE), target.to(DEVICE)\n",
        "            output = model(image)\n",
        "\n",
        "            eval_loss += F.cross_entropy(output, target, reduction='sum').item()\n",
        "            pred = output.max(1, keepdim=True)[1]\n",
        "            correct += pred.eq(target.view_as(pred)).sum().item()\n",
        "\n",
        "    eval_loss /= len(val_loader.dataset)\n",
        "    eval_accuracy = 100 * correct / len(val_loader.dataset)\n",
        "    return eval_loss, eval_accuracy"
      ],
      "metadata": {
        "id": "apDhVk6C2r7R"
      },
      "execution_count": 6,
      "outputs": []
    },
    {
      "cell_type": "code",
      "source": [
        "### Main ###\n",
        "start = time.time()\n",
        "best = 0\n",
        "for epoch in range(EPOCH):\n",
        "    train_loss = train(model, train_loader, optimizer, epoch)\n",
        "    val_loss, val_accuracy = evaluate(model, val_loader)\n",
        "\n",
        "    # 스케줄러 업데이트 (에포크가 끝난 후)\n",
        "    scheduler.step()\n",
        "\n",
        "    # wandb 로그 기록\n",
        "    wandb.log({\n",
        "        'Epoch': epoch,\n",
        "        'Train Loss': train_loss,\n",
        "        'Validation Loss': val_loss,\n",
        "        'Validation Accuracy': val_accuracy\n",
        "    })\n",
        "\n",
        "    # Save best model\n",
        "    if val_accuracy > best:\n",
        "        best = val_accuracy\n",
        "        torch.save(model.state_dict(), \"./best_model.pth\")\n",
        "\n",
        "    print(f\"[{epoch}] Validation Loss: {val_loss:.4f}, Accuracy: {val_accuracy:.4f}%\")\n",
        "\n",
        "# Test result\n",
        "test_loss, test_accuracy = evaluate(model, test_loader)\n",
        "print(f'[FINAL] Test Loss: {test_loss:.4f}, Accuracy: {test_accuracy:.4f}%')\n",
        "\n",
        "# wandb 테스트 결과 로그 기록\n",
        "wandb.log({\n",
        "    'Test Loss': test_loss,\n",
        "    'Test Accuracy': test_accuracy\n",
        "})\n",
        "\n",
        "end = time.time()\n",
        "elapsed_time = end - start\n",
        "\n",
        "print(\"Best Accuracy: \", best)\n",
        "print(f\"Elapsed Time: {int(elapsed_time / 3600)}h, {int(elapsed_time / 60)}m, {int(elapsed_time % 60)}s\")\n",
        "\n",
        "wandb.finish()\n"
      ],
      "metadata": {
        "colab": {
          "base_uri": "https://localhost:8080/",
          "height": 1000,
          "referenced_widgets": [
            "62093c78ab3b4d8093fc5fe92153c82d",
            "8ade3e0f33314080a8f694593404715e",
            "c2aa5e40f7254689b2689648b297c66c",
            "6851bfcc9e34499a8cbfc0420301884c",
            "06bcc92b2be747ad99e9cb9a18be7f8b",
            "f8adc9a5f06d45eca843ff01b414e712",
            "657304cc03174ca2bdd65cc2d4a9f7ed",
            "7627be8c0c32416899ec83d5578aaf3a"
          ]
        },
        "id": "VNhSTX452wyd",
        "outputId": "4abd8d13-eb92-4b4b-e048-856485d6afd6"
      },
      "execution_count": 7,
      "outputs": [
        {
          "output_type": "stream",
          "name": "stdout",
          "text": [
            "Train Epoch: 0 [0/74]\tloss: 4.182848\n",
            "Train Epoch: 0 [10/74]\tloss: 3.873815\n",
            "Train Epoch: 0 [20/74]\tloss: 3.578518\n",
            "Train Epoch: 0 [30/74]\tloss: 3.350450\n",
            "Train Epoch: 0 [40/74]\tloss: 2.903326\n",
            "Train Epoch: 0 [50/74]\tloss: 2.738207\n",
            "Train Epoch: 0 [60/74]\tloss: 2.533332\n",
            "Train Epoch: 0 [70/74]\tloss: 2.393454\n",
            "[0] Validation Loss: 2.1400, Accuracy: 58.7838%\n",
            "Train Epoch: 1 [0/74]\tloss: 2.066548\n",
            "Train Epoch: 1 [10/74]\tloss: 2.027483\n",
            "Train Epoch: 1 [20/74]\tloss: 1.739232\n",
            "Train Epoch: 1 [30/74]\tloss: 1.707983\n",
            "Train Epoch: 1 [40/74]\tloss: 1.719794\n",
            "Train Epoch: 1 [50/74]\tloss: 1.394636\n",
            "Train Epoch: 1 [60/74]\tloss: 1.335851\n",
            "Train Epoch: 1 [70/74]\tloss: 1.322405\n",
            "[1] Validation Loss: 1.4730, Accuracy: 79.0541%\n",
            "Train Epoch: 2 [0/74]\tloss: 0.934085\n",
            "Train Epoch: 2 [10/74]\tloss: 0.983364\n",
            "Train Epoch: 2 [20/74]\tloss: 1.135793\n",
            "Train Epoch: 2 [30/74]\tloss: 1.008030\n",
            "Train Epoch: 2 [40/74]\tloss: 0.685075\n",
            "Train Epoch: 2 [50/74]\tloss: 0.735214\n",
            "Train Epoch: 2 [60/74]\tloss: 0.830720\n",
            "Train Epoch: 2 [70/74]\tloss: 0.782667\n",
            "[2] Validation Loss: 1.0578, Accuracy: 83.7838%\n",
            "Train Epoch: 3 [0/74]\tloss: 0.479855\n",
            "Train Epoch: 3 [10/74]\tloss: 0.586646\n",
            "Train Epoch: 3 [20/74]\tloss: 0.414027\n",
            "Train Epoch: 3 [30/74]\tloss: 0.533281\n",
            "Train Epoch: 3 [40/74]\tloss: 0.440881\n",
            "Train Epoch: 3 [50/74]\tloss: 0.466936\n",
            "Train Epoch: 3 [60/74]\tloss: 0.552871\n",
            "Train Epoch: 3 [70/74]\tloss: 0.386169\n",
            "[3] Validation Loss: 0.8971, Accuracy: 87.8378%\n",
            "Train Epoch: 4 [0/74]\tloss: 0.202062\n",
            "Train Epoch: 4 [10/74]\tloss: 0.273831\n",
            "Train Epoch: 4 [20/74]\tloss: 0.209105\n",
            "Train Epoch: 4 [30/74]\tloss: 0.217313\n",
            "Train Epoch: 4 [40/74]\tloss: 0.201555\n",
            "Train Epoch: 4 [50/74]\tloss: 0.187126\n",
            "Train Epoch: 4 [60/74]\tloss: 0.248822\n",
            "Train Epoch: 4 [70/74]\tloss: 0.215870\n",
            "[4] Validation Loss: 0.7265, Accuracy: 86.8243%\n",
            "Train Epoch: 5 [0/74]\tloss: 0.114482\n",
            "Train Epoch: 5 [10/74]\tloss: 0.107900\n",
            "Train Epoch: 5 [20/74]\tloss: 0.119904\n",
            "Train Epoch: 5 [30/74]\tloss: 0.118410\n",
            "Train Epoch: 5 [40/74]\tloss: 0.115105\n",
            "Train Epoch: 5 [50/74]\tloss: 0.106923\n",
            "Train Epoch: 5 [60/74]\tloss: 0.086143\n",
            "Train Epoch: 5 [70/74]\tloss: 0.094056\n",
            "[5] Validation Loss: 0.6884, Accuracy: 90.5405%\n",
            "Train Epoch: 6 [0/74]\tloss: 0.083829\n",
            "Train Epoch: 6 [10/74]\tloss: 0.081568\n",
            "Train Epoch: 6 [20/74]\tloss: 0.092304\n",
            "Train Epoch: 6 [30/74]\tloss: 0.057864\n",
            "Train Epoch: 6 [40/74]\tloss: 0.075569\n",
            "Train Epoch: 6 [50/74]\tloss: 0.056271\n",
            "Train Epoch: 6 [60/74]\tloss: 0.084378\n",
            "Train Epoch: 6 [70/74]\tloss: 0.070071\n",
            "[6] Validation Loss: 0.6333, Accuracy: 90.2027%\n",
            "Train Epoch: 7 [0/74]\tloss: 0.060074\n",
            "Train Epoch: 7 [10/74]\tloss: 0.055870\n",
            "Train Epoch: 7 [20/74]\tloss: 0.045164\n",
            "Train Epoch: 7 [30/74]\tloss: 0.051340\n",
            "Train Epoch: 7 [40/74]\tloss: 0.049453\n",
            "Train Epoch: 7 [50/74]\tloss: 0.074678\n",
            "Train Epoch: 7 [60/74]\tloss: 0.056243\n",
            "Train Epoch: 7 [70/74]\tloss: 0.055589\n",
            "[7] Validation Loss: 0.6361, Accuracy: 90.2027%\n",
            "Train Epoch: 8 [0/74]\tloss: 0.041906\n",
            "Train Epoch: 8 [10/74]\tloss: 0.047455\n",
            "Train Epoch: 8 [20/74]\tloss: 0.036000\n",
            "Train Epoch: 8 [30/74]\tloss: 0.045858\n",
            "Train Epoch: 8 [40/74]\tloss: 0.041142\n",
            "Train Epoch: 8 [50/74]\tloss: 0.037057\n",
            "Train Epoch: 8 [60/74]\tloss: 0.041395\n",
            "Train Epoch: 8 [70/74]\tloss: 0.034927\n",
            "[8] Validation Loss: 0.6007, Accuracy: 89.1892%\n",
            "Train Epoch: 9 [0/74]\tloss: 0.037672\n",
            "Train Epoch: 9 [10/74]\tloss: 0.029147\n",
            "Train Epoch: 9 [20/74]\tloss: 0.035068\n",
            "Train Epoch: 9 [30/74]\tloss: 0.032015\n",
            "Train Epoch: 9 [40/74]\tloss: 0.032252\n",
            "Train Epoch: 9 [50/74]\tloss: 0.029731\n",
            "Train Epoch: 9 [60/74]\tloss: 0.027773\n",
            "Train Epoch: 9 [70/74]\tloss: 0.040231\n",
            "[9] Validation Loss: 0.6094, Accuracy: 90.2027%\n",
            "Train Epoch: 10 [0/74]\tloss: 0.026155\n",
            "Train Epoch: 10 [10/74]\tloss: 0.023287\n",
            "Train Epoch: 10 [20/74]\tloss: 0.025146\n",
            "Train Epoch: 10 [30/74]\tloss: 0.023909\n",
            "Train Epoch: 10 [40/74]\tloss: 0.021734\n",
            "Train Epoch: 10 [50/74]\tloss: 0.022719\n",
            "Train Epoch: 10 [60/74]\tloss: 0.033507\n",
            "Train Epoch: 10 [70/74]\tloss: 0.027570\n",
            "[10] Validation Loss: 0.5906, Accuracy: 89.8649%\n",
            "Train Epoch: 11 [0/74]\tloss: 0.025371\n",
            "Train Epoch: 11 [10/74]\tloss: 0.023748\n",
            "Train Epoch: 11 [20/74]\tloss: 0.025207\n",
            "Train Epoch: 11 [30/74]\tloss: 0.031194\n",
            "Train Epoch: 11 [40/74]\tloss: 0.024293\n",
            "Train Epoch: 11 [50/74]\tloss: 0.023013\n",
            "Train Epoch: 11 [60/74]\tloss: 0.030759\n",
            "Train Epoch: 11 [70/74]\tloss: 0.020848\n",
            "[11] Validation Loss: 0.5741, Accuracy: 89.8649%\n",
            "Train Epoch: 12 [0/74]\tloss: 0.015287\n",
            "Train Epoch: 12 [10/74]\tloss: 0.026866\n",
            "Train Epoch: 12 [20/74]\tloss: 0.025138\n",
            "Train Epoch: 12 [30/74]\tloss: 0.017695\n",
            "Train Epoch: 12 [40/74]\tloss: 0.015988\n",
            "Train Epoch: 12 [50/74]\tloss: 0.018901\n",
            "Train Epoch: 12 [60/74]\tloss: 0.028294\n",
            "Train Epoch: 12 [70/74]\tloss: 0.024882\n",
            "[12] Validation Loss: 0.5718, Accuracy: 89.5270%\n",
            "Train Epoch: 13 [0/74]\tloss: 0.022779\n",
            "Train Epoch: 13 [10/74]\tloss: 0.021637\n",
            "Train Epoch: 13 [20/74]\tloss: 0.019135\n",
            "Train Epoch: 13 [30/74]\tloss: 0.018451\n",
            "Train Epoch: 13 [40/74]\tloss: 0.026546\n",
            "Train Epoch: 13 [50/74]\tloss: 0.018783\n",
            "Train Epoch: 13 [60/74]\tloss: 0.021297\n",
            "Train Epoch: 13 [70/74]\tloss: 0.018083\n",
            "[13] Validation Loss: 0.5615, Accuracy: 88.8514%\n",
            "Train Epoch: 14 [0/74]\tloss: 0.017956\n",
            "Train Epoch: 14 [10/74]\tloss: 0.017884\n",
            "Train Epoch: 14 [20/74]\tloss: 0.013346\n",
            "Train Epoch: 14 [30/74]\tloss: 0.014991\n",
            "Train Epoch: 14 [40/74]\tloss: 0.018314\n",
            "Train Epoch: 14 [50/74]\tloss: 0.014772\n",
            "Train Epoch: 14 [60/74]\tloss: 0.017229\n",
            "Train Epoch: 14 [70/74]\tloss: 0.013712\n",
            "[14] Validation Loss: 0.5639, Accuracy: 90.2027%\n",
            "Train Epoch: 15 [0/74]\tloss: 0.018430\n",
            "Train Epoch: 15 [10/74]\tloss: 0.020077\n",
            "Train Epoch: 15 [20/74]\tloss: 0.012444\n",
            "Train Epoch: 15 [30/74]\tloss: 0.017974\n",
            "Train Epoch: 15 [40/74]\tloss: 0.018289\n",
            "Train Epoch: 15 [50/74]\tloss: 0.014615\n",
            "Train Epoch: 15 [60/74]\tloss: 0.014045\n",
            "Train Epoch: 15 [70/74]\tloss: 0.016785\n",
            "[15] Validation Loss: 0.5646, Accuracy: 89.5270%\n",
            "Train Epoch: 16 [0/74]\tloss: 0.014031\n",
            "Train Epoch: 16 [10/74]\tloss: 0.016872\n",
            "Train Epoch: 16 [20/74]\tloss: 0.017943\n",
            "Train Epoch: 16 [30/74]\tloss: 0.014490\n",
            "Train Epoch: 16 [40/74]\tloss: 0.014961\n",
            "Train Epoch: 16 [50/74]\tloss: 0.015192\n",
            "Train Epoch: 16 [60/74]\tloss: 0.014609\n",
            "Train Epoch: 16 [70/74]\tloss: 0.019295\n",
            "[16] Validation Loss: 0.5604, Accuracy: 89.8649%\n",
            "Train Epoch: 17 [0/74]\tloss: 0.012961\n",
            "Train Epoch: 17 [10/74]\tloss: 0.010616\n",
            "Train Epoch: 17 [20/74]\tloss: 0.015111\n",
            "Train Epoch: 17 [30/74]\tloss: 0.015871\n",
            "Train Epoch: 17 [40/74]\tloss: 0.017274\n",
            "Train Epoch: 17 [50/74]\tloss: 0.015098\n",
            "Train Epoch: 17 [60/74]\tloss: 0.017414\n",
            "Train Epoch: 17 [70/74]\tloss: 0.014086\n",
            "[17] Validation Loss: 0.5605, Accuracy: 89.8649%\n",
            "Train Epoch: 18 [0/74]\tloss: 0.014466\n",
            "Train Epoch: 18 [10/74]\tloss: 0.011639\n",
            "Train Epoch: 18 [20/74]\tloss: 0.010623\n",
            "Train Epoch: 18 [30/74]\tloss: 0.015290\n",
            "Train Epoch: 18 [40/74]\tloss: 0.011163\n",
            "Train Epoch: 18 [50/74]\tloss: 0.013767\n",
            "Train Epoch: 18 [60/74]\tloss: 0.014250\n",
            "Train Epoch: 18 [70/74]\tloss: 0.010145\n",
            "[18] Validation Loss: 0.5527, Accuracy: 89.8649%\n",
            "Train Epoch: 19 [0/74]\tloss: 0.016137\n",
            "Train Epoch: 19 [10/74]\tloss: 0.015481\n",
            "Train Epoch: 19 [20/74]\tloss: 0.013602\n",
            "Train Epoch: 19 [30/74]\tloss: 0.009736\n",
            "Train Epoch: 19 [40/74]\tloss: 0.011415\n",
            "Train Epoch: 19 [50/74]\tloss: 0.010316\n",
            "Train Epoch: 19 [60/74]\tloss: 0.016412\n",
            "Train Epoch: 19 [70/74]\tloss: 0.011113\n",
            "[19] Validation Loss: 0.5507, Accuracy: 90.2027%\n",
            "Train Epoch: 20 [0/74]\tloss: 0.010217\n",
            "Train Epoch: 20 [10/74]\tloss: 0.010471\n",
            "Train Epoch: 20 [20/74]\tloss: 0.015177\n",
            "Train Epoch: 20 [30/74]\tloss: 0.014118\n",
            "Train Epoch: 20 [40/74]\tloss: 0.009481\n",
            "Train Epoch: 20 [50/74]\tloss: 0.013948\n",
            "Train Epoch: 20 [60/74]\tloss: 0.013563\n",
            "Train Epoch: 20 [70/74]\tloss: 0.011084\n",
            "[20] Validation Loss: 0.5520, Accuracy: 89.1892%\n",
            "Train Epoch: 21 [0/74]\tloss: 0.013886\n",
            "Train Epoch: 21 [10/74]\tloss: 0.012946\n",
            "Train Epoch: 21 [20/74]\tloss: 0.011910\n",
            "Train Epoch: 21 [30/74]\tloss: 0.011880\n",
            "Train Epoch: 21 [40/74]\tloss: 0.014737\n",
            "Train Epoch: 21 [50/74]\tloss: 0.007740\n",
            "Train Epoch: 21 [60/74]\tloss: 0.020340\n",
            "Train Epoch: 21 [70/74]\tloss: 0.016652\n",
            "[21] Validation Loss: 0.5538, Accuracy: 89.8649%\n",
            "Train Epoch: 22 [0/74]\tloss: 0.011307\n",
            "Train Epoch: 22 [10/74]\tloss: 0.013857\n",
            "Train Epoch: 22 [20/74]\tloss: 0.010455\n",
            "Train Epoch: 22 [30/74]\tloss: 0.009691\n",
            "Train Epoch: 22 [40/74]\tloss: 0.011875\n",
            "Train Epoch: 22 [50/74]\tloss: 0.013385\n",
            "Train Epoch: 22 [60/74]\tloss: 0.011198\n",
            "Train Epoch: 22 [70/74]\tloss: 0.010766\n",
            "[22] Validation Loss: 0.5542, Accuracy: 89.1892%\n",
            "Train Epoch: 23 [0/74]\tloss: 0.011424\n",
            "Train Epoch: 23 [10/74]\tloss: 0.014027\n",
            "Train Epoch: 23 [20/74]\tloss: 0.013580\n",
            "Train Epoch: 23 [30/74]\tloss: 0.014252\n",
            "Train Epoch: 23 [40/74]\tloss: 0.012848\n",
            "Train Epoch: 23 [50/74]\tloss: 0.011464\n",
            "Train Epoch: 23 [60/74]\tloss: 0.012009\n",
            "Train Epoch: 23 [70/74]\tloss: 0.011532\n",
            "[23] Validation Loss: 0.5554, Accuracy: 89.8649%\n",
            "Train Epoch: 24 [0/74]\tloss: 0.010198\n",
            "Train Epoch: 24 [10/74]\tloss: 0.009332\n",
            "Train Epoch: 24 [20/74]\tloss: 0.009922\n",
            "Train Epoch: 24 [30/74]\tloss: 0.015342\n",
            "Train Epoch: 24 [40/74]\tloss: 0.011084\n",
            "Train Epoch: 24 [50/74]\tloss: 0.014017\n",
            "Train Epoch: 24 [60/74]\tloss: 0.010631\n",
            "Train Epoch: 24 [70/74]\tloss: 0.011988\n",
            "[24] Validation Loss: 0.5525, Accuracy: 89.1892%\n",
            "[FINAL] Test Loss: 0.5506, Accuracy: 88.9262%\n",
            "Best Accuracy:  90.54054054054055\n",
            "Elapsed Time: 0h, 35m, 41s\n"
          ]
        },
        {
          "output_type": "display_data",
          "data": {
            "text/plain": [
              "VBox(children=(Label(value='0.021 MB of 0.021 MB uploaded\\r'), FloatProgress(value=1.0, max=1.0)))"
            ],
            "application/vnd.jupyter.widget-view+json": {
              "version_major": 2,
              "version_minor": 0,
              "model_id": "62093c78ab3b4d8093fc5fe92153c82d"
            }
          },
          "metadata": {}
        },
        {
          "output_type": "display_data",
          "data": {
            "text/plain": [
              "<IPython.core.display.HTML object>"
            ],
            "text/html": [
              "<style>\n",
              "    table.wandb td:nth-child(1) { padding: 0 10px; text-align: left ; width: auto;} td:nth-child(2) {text-align: left ; width: 100%}\n",
              "    .wandb-row { display: flex; flex-direction: row; flex-wrap: wrap; justify-content: flex-start; width: 100% }\n",
              "    .wandb-col { display: flex; flex-direction: column; flex-basis: 100%; flex: 1; padding: 10px; }\n",
              "    </style>\n",
              "<div class=\"wandb-row\"><div class=\"wandb-col\"><h3>Run history:</h3><br/><table class=\"wandb\"><tr><td>Epoch</td><td>▁▁▂▂▂▂▃▃▃▄▄▄▅▅▅▅▆▆▆▇▇▇▇██</td></tr><tr><td>Test Accuracy</td><td>▁</td></tr><tr><td>Test Loss</td><td>▁</td></tr><tr><td>Train Loss</td><td>█▅▃▂▁▁▁▁▁▁▁▁▁▁▁▁▁▁▁▁▁▁▁▁▁</td></tr><tr><td>Validation Accuracy</td><td>▁▅▇▇▇████████████████████</td></tr><tr><td>Validation Loss</td><td>█▅▃▃▂▂▁▁▁▁▁▁▁▁▁▁▁▁▁▁▁▁▁▁▁</td></tr></table><br/></div><div class=\"wandb-col\"><h3>Run summary:</h3><br/><table class=\"wandb\"><tr><td>Epoch</td><td>24</td></tr><tr><td>Test Accuracy</td><td>88.92617</td></tr><tr><td>Test Loss</td><td>0.5506</td></tr><tr><td>Train Loss</td><td>0.01258</td></tr><tr><td>Validation Accuracy</td><td>89.18919</td></tr><tr><td>Validation Loss</td><td>0.5525</td></tr></table><br/></div></div>"
            ]
          },
          "metadata": {}
        },
        {
          "output_type": "display_data",
          "data": {
            "text/plain": [
              "<IPython.core.display.HTML object>"
            ],
            "text/html": [
              " View run <strong style=\"color:#cdcd00\">AdamW_with_CosineAnnealingLR</strong> at: <a href='https://wandb.ai/parkdoi-gachon-university/CUB_Transfer_Learning/runs/a8xkz428' target=\"_blank\">https://wandb.ai/parkdoi-gachon-university/CUB_Transfer_Learning/runs/a8xkz428</a><br/> View project at: <a href='https://wandb.ai/parkdoi-gachon-university/CUB_Transfer_Learning' target=\"_blank\">https://wandb.ai/parkdoi-gachon-university/CUB_Transfer_Learning</a><br/>Synced 5 W&B file(s), 0 media file(s), 0 artifact file(s) and 0 other file(s)"
            ]
          },
          "metadata": {}
        },
        {
          "output_type": "display_data",
          "data": {
            "text/plain": [
              "<IPython.core.display.HTML object>"
            ],
            "text/html": [
              "Find logs at: <code>./wandb/run-20241025_150133-a8xkz428/logs</code>"
            ]
          },
          "metadata": {}
        }
      ]
    }
  ]
}