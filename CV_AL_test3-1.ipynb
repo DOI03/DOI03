{
  "nbformat": 4,
  "nbformat_minor": 0,
  "metadata": {
    "colab": {
      "provenance": [],
      "gpuType": "T4",
      "include_colab_link": true
    },
    "kernelspec": {
      "name": "python3",
      "display_name": "Python 3"
    },
    "language_info": {
      "name": "python"
    },
    "accelerator": "GPU"
  },
  "cells": [
    {
      "cell_type": "markdown",
      "metadata": {
        "id": "view-in-github",
        "colab_type": "text"
      },
      "source": [
        "<a href=\"https://colab.research.google.com/github/DOI03/DOI03/blob/main/CV_AL_test3-1.ipynb\" target=\"_parent\"><img src=\"https://colab.research.google.com/assets/colab-badge.svg\" alt=\"Open In Colab\"/></a>"
      ]
    },
    {
      "cell_type": "markdown",
      "source": [
        "1.   optimizer로 RAdam 사용\n",
        "2.   lr = 0.0001\n",
        "3.   OneCycleLR 스케줄러 사용\n",
        "\n",
        "\n",
        "\n"
      ],
      "metadata": {
        "id": "JBBnibyCbQ_A"
      }
    },
    {
      "cell_type": "code",
      "source": [
        "from google.colab import drive\n",
        "drive.mount('/content/gdrive')"
      ],
      "metadata": {
        "colab": {
          "base_uri": "https://localhost:8080/"
        },
        "id": "xr4ox9es1m_Z",
        "outputId": "c6943732-525b-48d7-f035-4050758f0c3b"
      },
      "execution_count": 1,
      "outputs": [
        {
          "output_type": "stream",
          "name": "stdout",
          "text": [
            "Mounted at /content/gdrive\n"
          ]
        }
      ]
    },
    {
      "cell_type": "code",
      "source": [
        "!pip install git+https://github.com/LiyuanLucasLiu/RAdam.git\n",
        "!pip install wandb"
      ],
      "metadata": {
        "colab": {
          "base_uri": "https://localhost:8080/"
        },
        "id": "7a36Uzf7yL9l",
        "outputId": "ad1657c1-c52e-4a31-a586-26abfb9a7cf6"
      },
      "execution_count": 2,
      "outputs": [
        {
          "output_type": "stream",
          "name": "stdout",
          "text": [
            "Collecting git+https://github.com/LiyuanLucasLiu/RAdam.git\n",
            "  Cloning https://github.com/LiyuanLucasLiu/RAdam.git to /tmp/pip-req-build-n8sohen2\n",
            "  Running command git clone --filter=blob:none --quiet https://github.com/LiyuanLucasLiu/RAdam.git /tmp/pip-req-build-n8sohen2\n",
            "  Resolved https://github.com/LiyuanLucasLiu/RAdam.git to commit d9fd30a337894c4003768561d45e8730dbd41333\n",
            "  Preparing metadata (setup.py) ... \u001b[?25l\u001b[?25hdone\n",
            "Requirement already satisfied: torch in /usr/local/lib/python3.10/dist-packages (from RAdam==0.0.1) (2.5.0+cu121)\n",
            "Requirement already satisfied: filelock in /usr/local/lib/python3.10/dist-packages (from torch->RAdam==0.0.1) (3.16.1)\n",
            "Requirement already satisfied: typing-extensions>=4.8.0 in /usr/local/lib/python3.10/dist-packages (from torch->RAdam==0.0.1) (4.12.2)\n",
            "Requirement already satisfied: networkx in /usr/local/lib/python3.10/dist-packages (from torch->RAdam==0.0.1) (3.4.2)\n",
            "Requirement already satisfied: jinja2 in /usr/local/lib/python3.10/dist-packages (from torch->RAdam==0.0.1) (3.1.4)\n",
            "Requirement already satisfied: fsspec in /usr/local/lib/python3.10/dist-packages (from torch->RAdam==0.0.1) (2024.6.1)\n",
            "Requirement already satisfied: sympy==1.13.1 in /usr/local/lib/python3.10/dist-packages (from torch->RAdam==0.0.1) (1.13.1)\n",
            "Requirement already satisfied: mpmath<1.4,>=1.1.0 in /usr/local/lib/python3.10/dist-packages (from sympy==1.13.1->torch->RAdam==0.0.1) (1.3.0)\n",
            "Requirement already satisfied: MarkupSafe>=2.0 in /usr/local/lib/python3.10/dist-packages (from jinja2->torch->RAdam==0.0.1) (3.0.2)\n",
            "Building wheels for collected packages: RAdam\n",
            "  Building wheel for RAdam (setup.py) ... \u001b[?25l\u001b[?25hdone\n",
            "  Created wheel for RAdam: filename=RAdam-0.0.1-py3-none-any.whl size=7098 sha256=6cd59c3be0677fd03db370ae38c1dacc282f9454d45de6684137d8ab4be2d735\n",
            "  Stored in directory: /tmp/pip-ephem-wheel-cache-ajqy5qob/wheels/27/dd/f4/a154a2dd1d807820314f09ba2fa30f13f96a0d2830e8bab05e\n",
            "Successfully built RAdam\n",
            "Installing collected packages: RAdam\n",
            "Successfully installed RAdam-0.0.1\n",
            "Requirement already satisfied: wandb in /usr/local/lib/python3.10/dist-packages (0.18.5)\n",
            "Requirement already satisfied: click!=8.0.0,>=7.1 in /usr/local/lib/python3.10/dist-packages (from wandb) (8.1.7)\n",
            "Requirement already satisfied: docker-pycreds>=0.4.0 in /usr/local/lib/python3.10/dist-packages (from wandb) (0.4.0)\n",
            "Requirement already satisfied: gitpython!=3.1.29,>=1.0.0 in /usr/local/lib/python3.10/dist-packages (from wandb) (3.1.43)\n",
            "Requirement already satisfied: platformdirs in /usr/local/lib/python3.10/dist-packages (from wandb) (4.3.6)\n",
            "Requirement already satisfied: protobuf!=4.21.0,!=5.28.0,<6,>=3.19.0 in /usr/local/lib/python3.10/dist-packages (from wandb) (3.20.3)\n",
            "Requirement already satisfied: psutil>=5.0.0 in /usr/local/lib/python3.10/dist-packages (from wandb) (5.9.5)\n",
            "Requirement already satisfied: pyyaml in /usr/local/lib/python3.10/dist-packages (from wandb) (6.0.2)\n",
            "Requirement already satisfied: requests<3,>=2.0.0 in /usr/local/lib/python3.10/dist-packages (from wandb) (2.32.3)\n",
            "Requirement already satisfied: sentry-sdk>=2.0.0 in /usr/local/lib/python3.10/dist-packages (from wandb) (2.17.0)\n",
            "Requirement already satisfied: setproctitle in /usr/local/lib/python3.10/dist-packages (from wandb) (1.3.3)\n",
            "Requirement already satisfied: setuptools in /usr/local/lib/python3.10/dist-packages (from wandb) (75.1.0)\n",
            "Requirement already satisfied: typing-extensions<5,>=4.4 in /usr/local/lib/python3.10/dist-packages (from wandb) (4.12.2)\n",
            "Requirement already satisfied: six>=1.4.0 in /usr/local/lib/python3.10/dist-packages (from docker-pycreds>=0.4.0->wandb) (1.16.0)\n",
            "Requirement already satisfied: gitdb<5,>=4.0.1 in /usr/local/lib/python3.10/dist-packages (from gitpython!=3.1.29,>=1.0.0->wandb) (4.0.11)\n",
            "Requirement already satisfied: charset-normalizer<4,>=2 in /usr/local/lib/python3.10/dist-packages (from requests<3,>=2.0.0->wandb) (3.4.0)\n",
            "Requirement already satisfied: idna<4,>=2.5 in /usr/local/lib/python3.10/dist-packages (from requests<3,>=2.0.0->wandb) (3.10)\n",
            "Requirement already satisfied: urllib3<3,>=1.21.1 in /usr/local/lib/python3.10/dist-packages (from requests<3,>=2.0.0->wandb) (2.2.3)\n",
            "Requirement already satisfied: certifi>=2017.4.17 in /usr/local/lib/python3.10/dist-packages (from requests<3,>=2.0.0->wandb) (2024.8.30)\n",
            "Requirement already satisfied: smmap<6,>=3.0.1 in /usr/local/lib/python3.10/dist-packages (from gitdb<5,>=4.0.1->gitpython!=3.1.29,>=1.0.0->wandb) (5.0.1)\n"
          ]
        }
      ]
    },
    {
      "cell_type": "code",
      "execution_count": 3,
      "metadata": {
        "id": "qOc0tT3-nv73",
        "colab": {
          "base_uri": "https://localhost:8080/",
          "height": 232
        },
        "outputId": "eee388e3-8281-467e-dbbf-a0f3fd4cfbe0"
      },
      "outputs": [
        {
          "output_type": "stream",
          "name": "stderr",
          "text": [
            "\u001b[34m\u001b[1mwandb\u001b[0m: Using wandb-core as the SDK backend. Please refer to https://wandb.me/wandb-core for more information.\n"
          ]
        },
        {
          "output_type": "display_data",
          "data": {
            "text/plain": [
              "<IPython.core.display.Javascript object>"
            ],
            "application/javascript": [
              "\n",
              "        window._wandbApiKey = new Promise((resolve, reject) => {\n",
              "            function loadScript(url) {\n",
              "            return new Promise(function(resolve, reject) {\n",
              "                let newScript = document.createElement(\"script\");\n",
              "                newScript.onerror = reject;\n",
              "                newScript.onload = resolve;\n",
              "                document.body.appendChild(newScript);\n",
              "                newScript.src = url;\n",
              "            });\n",
              "            }\n",
              "            loadScript(\"https://cdn.jsdelivr.net/npm/postmate/build/postmate.min.js\").then(() => {\n",
              "            const iframe = document.createElement('iframe')\n",
              "            iframe.style.cssText = \"width:0;height:0;border:none\"\n",
              "            document.body.appendChild(iframe)\n",
              "            const handshake = new Postmate({\n",
              "                container: iframe,\n",
              "                url: 'https://wandb.ai/authorize'\n",
              "            });\n",
              "            const timeout = setTimeout(() => reject(\"Couldn't auto authenticate\"), 5000)\n",
              "            handshake.then(function(child) {\n",
              "                child.on('authorize', data => {\n",
              "                    clearTimeout(timeout)\n",
              "                    resolve(data)\n",
              "                });\n",
              "            });\n",
              "            })\n",
              "        });\n",
              "    "
            ]
          },
          "metadata": {}
        },
        {
          "output_type": "stream",
          "name": "stderr",
          "text": [
            "\u001b[34m\u001b[1mwandb\u001b[0m: Logging into wandb.ai. (Learn how to deploy a W&B server locally: https://wandb.me/wandb-server)\n",
            "\u001b[34m\u001b[1mwandb\u001b[0m: You can find your API key in your browser here: https://wandb.ai/authorize\n",
            "wandb: Paste an API key from your profile and hit enter, or press ctrl+c to quit:"
          ]
        },
        {
          "name": "stdout",
          "output_type": "stream",
          "text": [
            " ··········\n"
          ]
        },
        {
          "output_type": "stream",
          "name": "stderr",
          "text": [
            "\u001b[34m\u001b[1mwandb\u001b[0m: Appending key for api.wandb.ai to your netrc file: /root/.netrc\n"
          ]
        },
        {
          "output_type": "display_data",
          "data": {
            "text/plain": [
              "<IPython.core.display.HTML object>"
            ],
            "text/html": [
              "Tracking run with wandb version 0.18.5"
            ]
          },
          "metadata": {}
        },
        {
          "output_type": "display_data",
          "data": {
            "text/plain": [
              "<IPython.core.display.HTML object>"
            ],
            "text/html": [
              "Run data is saved locally in <code>/content/wandb/run-20241025_101417-2pf0uhw3</code>"
            ]
          },
          "metadata": {}
        },
        {
          "output_type": "display_data",
          "data": {
            "text/plain": [
              "<IPython.core.display.HTML object>"
            ],
            "text/html": [
              "Syncing run <strong><a href='https://wandb.ai/parkdoi-gachon-university/CUB_Transfer_Learning/runs/2pf0uhw3' target=\"_blank\">ResNet18_with_RAdam and OneCycleLR</a></strong> to <a href='https://wandb.ai/parkdoi-gachon-university/CUB_Transfer_Learning' target=\"_blank\">Weights & Biases</a> (<a href='https://wandb.me/run' target=\"_blank\">docs</a>)<br/>"
            ]
          },
          "metadata": {}
        },
        {
          "output_type": "display_data",
          "data": {
            "text/plain": [
              "<IPython.core.display.HTML object>"
            ],
            "text/html": [
              " View project at <a href='https://wandb.ai/parkdoi-gachon-university/CUB_Transfer_Learning' target=\"_blank\">https://wandb.ai/parkdoi-gachon-university/CUB_Transfer_Learning</a>"
            ]
          },
          "metadata": {}
        },
        {
          "output_type": "display_data",
          "data": {
            "text/plain": [
              "<IPython.core.display.HTML object>"
            ],
            "text/html": [
              " View run at <a href='https://wandb.ai/parkdoi-gachon-university/CUB_Transfer_Learning/runs/2pf0uhw3' target=\"_blank\">https://wandb.ai/parkdoi-gachon-university/CUB_Transfer_Learning/runs/2pf0uhw3</a>"
            ]
          },
          "metadata": {}
        },
        {
          "output_type": "stream",
          "name": "stdout",
          "text": [
            "cuda\n"
          ]
        }
      ],
      "source": [
        "import os\n",
        "import time\n",
        "\n",
        "import torch\n",
        "import torchvision.transforms as transforms\n",
        "import torchvision.models as models\n",
        "from torch.utils.data import Dataset, DataLoader\n",
        "\n",
        "import torch.optim as optim\n",
        "import torch.nn as nn\n",
        "import torch.nn.functional as F\n",
        "\n",
        "import wandb\n",
        "\n",
        "# radam 사용\n",
        "from radam import RAdam\n",
        "\n",
        "# 스케줄러 사용\n",
        "from torch.optim.lr_scheduler import OneCycleLR\n",
        "\n",
        "from PIL import Image\n",
        "#내가 추가\n",
        "import re\n",
        "\n",
        "# wandb 설정 (오프라인 모드로 실행)\n",
        "wandb.init(project=\"CUB_Transfer_Learning\", name=\"ResNet18_with_RAdam and OneCycleLR\")\n",
        "\n",
        "### GPU Setting ###\n",
        "USE_CUDA = torch.cuda.is_available()\n",
        "DEVICE = torch.device(\"cuda\" if USE_CUDA else \"cpu\")\n",
        "print(DEVICE)"
      ]
    },
    {
      "cell_type": "code",
      "source": [
        "### Custom Dataset ###\n",
        "class CUB2011(Dataset):\n",
        "  def __init__(self, transform, mode='train'):\n",
        "    self.transform = transform\n",
        "    self.mode = mode\n",
        "\n",
        "    if self.mode == 'train':\n",
        "      self.image_folder = os.listdir('/content/gdrive/MyDrive/CUB_200_2011_repackage_class50/datasets/train')\n",
        "    elif self.mode == 'valid':\n",
        "      self.image_folder = os.listdir('/content/gdrive/MyDrive/CUB_200_2011_repackage_class50/datasets/valid')\n",
        "    elif self.mode == 'test':\n",
        "      self.image_folder = os.listdir('/content/gdrive/MyDrive/CUB_200_2011_repackage_class50/datasets/test')\n",
        "\n",
        "  def __len__(self):\n",
        "    return len(self.image_folder)\n",
        "\n",
        "  def __getitem__(self, idx):\n",
        "    img_path = self.image_folder[idx]\n",
        "    img = Image.open(os.path.join('/content/gdrive/MyDrive/CUB_200_2011_repackage_class50/datasets', self.mode, img_path)).convert('RGB')\n",
        "    img = self.transform(img)\n",
        "    label = img_path.split('_')[-1].split('.')[0]\n",
        "    label = re.sub(r'\\([^)]*\\)', '', label)\n",
        "    label = int(label)\n",
        "    return (img, label)"
      ],
      "metadata": {
        "id": "KaFgjkFp8tzI"
      },
      "execution_count": 4,
      "outputs": []
    },
    {
      "cell_type": "code",
      "source": [
        "### Data Preprocessing ###\n",
        "\n",
        "transforms_train = transforms.Compose([transforms.Resize((448,448)),\n",
        "                                       transforms.ToTensor()])\n",
        "transforms_valtest = transforms.Compose([transforms.Resize((448,448)),\n",
        "                                         transforms.ToTensor()])\n",
        "\n",
        "BATCH_SIZE = 32\n",
        "train_set = CUB2011(mode='train',\n",
        "                    transform=transforms_train)\n",
        "# transforms_train을 transforms_valtest로 변경\n",
        "val_set = CUB2011(mode='valid',\n",
        "                  transform=transforms_valtest)\n",
        "test_set = CUB2011(mode='test',\n",
        "                  transform=transforms_valtest)\n",
        "\n",
        "print('Num of each dataset: ',len(train_set),len(val_set),len(test_set))\n",
        "\n",
        "train_loader = DataLoader(train_set,batch_size=BATCH_SIZE,shuffle=True)\n",
        "val_loader = DataLoader(val_set,batch_size=BATCH_SIZE,shuffle=False)\n",
        "test_loader = DataLoader(test_set,batch_size=BATCH_SIZE,shuffle=False)\n",
        "\n",
        "print(\"Loaded dataloader\")\n",
        "\n",
        "### Model / Optimizer ###\n",
        "EPOCH = 25\n",
        "lr = 0.0001\n",
        "\n",
        "model = models.resnet18(pretrained=True)\n",
        "\n",
        "### Tranfer Learning ###\n",
        "num_features = model.fc.in_features\n",
        "model.fc = nn.Linear(num_features,50)\n",
        "model.to(DEVICE)\n",
        "\n",
        "optimizer = optim.RAdam(model.parameters(),lr=lr)\n",
        "\n",
        "# 스케줄러 초기화 (주기와 최소/최대 학습률 설정)\n",
        "scheduler = OneCycleLR(optimizer, max_lr=0.01, steps_per_epoch=len(train_loader), epochs=EPOCH)\n",
        "\n",
        "print(\"Created a learning model and optimizer\")"
      ],
      "metadata": {
        "colab": {
          "base_uri": "https://localhost:8080/"
        },
        "id": "38vx5jj22neg",
        "outputId": "f3839ed5-2ef1-4e2e-866c-e43bb0f74edf"
      },
      "execution_count": 6,
      "outputs": [
        {
          "output_type": "stream",
          "name": "stdout",
          "text": [
            "Num of each dataset:  2360 296 298\n",
            "Loaded dataloader\n",
            "Created a learning model and optimizer\n"
          ]
        }
      ]
    },
    {
      "cell_type": "code",
      "source": [
        "### Train/Evaluation ###\n",
        "def train(model,train_loader,optimizer,epoch):\n",
        "  model.train()\n",
        "  for i,(image,target) in enumerate(train_loader):\n",
        "    image,target = image.to(DEVICE),target.to(DEVICE)\n",
        "    output = model(image)\n",
        "    optimizer.zero_grad()\n",
        "    train_loss = F.cross_entropy(output,target).to(DEVICE)\n",
        "\n",
        "    train_loss.backward()\n",
        "    optimizer.step()\n",
        "\n",
        "    # 스케줄러 업데이트\n",
        "    scheduler.step()\n",
        "\n",
        "    if i%10 ==0:\n",
        "      print(\n",
        "          f'Train Epoch: {epoch} [{i}/{len(train_loader)}]\\tloss: {train_loss.item():6f}')\n",
        "\n",
        "  return train_loss\n",
        "\n",
        "def evaluate(model,val_loader):\n",
        "  model.eval()\n",
        "  eval_loss = 0\n",
        "  correct = 0\n",
        "  with torch.no_grad():\n",
        "    for i,(image,target) in enumerate(val_loader):\n",
        "      image,target = image.to(DEVICE),target.to(DEVICE)\n",
        "      output = model(image)\n",
        "\n",
        "      eval_loss += F.cross_entropy(output,target, reduction='sum').item()\n",
        "      pred = output.max(1,keepdim=True)[1]\n",
        "      correct += pred.eq(target.view_as(pred)).sum().item()\n",
        "\n",
        "  eval_loss /= len(val_loader.dataset)\n",
        "  eval_accuracy = 100*correct / len(val_loader.dataset)\n",
        "  return eval_loss,eval_accuracy"
      ],
      "metadata": {
        "id": "apDhVk6C2r7R"
      },
      "execution_count": 7,
      "outputs": []
    },
    {
      "cell_type": "code",
      "source": [
        "### Main ###\n",
        "start = time.time()\n",
        "best = 0\n",
        "for epoch in range(EPOCH):\n",
        "    train_loss = train(model, train_loader, optimizer, epoch)\n",
        "    val_loss, val_accuracy = evaluate(model, val_loader)\n",
        "\n",
        "    # wandb 로그 기록\n",
        "    wandb.log({\n",
        "        'Epoch': epoch,\n",
        "        'Train Loss': train_loss,\n",
        "        'Validation Loss': val_loss,\n",
        "        'Validation Accuracy': val_accuracy\n",
        "    })\n",
        "\n",
        "    # Save best model\n",
        "    if val_accuracy > best:\n",
        "        best = val_accuracy\n",
        "        torch.save(model.state_dict(), \"./best_model.pth\")\n",
        "\n",
        "    print(f\"[{epoch}] Validation Loss: {val_loss:.4f}, Accuracy: {val_accuracy:.4f}%\")\n",
        "\n",
        "# Test result\n",
        "test_loss, test_accuracy = evaluate(model, test_loader)\n",
        "print(f'[FINAL] Test Loss: {test_loss:.4f}, Accuracy: {test_accuracy:.4f}%')\n",
        "\n",
        "# wandb 테스트 결과 로그 기록\n",
        "wandb.log({\n",
        "    'Test Loss': test_loss,\n",
        "    'Test Accuracy': test_accuracy\n",
        "})\n",
        "\n",
        "end = time.time()\n",
        "elapsed_time = end - start\n",
        "\n",
        "print(\"Best Accuracy: \", best)\n",
        "print(f\"Elapsed Time: {int(elapsed_time / 3600)}h, {int(elapsed_time / 60)}m, {int(elapsed_time % 60)}s\")\n",
        "\n",
        "wandb.finish()"
      ],
      "metadata": {
        "colab": {
          "base_uri": "https://localhost:8080/",
          "height": 1000
        },
        "id": "VNhSTX452wyd",
        "outputId": "c699bd7e-a9f9-4d2c-f525-19cf9a0410b9"
      },
      "execution_count": 8,
      "outputs": [
        {
          "output_type": "stream",
          "name": "stdout",
          "text": [
            "Train Epoch: 0 [0/74]\tloss: 4.127928\n",
            "Train Epoch: 0 [10/74]\tloss: 3.877174\n",
            "Train Epoch: 0 [20/74]\tloss: 3.910882\n",
            "Train Epoch: 0 [30/74]\tloss: 3.839757\n",
            "Train Epoch: 0 [40/74]\tloss: 3.590943\n",
            "Train Epoch: 0 [50/74]\tloss: 3.366132\n",
            "Train Epoch: 0 [60/74]\tloss: 3.159301\n",
            "Train Epoch: 0 [70/74]\tloss: 2.940946\n",
            "[0] Validation Loss: 2.6115, Accuracy: 49.3243%\n",
            "Train Epoch: 1 [0/74]\tloss: 2.490503\n",
            "Train Epoch: 1 [10/74]\tloss: 2.203610\n",
            "Train Epoch: 1 [20/74]\tloss: 2.004042\n",
            "Train Epoch: 1 [30/74]\tloss: 1.827127\n",
            "Train Epoch: 1 [40/74]\tloss: 1.769604\n",
            "Train Epoch: 1 [50/74]\tloss: 1.625119\n",
            "Train Epoch: 1 [60/74]\tloss: 1.306955\n",
            "Train Epoch: 1 [70/74]\tloss: 0.894829\n",
            "[1] Validation Loss: 1.3826, Accuracy: 66.2162%\n",
            "Train Epoch: 2 [0/74]\tloss: 0.638284\n",
            "Train Epoch: 2 [10/74]\tloss: 0.539042\n",
            "Train Epoch: 2 [20/74]\tloss: 0.640401\n",
            "Train Epoch: 2 [30/74]\tloss: 0.653924\n",
            "Train Epoch: 2 [40/74]\tloss: 0.784776\n",
            "Train Epoch: 2 [50/74]\tloss: 0.686431\n",
            "Train Epoch: 2 [60/74]\tloss: 1.017504\n",
            "Train Epoch: 2 [70/74]\tloss: 1.256903\n",
            "[2] Validation Loss: 5.2577, Accuracy: 18.5811%\n",
            "Train Epoch: 3 [0/74]\tloss: 0.712307\n",
            "Train Epoch: 3 [10/74]\tloss: 0.845757\n",
            "Train Epoch: 3 [20/74]\tloss: 0.964180\n",
            "Train Epoch: 3 [30/74]\tloss: 1.575557\n",
            "Train Epoch: 3 [40/74]\tloss: 1.671136\n",
            "Train Epoch: 3 [50/74]\tloss: 1.179641\n",
            "Train Epoch: 3 [60/74]\tloss: 1.482871\n",
            "Train Epoch: 3 [70/74]\tloss: 1.614731\n",
            "[3] Validation Loss: 3.7024, Accuracy: 21.2838%\n",
            "Train Epoch: 4 [0/74]\tloss: 1.218468\n",
            "Train Epoch: 4 [10/74]\tloss: 1.352017\n",
            "Train Epoch: 4 [20/74]\tloss: 1.522227\n",
            "Train Epoch: 4 [30/74]\tloss: 1.663364\n",
            "Train Epoch: 4 [40/74]\tloss: 1.692416\n",
            "Train Epoch: 4 [50/74]\tloss: 1.522607\n",
            "Train Epoch: 4 [60/74]\tloss: 1.785589\n",
            "Train Epoch: 4 [70/74]\tloss: 1.872924\n",
            "[4] Validation Loss: 4.5662, Accuracy: 21.6216%\n",
            "Train Epoch: 5 [0/74]\tloss: 1.575859\n",
            "Train Epoch: 5 [10/74]\tloss: 1.214753\n",
            "Train Epoch: 5 [20/74]\tloss: 1.307200\n",
            "Train Epoch: 5 [30/74]\tloss: 1.304152\n",
            "Train Epoch: 5 [40/74]\tloss: 1.602468\n",
            "Train Epoch: 5 [50/74]\tloss: 1.006760\n",
            "Train Epoch: 5 [60/74]\tloss: 1.896056\n",
            "Train Epoch: 5 [70/74]\tloss: 0.863131\n",
            "[5] Validation Loss: 4.4908, Accuracy: 26.6892%\n",
            "Train Epoch: 6 [0/74]\tloss: 0.957959\n",
            "Train Epoch: 6 [10/74]\tloss: 1.373268\n",
            "Train Epoch: 6 [20/74]\tloss: 1.276268\n",
            "Train Epoch: 6 [30/74]\tloss: 1.901146\n",
            "Train Epoch: 6 [40/74]\tloss: 1.459902\n",
            "Train Epoch: 6 [50/74]\tloss: 1.548199\n",
            "Train Epoch: 6 [60/74]\tloss: 1.194225\n",
            "Train Epoch: 6 [70/74]\tloss: 1.660723\n",
            "[6] Validation Loss: 4.0557, Accuracy: 17.2297%\n",
            "Train Epoch: 7 [0/74]\tloss: 1.168397\n",
            "Train Epoch: 7 [10/74]\tloss: 0.504256\n",
            "Train Epoch: 7 [20/74]\tloss: 1.224338\n",
            "Train Epoch: 7 [30/74]\tloss: 0.669534\n",
            "Train Epoch: 7 [40/74]\tloss: 0.984899\n",
            "Train Epoch: 7 [50/74]\tloss: 0.449529\n",
            "Train Epoch: 7 [60/74]\tloss: 0.591603\n",
            "Train Epoch: 7 [70/74]\tloss: 0.880567\n",
            "[7] Validation Loss: 2.0832, Accuracy: 47.6351%\n",
            "Train Epoch: 8 [0/74]\tloss: 0.648425\n",
            "Train Epoch: 8 [10/74]\tloss: 0.522016\n",
            "Train Epoch: 8 [20/74]\tloss: 0.908623\n",
            "Train Epoch: 8 [30/74]\tloss: 0.812077\n",
            "Train Epoch: 8 [40/74]\tloss: 0.504654\n",
            "Train Epoch: 8 [50/74]\tloss: 0.347731\n",
            "Train Epoch: 8 [60/74]\tloss: 0.692683\n",
            "Train Epoch: 8 [70/74]\tloss: 0.524871\n",
            "[8] Validation Loss: 2.6740, Accuracy: 42.5676%\n",
            "Train Epoch: 9 [0/74]\tloss: 0.373866\n",
            "Train Epoch: 9 [10/74]\tloss: 0.558192\n",
            "Train Epoch: 9 [20/74]\tloss: 0.541813\n",
            "Train Epoch: 9 [30/74]\tloss: 0.337193\n",
            "Train Epoch: 9 [40/74]\tloss: 0.708052\n",
            "Train Epoch: 9 [50/74]\tloss: 0.503262\n",
            "Train Epoch: 9 [60/74]\tloss: 0.297584\n",
            "Train Epoch: 9 [70/74]\tloss: 0.557165\n",
            "[9] Validation Loss: 3.3060, Accuracy: 44.5946%\n",
            "Train Epoch: 10 [0/74]\tloss: 0.537986\n",
            "Train Epoch: 10 [10/74]\tloss: 0.591070\n",
            "Train Epoch: 10 [20/74]\tloss: 0.325865\n",
            "Train Epoch: 10 [30/74]\tloss: 0.947098\n",
            "Train Epoch: 10 [40/74]\tloss: 0.949383\n",
            "Train Epoch: 10 [50/74]\tloss: 0.380214\n",
            "Train Epoch: 10 [60/74]\tloss: 1.072394\n",
            "Train Epoch: 10 [70/74]\tloss: 0.475257\n",
            "[10] Validation Loss: 3.4426, Accuracy: 44.5946%\n",
            "Train Epoch: 11 [0/74]\tloss: 0.638079\n",
            "Train Epoch: 11 [10/74]\tloss: 0.759983\n",
            "Train Epoch: 11 [20/74]\tloss: 0.445381\n",
            "Train Epoch: 11 [30/74]\tloss: 1.501923\n",
            "Train Epoch: 11 [40/74]\tloss: 0.278162\n",
            "Train Epoch: 11 [50/74]\tloss: 0.657188\n",
            "Train Epoch: 11 [60/74]\tloss: 0.545603\n",
            "Train Epoch: 11 [70/74]\tloss: 0.171466\n",
            "[11] Validation Loss: 2.1430, Accuracy: 54.7297%\n",
            "Train Epoch: 12 [0/74]\tloss: 0.242848\n",
            "Train Epoch: 12 [10/74]\tloss: 0.112125\n",
            "Train Epoch: 12 [20/74]\tloss: 0.169555\n",
            "Train Epoch: 12 [30/74]\tloss: 0.212187\n",
            "Train Epoch: 12 [40/74]\tloss: 0.243154\n",
            "Train Epoch: 12 [50/74]\tloss: 0.297997\n",
            "Train Epoch: 12 [60/74]\tloss: 0.124629\n",
            "Train Epoch: 12 [70/74]\tloss: 0.095504\n",
            "[12] Validation Loss: 1.2867, Accuracy: 65.5405%\n",
            "Train Epoch: 13 [0/74]\tloss: 0.037761\n",
            "Train Epoch: 13 [10/74]\tloss: 0.082200\n",
            "Train Epoch: 13 [20/74]\tloss: 0.007149\n",
            "Train Epoch: 13 [30/74]\tloss: 0.054118\n",
            "Train Epoch: 13 [40/74]\tloss: 0.073490\n",
            "Train Epoch: 13 [50/74]\tloss: 0.061720\n",
            "Train Epoch: 13 [60/74]\tloss: 0.064502\n",
            "Train Epoch: 13 [70/74]\tloss: 0.033206\n",
            "[13] Validation Loss: 0.9509, Accuracy: 73.3108%\n",
            "Train Epoch: 14 [0/74]\tloss: 0.025734\n",
            "Train Epoch: 14 [10/74]\tloss: 0.044107\n",
            "Train Epoch: 14 [20/74]\tloss: 0.065046\n",
            "Train Epoch: 14 [30/74]\tloss: 0.082333\n",
            "Train Epoch: 14 [40/74]\tloss: 0.079747\n",
            "Train Epoch: 14 [50/74]\tloss: 0.020839\n",
            "Train Epoch: 14 [60/74]\tloss: 0.099357\n",
            "Train Epoch: 14 [70/74]\tloss: 0.036035\n",
            "[14] Validation Loss: 0.8915, Accuracy: 79.3919%\n",
            "Train Epoch: 15 [0/74]\tloss: 0.007605\n",
            "Train Epoch: 15 [10/74]\tloss: 0.002378\n",
            "Train Epoch: 15 [20/74]\tloss: 0.009500\n",
            "Train Epoch: 15 [30/74]\tloss: 0.027893\n",
            "Train Epoch: 15 [40/74]\tloss: 0.011995\n",
            "Train Epoch: 15 [50/74]\tloss: 0.009611\n",
            "Train Epoch: 15 [60/74]\tloss: 0.013376\n",
            "Train Epoch: 15 [70/74]\tloss: 0.234527\n",
            "[15] Validation Loss: 0.8317, Accuracy: 77.7027%\n",
            "Train Epoch: 16 [0/74]\tloss: 0.001773\n",
            "Train Epoch: 16 [10/74]\tloss: 0.001726\n",
            "Train Epoch: 16 [20/74]\tloss: 0.003419\n",
            "Train Epoch: 16 [30/74]\tloss: 0.001668\n",
            "Train Epoch: 16 [40/74]\tloss: 0.004661\n",
            "Train Epoch: 16 [50/74]\tloss: 0.001537\n",
            "Train Epoch: 16 [60/74]\tloss: 0.001676\n",
            "Train Epoch: 16 [70/74]\tloss: 0.002598\n",
            "[16] Validation Loss: 0.7763, Accuracy: 79.0541%\n",
            "Train Epoch: 17 [0/74]\tloss: 0.001955\n",
            "Train Epoch: 17 [10/74]\tloss: 0.001620\n",
            "Train Epoch: 17 [20/74]\tloss: 0.001975\n",
            "Train Epoch: 17 [30/74]\tloss: 0.000494\n",
            "Train Epoch: 17 [40/74]\tloss: 0.000812\n",
            "Train Epoch: 17 [50/74]\tloss: 0.001189\n",
            "Train Epoch: 17 [60/74]\tloss: 0.002091\n",
            "Train Epoch: 17 [70/74]\tloss: 0.002079\n",
            "[17] Validation Loss: 0.7678, Accuracy: 81.0811%\n",
            "Train Epoch: 18 [0/74]\tloss: 0.001605\n",
            "Train Epoch: 18 [10/74]\tloss: 0.000723\n",
            "Train Epoch: 18 [20/74]\tloss: 0.002736\n",
            "Train Epoch: 18 [30/74]\tloss: 0.001370\n",
            "Train Epoch: 18 [40/74]\tloss: 0.001304\n",
            "Train Epoch: 18 [50/74]\tloss: 0.002481\n",
            "Train Epoch: 18 [60/74]\tloss: 0.001862\n",
            "Train Epoch: 18 [70/74]\tloss: 0.001776\n",
            "[18] Validation Loss: 0.7153, Accuracy: 81.7568%\n",
            "Train Epoch: 19 [0/74]\tloss: 0.001451\n",
            "Train Epoch: 19 [10/74]\tloss: 0.000471\n",
            "Train Epoch: 19 [20/74]\tloss: 0.000684\n",
            "Train Epoch: 19 [30/74]\tloss: 0.007332\n",
            "Train Epoch: 19 [40/74]\tloss: 0.001116\n",
            "Train Epoch: 19 [50/74]\tloss: 0.001134\n",
            "Train Epoch: 19 [60/74]\tloss: 0.000690\n",
            "Train Epoch: 19 [70/74]\tloss: 0.000689\n",
            "[19] Validation Loss: 0.7086, Accuracy: 81.4189%\n",
            "Train Epoch: 20 [0/74]\tloss: 0.000560\n",
            "Train Epoch: 20 [10/74]\tloss: 0.001758\n",
            "Train Epoch: 20 [20/74]\tloss: 0.000927\n",
            "Train Epoch: 20 [30/74]\tloss: 0.000798\n",
            "Train Epoch: 20 [40/74]\tloss: 0.000619\n",
            "Train Epoch: 20 [50/74]\tloss: 0.000638\n",
            "Train Epoch: 20 [60/74]\tloss: 0.002141\n",
            "Train Epoch: 20 [70/74]\tloss: 0.000755\n",
            "[20] Validation Loss: 0.7208, Accuracy: 81.0811%\n",
            "Train Epoch: 21 [0/74]\tloss: 0.000789\n",
            "Train Epoch: 21 [10/74]\tloss: 0.001023\n",
            "Train Epoch: 21 [20/74]\tloss: 0.000384\n",
            "Train Epoch: 21 [30/74]\tloss: 0.001037\n",
            "Train Epoch: 21 [40/74]\tloss: 0.001085\n",
            "Train Epoch: 21 [50/74]\tloss: 0.001245\n",
            "Train Epoch: 21 [60/74]\tloss: 0.001568\n",
            "Train Epoch: 21 [70/74]\tloss: 0.001286\n",
            "[21] Validation Loss: 0.7137, Accuracy: 81.0811%\n",
            "Train Epoch: 22 [0/74]\tloss: 0.000966\n",
            "Train Epoch: 22 [10/74]\tloss: 0.000717\n",
            "Train Epoch: 22 [20/74]\tloss: 0.000491\n",
            "Train Epoch: 22 [30/74]\tloss: 0.000405\n",
            "Train Epoch: 22 [40/74]\tloss: 0.000968\n",
            "Train Epoch: 22 [50/74]\tloss: 0.000798\n",
            "Train Epoch: 22 [60/74]\tloss: 0.001166\n",
            "Train Epoch: 22 [70/74]\tloss: 0.000465\n",
            "[22] Validation Loss: 0.7237, Accuracy: 80.7432%\n",
            "Train Epoch: 23 [0/74]\tloss: 0.000942\n",
            "Train Epoch: 23 [10/74]\tloss: 0.000973\n",
            "Train Epoch: 23 [20/74]\tloss: 0.000687\n",
            "Train Epoch: 23 [30/74]\tloss: 0.000711\n",
            "Train Epoch: 23 [40/74]\tloss: 0.000456\n",
            "Train Epoch: 23 [50/74]\tloss: 0.001278\n",
            "Train Epoch: 23 [60/74]\tloss: 0.000310\n",
            "Train Epoch: 23 [70/74]\tloss: 0.000866\n",
            "[23] Validation Loss: 0.7293, Accuracy: 81.4189%\n",
            "Train Epoch: 24 [0/74]\tloss: 0.000622\n",
            "Train Epoch: 24 [10/74]\tloss: 0.000423\n",
            "Train Epoch: 24 [20/74]\tloss: 0.000854\n",
            "Train Epoch: 24 [30/74]\tloss: 0.000484\n",
            "Train Epoch: 24 [40/74]\tloss: 0.000971\n",
            "Train Epoch: 24 [50/74]\tloss: 0.000918\n",
            "Train Epoch: 24 [60/74]\tloss: 0.000593\n",
            "Train Epoch: 24 [70/74]\tloss: 0.000774\n",
            "[24] Validation Loss: 0.7375, Accuracy: 80.7432%\n",
            "[FINAL] Test Loss: 0.8838, Accuracy: 77.1812%\n",
            "Best Accuracy:  81.75675675675676\n",
            "Elapsed Time: 0h, 21m, 12s\n"
          ]
        },
        {
          "output_type": "display_data",
          "data": {
            "text/plain": [
              "<IPython.core.display.HTML object>"
            ],
            "text/html": [
              "<style>\n",
              "    table.wandb td:nth-child(1) { padding: 0 10px; text-align: left ; width: auto;} td:nth-child(2) {text-align: left ; width: 100%}\n",
              "    .wandb-row { display: flex; flex-direction: row; flex-wrap: wrap; justify-content: flex-start; width: 100% }\n",
              "    .wandb-col { display: flex; flex-direction: column; flex-basis: 100%; flex: 1; padding: 10px; }\n",
              "    </style>\n",
              "<div class=\"wandb-row\"><div class=\"wandb-col\"><h3>Run history:</h3><br/><table class=\"wandb\"><tr><td>Epoch</td><td>▁▁▂▂▂▂▃▃▃▄▄▄▅▅▅▅▆▆▆▇▇▇▇██</td></tr><tr><td>Test Accuracy</td><td>▁</td></tr><tr><td>Test Loss</td><td>▁</td></tr><tr><td>Train Loss</td><td>█▄▄▅▅▆▅▅▃▃▅▂▁▁▁▁▁▁▁▁▁▁▁▁▁</td></tr><tr><td>Validation Accuracy</td><td>▄▆▁▁▁▂▁▄▄▄▄▅▆▇███████████</td></tr><tr><td>Validation Loss</td><td>▄▂█▆▇▇▆▃▄▅▅▃▂▁▁▁▁▁▁▁▁▁▁▁▁</td></tr></table><br/></div><div class=\"wandb-col\"><h3>Run summary:</h3><br/><table class=\"wandb\"><tr><td>Epoch</td><td>24</td></tr><tr><td>Test Accuracy</td><td>77.18121</td></tr><tr><td>Test Loss</td><td>0.88376</td></tr><tr><td>Train Loss</td><td>0.0006</td></tr><tr><td>Validation Accuracy</td><td>80.74324</td></tr><tr><td>Validation Loss</td><td>0.73746</td></tr></table><br/></div></div>"
            ]
          },
          "metadata": {}
        },
        {
          "output_type": "display_data",
          "data": {
            "text/plain": [
              "<IPython.core.display.HTML object>"
            ],
            "text/html": [
              " View run <strong style=\"color:#cdcd00\">ResNet18_with_RAdam and OneCycleLR</strong> at: <a href='https://wandb.ai/parkdoi-gachon-university/CUB_Transfer_Learning/runs/2pf0uhw3' target=\"_blank\">https://wandb.ai/parkdoi-gachon-university/CUB_Transfer_Learning/runs/2pf0uhw3</a><br/> View project at: <a href='https://wandb.ai/parkdoi-gachon-university/CUB_Transfer_Learning' target=\"_blank\">https://wandb.ai/parkdoi-gachon-university/CUB_Transfer_Learning</a><br/>Synced 5 W&B file(s), 0 media file(s), 0 artifact file(s) and 0 other file(s)"
            ]
          },
          "metadata": {}
        },
        {
          "output_type": "display_data",
          "data": {
            "text/plain": [
              "<IPython.core.display.HTML object>"
            ],
            "text/html": [
              "Find logs at: <code>./wandb/run-20241025_101417-2pf0uhw3/logs</code>"
            ]
          },
          "metadata": {}
        }
      ]
    }
  ]
}