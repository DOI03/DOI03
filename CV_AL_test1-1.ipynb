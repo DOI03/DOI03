{
  "nbformat": 4,
  "nbformat_minor": 0,
  "metadata": {
    "colab": {
      "provenance": [],
      "gpuType": "T4",
      "include_colab_link": true
    },
    "kernelspec": {
      "name": "python3",
      "display_name": "Python 3"
    },
    "language_info": {
      "name": "python"
    },
    "accelerator": "GPU",
    "widgets": {
      "application/vnd.jupyter.widget-state+json": {
        "f0f98bc3df6f495eaf568a6cbd8ddfb6": {
          "model_module": "@jupyter-widgets/controls",
          "model_name": "VBoxModel",
          "model_module_version": "1.5.0",
          "state": {
            "_dom_classes": [],
            "_model_module": "@jupyter-widgets/controls",
            "_model_module_version": "1.5.0",
            "_model_name": "VBoxModel",
            "_view_count": null,
            "_view_module": "@jupyter-widgets/controls",
            "_view_module_version": "1.5.0",
            "_view_name": "VBoxView",
            "box_style": "",
            "children": [
              "IPY_MODEL_dbbeb9e610ef4408a5fc87940c260854",
              "IPY_MODEL_8ae027e8404a42d3820e3eb6d5df78cb"
            ],
            "layout": "IPY_MODEL_97aefe220f8a44beb2559c43c22005c9"
          }
        },
        "dbbeb9e610ef4408a5fc87940c260854": {
          "model_module": "@jupyter-widgets/controls",
          "model_name": "LabelModel",
          "model_module_version": "1.5.0",
          "state": {
            "_dom_classes": [],
            "_model_module": "@jupyter-widgets/controls",
            "_model_module_version": "1.5.0",
            "_model_name": "LabelModel",
            "_view_count": null,
            "_view_module": "@jupyter-widgets/controls",
            "_view_module_version": "1.5.0",
            "_view_name": "LabelView",
            "description": "",
            "description_tooltip": null,
            "layout": "IPY_MODEL_f0ce7248be3646d2b87824399dff6c66",
            "placeholder": "​",
            "style": "IPY_MODEL_a42c1cf0bd054fcc8d62b1a12dcf88a9",
            "value": "0.023 MB of 0.023 MB uploaded\r"
          }
        },
        "8ae027e8404a42d3820e3eb6d5df78cb": {
          "model_module": "@jupyter-widgets/controls",
          "model_name": "FloatProgressModel",
          "model_module_version": "1.5.0",
          "state": {
            "_dom_classes": [],
            "_model_module": "@jupyter-widgets/controls",
            "_model_module_version": "1.5.0",
            "_model_name": "FloatProgressModel",
            "_view_count": null,
            "_view_module": "@jupyter-widgets/controls",
            "_view_module_version": "1.5.0",
            "_view_name": "ProgressView",
            "bar_style": "",
            "description": "",
            "description_tooltip": null,
            "layout": "IPY_MODEL_315b598aa5bc40bd929428b8a41838ae",
            "max": 1,
            "min": 0,
            "orientation": "horizontal",
            "style": "IPY_MODEL_e7a49f2ab72140378bbe893bc8140b34",
            "value": 1
          }
        },
        "97aefe220f8a44beb2559c43c22005c9": {
          "model_module": "@jupyter-widgets/base",
          "model_name": "LayoutModel",
          "model_module_version": "1.2.0",
          "state": {
            "_model_module": "@jupyter-widgets/base",
            "_model_module_version": "1.2.0",
            "_model_name": "LayoutModel",
            "_view_count": null,
            "_view_module": "@jupyter-widgets/base",
            "_view_module_version": "1.2.0",
            "_view_name": "LayoutView",
            "align_content": null,
            "align_items": null,
            "align_self": null,
            "border": null,
            "bottom": null,
            "display": null,
            "flex": null,
            "flex_flow": null,
            "grid_area": null,
            "grid_auto_columns": null,
            "grid_auto_flow": null,
            "grid_auto_rows": null,
            "grid_column": null,
            "grid_gap": null,
            "grid_row": null,
            "grid_template_areas": null,
            "grid_template_columns": null,
            "grid_template_rows": null,
            "height": null,
            "justify_content": null,
            "justify_items": null,
            "left": null,
            "margin": null,
            "max_height": null,
            "max_width": null,
            "min_height": null,
            "min_width": null,
            "object_fit": null,
            "object_position": null,
            "order": null,
            "overflow": null,
            "overflow_x": null,
            "overflow_y": null,
            "padding": null,
            "right": null,
            "top": null,
            "visibility": null,
            "width": null
          }
        },
        "f0ce7248be3646d2b87824399dff6c66": {
          "model_module": "@jupyter-widgets/base",
          "model_name": "LayoutModel",
          "model_module_version": "1.2.0",
          "state": {
            "_model_module": "@jupyter-widgets/base",
            "_model_module_version": "1.2.0",
            "_model_name": "LayoutModel",
            "_view_count": null,
            "_view_module": "@jupyter-widgets/base",
            "_view_module_version": "1.2.0",
            "_view_name": "LayoutView",
            "align_content": null,
            "align_items": null,
            "align_self": null,
            "border": null,
            "bottom": null,
            "display": null,
            "flex": null,
            "flex_flow": null,
            "grid_area": null,
            "grid_auto_columns": null,
            "grid_auto_flow": null,
            "grid_auto_rows": null,
            "grid_column": null,
            "grid_gap": null,
            "grid_row": null,
            "grid_template_areas": null,
            "grid_template_columns": null,
            "grid_template_rows": null,
            "height": null,
            "justify_content": null,
            "justify_items": null,
            "left": null,
            "margin": null,
            "max_height": null,
            "max_width": null,
            "min_height": null,
            "min_width": null,
            "object_fit": null,
            "object_position": null,
            "order": null,
            "overflow": null,
            "overflow_x": null,
            "overflow_y": null,
            "padding": null,
            "right": null,
            "top": null,
            "visibility": null,
            "width": null
          }
        },
        "a42c1cf0bd054fcc8d62b1a12dcf88a9": {
          "model_module": "@jupyter-widgets/controls",
          "model_name": "DescriptionStyleModel",
          "model_module_version": "1.5.0",
          "state": {
            "_model_module": "@jupyter-widgets/controls",
            "_model_module_version": "1.5.0",
            "_model_name": "DescriptionStyleModel",
            "_view_count": null,
            "_view_module": "@jupyter-widgets/base",
            "_view_module_version": "1.2.0",
            "_view_name": "StyleView",
            "description_width": ""
          }
        },
        "315b598aa5bc40bd929428b8a41838ae": {
          "model_module": "@jupyter-widgets/base",
          "model_name": "LayoutModel",
          "model_module_version": "1.2.0",
          "state": {
            "_model_module": "@jupyter-widgets/base",
            "_model_module_version": "1.2.0",
            "_model_name": "LayoutModel",
            "_view_count": null,
            "_view_module": "@jupyter-widgets/base",
            "_view_module_version": "1.2.0",
            "_view_name": "LayoutView",
            "align_content": null,
            "align_items": null,
            "align_self": null,
            "border": null,
            "bottom": null,
            "display": null,
            "flex": null,
            "flex_flow": null,
            "grid_area": null,
            "grid_auto_columns": null,
            "grid_auto_flow": null,
            "grid_auto_rows": null,
            "grid_column": null,
            "grid_gap": null,
            "grid_row": null,
            "grid_template_areas": null,
            "grid_template_columns": null,
            "grid_template_rows": null,
            "height": null,
            "justify_content": null,
            "justify_items": null,
            "left": null,
            "margin": null,
            "max_height": null,
            "max_width": null,
            "min_height": null,
            "min_width": null,
            "object_fit": null,
            "object_position": null,
            "order": null,
            "overflow": null,
            "overflow_x": null,
            "overflow_y": null,
            "padding": null,
            "right": null,
            "top": null,
            "visibility": null,
            "width": null
          }
        },
        "e7a49f2ab72140378bbe893bc8140b34": {
          "model_module": "@jupyter-widgets/controls",
          "model_name": "ProgressStyleModel",
          "model_module_version": "1.5.0",
          "state": {
            "_model_module": "@jupyter-widgets/controls",
            "_model_module_version": "1.5.0",
            "_model_name": "ProgressStyleModel",
            "_view_count": null,
            "_view_module": "@jupyter-widgets/base",
            "_view_module_version": "1.2.0",
            "_view_name": "StyleView",
            "bar_color": null,
            "description_width": ""
          }
        }
      }
    }
  },
  "cells": [
    {
      "cell_type": "markdown",
      "metadata": {
        "id": "view-in-github",
        "colab_type": "text"
      },
      "source": [
        "<a href=\"https://colab.research.google.com/github/DOI03/DOI03/blob/main/CV_AL_test1-1.ipynb\" target=\"_parent\"><img src=\"https://colab.research.google.com/assets/colab-badge.svg\" alt=\"Open In Colab\"/></a>"
      ]
    },
    {
      "cell_type": "markdown",
      "source": [
        "1.   optimizer로 RAdam 사용\n",
        "2.   lr 0.001 -> 0.0001\n",
        "3.   epoch 30 -> 25 수정 (과적합 발생함)\n",
        "\n"
      ],
      "metadata": {
        "id": "JBBnibyCbQ_A"
      }
    },
    {
      "cell_type": "code",
      "source": [
        "from google.colab import drive\n",
        "drive.mount('/content/gdrive')"
      ],
      "metadata": {
        "colab": {
          "base_uri": "https://localhost:8080/"
        },
        "id": "xr4ox9es1m_Z",
        "outputId": "3a09ff36-de98-4520-d79c-7ee0ee970795"
      },
      "execution_count": null,
      "outputs": [
        {
          "output_type": "stream",
          "name": "stdout",
          "text": [
            "Mounted at /content/gdrive\n"
          ]
        }
      ]
    },
    {
      "cell_type": "code",
      "source": [
        "!pip install git+https://github.com/LiyuanLucasLiu/RAdam.git\n",
        "!pip install wandb"
      ],
      "metadata": {
        "colab": {
          "base_uri": "https://localhost:8080/"
        },
        "id": "7a36Uzf7yL9l",
        "outputId": "40de9fbf-4535-41f3-a0be-7d4cf6fae9b7"
      },
      "execution_count": null,
      "outputs": [
        {
          "output_type": "stream",
          "name": "stdout",
          "text": [
            "Collecting git+https://github.com/LiyuanLucasLiu/RAdam.git\n",
            "  Cloning https://github.com/LiyuanLucasLiu/RAdam.git to /tmp/pip-req-build-uk5o82_x\n",
            "  Running command git clone --filter=blob:none --quiet https://github.com/LiyuanLucasLiu/RAdam.git /tmp/pip-req-build-uk5o82_x\n",
            "  Resolved https://github.com/LiyuanLucasLiu/RAdam.git to commit d9fd30a337894c4003768561d45e8730dbd41333\n",
            "  Preparing metadata (setup.py) ... \u001b[?25l\u001b[?25hdone\n",
            "Requirement already satisfied: torch in /usr/local/lib/python3.10/dist-packages (from RAdam==0.0.1) (2.5.0+cu121)\n",
            "Requirement already satisfied: filelock in /usr/local/lib/python3.10/dist-packages (from torch->RAdam==0.0.1) (3.16.1)\n",
            "Requirement already satisfied: typing-extensions>=4.8.0 in /usr/local/lib/python3.10/dist-packages (from torch->RAdam==0.0.1) (4.12.2)\n",
            "Requirement already satisfied: networkx in /usr/local/lib/python3.10/dist-packages (from torch->RAdam==0.0.1) (3.4.2)\n",
            "Requirement already satisfied: jinja2 in /usr/local/lib/python3.10/dist-packages (from torch->RAdam==0.0.1) (3.1.4)\n",
            "Requirement already satisfied: fsspec in /usr/local/lib/python3.10/dist-packages (from torch->RAdam==0.0.1) (2024.6.1)\n",
            "Requirement already satisfied: sympy==1.13.1 in /usr/local/lib/python3.10/dist-packages (from torch->RAdam==0.0.1) (1.13.1)\n",
            "Requirement already satisfied: mpmath<1.4,>=1.1.0 in /usr/local/lib/python3.10/dist-packages (from sympy==1.13.1->torch->RAdam==0.0.1) (1.3.0)\n",
            "Requirement already satisfied: MarkupSafe>=2.0 in /usr/local/lib/python3.10/dist-packages (from jinja2->torch->RAdam==0.0.1) (3.0.2)\n",
            "Building wheels for collected packages: RAdam\n",
            "  Building wheel for RAdam (setup.py) ... \u001b[?25l\u001b[?25hdone\n",
            "  Created wheel for RAdam: filename=RAdam-0.0.1-py3-none-any.whl size=7098 sha256=76eb04f660b6ab3ae8d029e0a69268c497f1dba0c94338d76e1f5e4e65806a58\n",
            "  Stored in directory: /tmp/pip-ephem-wheel-cache-bmj19vbg/wheels/27/dd/f4/a154a2dd1d807820314f09ba2fa30f13f96a0d2830e8bab05e\n",
            "Successfully built RAdam\n",
            "Installing collected packages: RAdam\n",
            "Successfully installed RAdam-0.0.1\n",
            "Requirement already satisfied: wandb in /usr/local/lib/python3.10/dist-packages (0.18.5)\n",
            "Requirement already satisfied: click!=8.0.0,>=7.1 in /usr/local/lib/python3.10/dist-packages (from wandb) (8.1.7)\n",
            "Requirement already satisfied: docker-pycreds>=0.4.0 in /usr/local/lib/python3.10/dist-packages (from wandb) (0.4.0)\n",
            "Requirement already satisfied: gitpython!=3.1.29,>=1.0.0 in /usr/local/lib/python3.10/dist-packages (from wandb) (3.1.43)\n",
            "Requirement already satisfied: platformdirs in /usr/local/lib/python3.10/dist-packages (from wandb) (4.3.6)\n",
            "Requirement already satisfied: protobuf!=4.21.0,!=5.28.0,<6,>=3.19.0 in /usr/local/lib/python3.10/dist-packages (from wandb) (3.20.3)\n",
            "Requirement already satisfied: psutil>=5.0.0 in /usr/local/lib/python3.10/dist-packages (from wandb) (5.9.5)\n",
            "Requirement already satisfied: pyyaml in /usr/local/lib/python3.10/dist-packages (from wandb) (6.0.2)\n",
            "Requirement already satisfied: requests<3,>=2.0.0 in /usr/local/lib/python3.10/dist-packages (from wandb) (2.32.3)\n",
            "Requirement already satisfied: sentry-sdk>=2.0.0 in /usr/local/lib/python3.10/dist-packages (from wandb) (2.17.0)\n",
            "Requirement already satisfied: setproctitle in /usr/local/lib/python3.10/dist-packages (from wandb) (1.3.3)\n",
            "Requirement already satisfied: setuptools in /usr/local/lib/python3.10/dist-packages (from wandb) (75.1.0)\n",
            "Requirement already satisfied: typing-extensions<5,>=4.4 in /usr/local/lib/python3.10/dist-packages (from wandb) (4.12.2)\n",
            "Requirement already satisfied: six>=1.4.0 in /usr/local/lib/python3.10/dist-packages (from docker-pycreds>=0.4.0->wandb) (1.16.0)\n",
            "Requirement already satisfied: gitdb<5,>=4.0.1 in /usr/local/lib/python3.10/dist-packages (from gitpython!=3.1.29,>=1.0.0->wandb) (4.0.11)\n",
            "Requirement already satisfied: charset-normalizer<4,>=2 in /usr/local/lib/python3.10/dist-packages (from requests<3,>=2.0.0->wandb) (3.4.0)\n",
            "Requirement already satisfied: idna<4,>=2.5 in /usr/local/lib/python3.10/dist-packages (from requests<3,>=2.0.0->wandb) (3.10)\n",
            "Requirement already satisfied: urllib3<3,>=1.21.1 in /usr/local/lib/python3.10/dist-packages (from requests<3,>=2.0.0->wandb) (2.2.3)\n",
            "Requirement already satisfied: certifi>=2017.4.17 in /usr/local/lib/python3.10/dist-packages (from requests<3,>=2.0.0->wandb) (2024.8.30)\n",
            "Requirement already satisfied: smmap<6,>=3.0.1 in /usr/local/lib/python3.10/dist-packages (from gitdb<5,>=4.0.1->gitpython!=3.1.29,>=1.0.0->wandb) (5.0.1)\n"
          ]
        }
      ]
    },
    {
      "cell_type": "code",
      "execution_count": null,
      "metadata": {
        "id": "qOc0tT3-nv73",
        "colab": {
          "base_uri": "https://localhost:8080/",
          "height": 231
        },
        "outputId": "6dba8724-7a92-439f-9d3c-d5b8af611818"
      },
      "outputs": [
        {
          "output_type": "stream",
          "name": "stderr",
          "text": [
            "\u001b[34m\u001b[1mwandb\u001b[0m: Using wandb-core as the SDK backend. Please refer to https://wandb.me/wandb-core for more information.\n"
          ]
        },
        {
          "output_type": "display_data",
          "data": {
            "text/plain": [
              "<IPython.core.display.Javascript object>"
            ],
            "application/javascript": [
              "\n",
              "        window._wandbApiKey = new Promise((resolve, reject) => {\n",
              "            function loadScript(url) {\n",
              "            return new Promise(function(resolve, reject) {\n",
              "                let newScript = document.createElement(\"script\");\n",
              "                newScript.onerror = reject;\n",
              "                newScript.onload = resolve;\n",
              "                document.body.appendChild(newScript);\n",
              "                newScript.src = url;\n",
              "            });\n",
              "            }\n",
              "            loadScript(\"https://cdn.jsdelivr.net/npm/postmate/build/postmate.min.js\").then(() => {\n",
              "            const iframe = document.createElement('iframe')\n",
              "            iframe.style.cssText = \"width:0;height:0;border:none\"\n",
              "            document.body.appendChild(iframe)\n",
              "            const handshake = new Postmate({\n",
              "                container: iframe,\n",
              "                url: 'https://wandb.ai/authorize'\n",
              "            });\n",
              "            const timeout = setTimeout(() => reject(\"Couldn't auto authenticate\"), 5000)\n",
              "            handshake.then(function(child) {\n",
              "                child.on('authorize', data => {\n",
              "                    clearTimeout(timeout)\n",
              "                    resolve(data)\n",
              "                });\n",
              "            });\n",
              "            })\n",
              "        });\n",
              "    "
            ]
          },
          "metadata": {}
        },
        {
          "output_type": "stream",
          "name": "stderr",
          "text": [
            "\u001b[34m\u001b[1mwandb\u001b[0m: Logging into wandb.ai. (Learn how to deploy a W&B server locally: https://wandb.me/wandb-server)\n",
            "\u001b[34m\u001b[1mwandb\u001b[0m: You can find your API key in your browser here: https://wandb.ai/authorize\n",
            "wandb: Paste an API key from your profile and hit enter, or press ctrl+c to quit:"
          ]
        },
        {
          "name": "stdout",
          "output_type": "stream",
          "text": [
            " ··········\n"
          ]
        },
        {
          "output_type": "stream",
          "name": "stderr",
          "text": [
            "\u001b[34m\u001b[1mwandb\u001b[0m: Appending key for api.wandb.ai to your netrc file: /root/.netrc\n"
          ]
        },
        {
          "output_type": "display_data",
          "data": {
            "text/plain": [
              "<IPython.core.display.HTML object>"
            ],
            "text/html": [
              "Tracking run with wandb version 0.18.5"
            ]
          },
          "metadata": {}
        },
        {
          "output_type": "display_data",
          "data": {
            "text/plain": [
              "<IPython.core.display.HTML object>"
            ],
            "text/html": [
              "Run data is saved locally in <code>/content/wandb/run-20241025_065142-5pvbexos</code>"
            ]
          },
          "metadata": {}
        },
        {
          "output_type": "display_data",
          "data": {
            "text/plain": [
              "<IPython.core.display.HTML object>"
            ],
            "text/html": [
              "Syncing run <strong><a href='https://wandb.ai/parkdoi-gachon-university/CUB_Transfer_Learning/runs/5pvbexos' target=\"_blank\">ResNet18_with_RAdam</a></strong> to <a href='https://wandb.ai/parkdoi-gachon-university/CUB_Transfer_Learning' target=\"_blank\">Weights & Biases</a> (<a href='https://wandb.me/run' target=\"_blank\">docs</a>)<br/>"
            ]
          },
          "metadata": {}
        },
        {
          "output_type": "display_data",
          "data": {
            "text/plain": [
              "<IPython.core.display.HTML object>"
            ],
            "text/html": [
              " View project at <a href='https://wandb.ai/parkdoi-gachon-university/CUB_Transfer_Learning' target=\"_blank\">https://wandb.ai/parkdoi-gachon-university/CUB_Transfer_Learning</a>"
            ]
          },
          "metadata": {}
        },
        {
          "output_type": "display_data",
          "data": {
            "text/plain": [
              "<IPython.core.display.HTML object>"
            ],
            "text/html": [
              " View run at <a href='https://wandb.ai/parkdoi-gachon-university/CUB_Transfer_Learning/runs/5pvbexos' target=\"_blank\">https://wandb.ai/parkdoi-gachon-university/CUB_Transfer_Learning/runs/5pvbexos</a>"
            ]
          },
          "metadata": {}
        },
        {
          "output_type": "stream",
          "name": "stdout",
          "text": [
            "cuda\n"
          ]
        }
      ],
      "source": [
        "import os\n",
        "import time\n",
        "\n",
        "import torch\n",
        "import torchvision.transforms as transforms\n",
        "import torchvision.models as models\n",
        "from torch.utils.data import Dataset, DataLoader\n",
        "\n",
        "import torch.optim as optim\n",
        "import torch.nn as nn\n",
        "import torch.nn.functional as F\n",
        "\n",
        "import wandb\n",
        "\n",
        "# radam 사용\n",
        "from radam import RAdam\n",
        "\n",
        "from PIL import Image\n",
        "#내가 추가\n",
        "import re\n",
        "\n",
        "### wandb 설정 ###\n",
        "wandb.init(project=\"CUB_Transfer_Learning\", name=\"ResNet18_with_RAdam_test2\")\n",
        "\n",
        "### GPU Setting ###\n",
        "USE_CUDA = torch.cuda.is_available()\n",
        "DEVICE = torch.device(\"cuda\" if USE_CUDA else \"cpu\")\n",
        "print(DEVICE)"
      ]
    },
    {
      "cell_type": "code",
      "source": [
        "### Custom Dataset ###\n",
        "class CUB2011(Dataset):\n",
        "  def __init__(self, transform, mode='train'):\n",
        "    self.transform = transform\n",
        "    self.mode = mode\n",
        "\n",
        "    if self.mode == 'train':\n",
        "      self.image_folder = os.listdir('/content/gdrive/MyDrive/CUB_200_2011_repackage_class50/CUB_200_2011_repackage_class50/datasets/train')\n",
        "    elif self.mode == 'valid':\n",
        "      self.image_folder = os.listdir('/content/gdrive/MyDrive/CUB_200_2011_repackage_class50/CUB_200_2011_repackage_class50/datasets/valid')\n",
        "    elif self.mode == 'test':\n",
        "      self.image_folder = os.listdir('/content/gdrive/MyDrive/CUB_200_2011_repackage_class50/CUB_200_2011_repackage_class50/datasets/test')\n",
        "\n",
        "  def __len__(self):\n",
        "    return len(self.image_folder)\n",
        "\n",
        "  def __getitem__(self, idx):\n",
        "    img_path = self.image_folder[idx]\n",
        "    img = Image.open(os.path.join('/content/gdrive/MyDrive/CUB_200_2011_repackage_class50/CUB_200_2011_repackage_class50/datasets', self.mode, img_path)).convert('RGB')\n",
        "    img = self.transform(img)\n",
        "    label = img_path.split('_')[-1].split('.')[0]\n",
        "    label = re.sub(r'\\([^)]*\\)', '', label)\n",
        "    label = int(label)\n",
        "    return (img, label)"
      ],
      "metadata": {
        "id": "KaFgjkFp8tzI"
      },
      "execution_count": null,
      "outputs": []
    },
    {
      "cell_type": "code",
      "source": [
        "### Data Preprocessing ###\n",
        "\n",
        "'''\n",
        "# 데이터 정규화 추가\n",
        "# 정규화 변환 정의\n",
        "normalize = transforms.Normalize(mean=[0.485, 0.456, 0.406], std=[0.229, 0.224, 0.225])\n",
        "'''\n",
        "transforms_train = transforms.Compose([transforms.Resize((448,448)),\n",
        "                                       transforms.ToTensor()])\n",
        "transforms_valtest = transforms.Compose([transforms.Resize((448,448)),\n",
        "                                         transforms.ToTensor()])\n",
        "\n",
        "BATCH_SIZE = 32\n",
        "train_set = CUB2011(mode='train',\n",
        "                    transform=transforms_train)\n",
        "# transforms_train을 transforms_valtest로 변경\n",
        "val_set = CUB2011(mode='valid',\n",
        "                  transform=transforms_valtest)\n",
        "test_set = CUB2011(mode='test',\n",
        "                  transform=transforms_valtest)\n",
        "\n",
        "print('Num of each dataset: ',len(train_set),len(val_set),len(test_set))\n",
        "\n",
        "train_loader = DataLoader(train_set,batch_size=BATCH_SIZE,shuffle=True)\n",
        "val_loader = DataLoader(val_set,batch_size=BATCH_SIZE,shuffle=False)\n",
        "test_loader = DataLoader(test_set,batch_size=BATCH_SIZE,shuffle=False)\n",
        "\n",
        "print(\"Loaded dataloader\")\n",
        "\n",
        "### Model / Optimizer ###\n",
        "EPOCH = 25\n",
        "lr = 0.0001\n",
        "\n",
        "model = models.resnet18(pretrained=True)\n",
        "\n",
        "### Tranfer Learning ###\n",
        "num_features = model.fc.in_features\n",
        "model.fc = nn.Linear(num_features,50)\n",
        "model.to(DEVICE)\n",
        "\n",
        "optimizer = optim.RAdam(model.parameters(),lr=lr)\n",
        "\n",
        "print(\"Created a learning model and optimizer\")"
      ],
      "metadata": {
        "colab": {
          "base_uri": "https://localhost:8080/"
        },
        "id": "38vx5jj22neg",
        "outputId": "433e5c4e-125c-46e2-e119-c4b1246b41f1"
      },
      "execution_count": null,
      "outputs": [
        {
          "output_type": "stream",
          "name": "stdout",
          "text": [
            "Num of each dataset:  2360 296 298\n",
            "Loaded dataloader\n"
          ]
        },
        {
          "output_type": "stream",
          "name": "stderr",
          "text": [
            "/usr/local/lib/python3.10/dist-packages/torchvision/models/_utils.py:208: UserWarning: The parameter 'pretrained' is deprecated since 0.13 and may be removed in the future, please use 'weights' instead.\n",
            "  warnings.warn(\n",
            "/usr/local/lib/python3.10/dist-packages/torchvision/models/_utils.py:223: UserWarning: Arguments other than a weight enum or `None` for 'weights' are deprecated since 0.13 and may be removed in the future. The current behavior is equivalent to passing `weights=ResNet18_Weights.IMAGENET1K_V1`. You can also use `weights=ResNet18_Weights.DEFAULT` to get the most up-to-date weights.\n",
            "  warnings.warn(msg)\n",
            "Downloading: \"https://download.pytorch.org/models/resnet18-f37072fd.pth\" to /root/.cache/torch/hub/checkpoints/resnet18-f37072fd.pth\n",
            "100%|██████████| 44.7M/44.7M [00:00<00:00, 193MB/s]\n"
          ]
        },
        {
          "output_type": "stream",
          "name": "stdout",
          "text": [
            "Created a learning model and optimizer\n"
          ]
        }
      ]
    },
    {
      "cell_type": "code",
      "source": [
        "### Train/Evaluation ###\n",
        "def train(model, train_loader, optimizer, epoch):\n",
        "    model.train()\n",
        "    train_loss_total = 0\n",
        "    for i, (image, target) in enumerate(train_loader):\n",
        "        image, target = image.to(DEVICE), target.to(DEVICE)\n",
        "        output = model(image)\n",
        "        optimizer.zero_grad()\n",
        "        train_loss = F.cross_entropy(output, target).to(DEVICE)\n",
        "\n",
        "        train_loss.backward()\n",
        "        optimizer.step()\n",
        "\n",
        "        train_loss_total += train_loss.item()\n",
        "\n",
        "        if i % 10 == 0:\n",
        "            print(f'Train Epoch: {epoch} [{i}/{len(train_loader)}]\\tloss: {train_loss.item():.6f}')\n",
        "\n",
        "    avg_train_loss = train_loss_total / len(train_loader)\n",
        "    return avg_train_loss\n",
        "\n",
        "def evaluate(model, val_loader):\n",
        "    model.eval()\n",
        "    eval_loss = 0\n",
        "    correct = 0\n",
        "    with torch.no_grad():\n",
        "        for i, (image, target) in enumerate(val_loader):\n",
        "            image, target = image.to(DEVICE), target.to(DEVICE)\n",
        "            output = model(image)\n",
        "\n",
        "            eval_loss += F.cross_entropy(output, target, reduction='sum').item()\n",
        "            pred = output.max(1, keepdim=True)[1]\n",
        "            correct += pred.eq(target.view_as(pred)).sum().item()\n",
        "\n",
        "    eval_loss /= len(val_loader.dataset)\n",
        "    eval_accuracy = 100 * correct / len(val_loader.dataset)\n",
        "    return eval_loss, eval_accuracy"
      ],
      "metadata": {
        "id": "apDhVk6C2r7R"
      },
      "execution_count": null,
      "outputs": []
    },
    {
      "cell_type": "code",
      "source": [
        "### Main ###\n",
        "start = time.time()\n",
        "best = 0\n",
        "for epoch in range(EPOCH):\n",
        "    train_loss = train(model, train_loader, optimizer, epoch)\n",
        "    val_loss, val_accuracy = evaluate(model, val_loader)\n",
        "\n",
        "    # wandb 로그 기록\n",
        "    wandb.log({\n",
        "        'Epoch': epoch,\n",
        "        'Train Loss': train_loss,\n",
        "        'Validation Loss': val_loss,\n",
        "        'Validation Accuracy': val_accuracy\n",
        "    })\n",
        "\n",
        "    # Save best model\n",
        "    if val_accuracy > best:\n",
        "        best = val_accuracy\n",
        "        torch.save(model.state_dict(), \"./best_model.pth\")\n",
        "\n",
        "    print(f\"[{epoch}] Validation Loss: {val_loss:.4f}, Accuracy: {val_accuracy:.4f}%\")\n",
        "\n",
        "# Test result\n",
        "test_loss, test_accuracy = evaluate(model, test_loader)\n",
        "print(f'[FINAL] Test Loss: {test_loss:.4f}, Accuracy: {test_accuracy:.4f}%')\n",
        "\n",
        "# wandb 테스트 결과 로그 기록\n",
        "wandb.log({\n",
        "    'Test Loss': test_loss,\n",
        "    'Test Accuracy': test_accuracy\n",
        "})\n",
        "\n",
        "end = time.time()\n",
        "elapsed_time = end - start\n",
        "\n",
        "print(\"Best Accuracy: \", best)\n",
        "print(f\"Elapsed Time: {int(elapsed_time / 3600)}h, {int(elapsed_time / 60)}m, {int(elapsed_time % 60)}s\")\n",
        "\n",
        "wandb.finish()\n"
      ],
      "metadata": {
        "colab": {
          "base_uri": "https://localhost:8080/",
          "height": 1000,
          "referenced_widgets": [
            "f0f98bc3df6f495eaf568a6cbd8ddfb6",
            "dbbeb9e610ef4408a5fc87940c260854",
            "8ae027e8404a42d3820e3eb6d5df78cb",
            "97aefe220f8a44beb2559c43c22005c9",
            "f0ce7248be3646d2b87824399dff6c66",
            "a42c1cf0bd054fcc8d62b1a12dcf88a9",
            "315b598aa5bc40bd929428b8a41838ae",
            "e7a49f2ab72140378bbe893bc8140b34"
          ]
        },
        "id": "VNhSTX452wyd",
        "outputId": "f4608668-723c-4c7b-939c-1afc027d51ba"
      },
      "execution_count": null,
      "outputs": [
        {
          "output_type": "stream",
          "name": "stdout",
          "text": [
            "Train Epoch: 0 [0/74]\tloss: 4.284007\n",
            "Train Epoch: 0 [10/74]\tloss: 3.994841\n",
            "Train Epoch: 0 [20/74]\tloss: 3.854880\n",
            "Train Epoch: 0 [30/74]\tloss: 3.502373\n",
            "Train Epoch: 0 [40/74]\tloss: 3.190553\n",
            "Train Epoch: 0 [50/74]\tloss: 2.933817\n",
            "Train Epoch: 0 [60/74]\tloss: 2.512764\n",
            "Train Epoch: 0 [70/74]\tloss: 2.184386\n",
            "[0] Validation Loss: 2.0695, Accuracy: 60.4730%\n",
            "Train Epoch: 1 [0/74]\tloss: 2.076723\n",
            "Train Epoch: 1 [10/74]\tloss: 1.881520\n",
            "Train Epoch: 1 [20/74]\tloss: 1.352902\n",
            "Train Epoch: 1 [30/74]\tloss: 1.425103\n",
            "Train Epoch: 1 [40/74]\tloss: 1.546287\n",
            "Train Epoch: 1 [50/74]\tloss: 1.271695\n",
            "Train Epoch: 1 [60/74]\tloss: 1.115521\n",
            "Train Epoch: 1 [70/74]\tloss: 1.022290\n",
            "[1] Validation Loss: 1.3470, Accuracy: 79.7297%\n",
            "Train Epoch: 2 [0/74]\tloss: 0.581509\n",
            "Train Epoch: 2 [10/74]\tloss: 0.527463\n",
            "Train Epoch: 2 [20/74]\tloss: 0.548898\n",
            "Train Epoch: 2 [30/74]\tloss: 0.507285\n",
            "Train Epoch: 2 [40/74]\tloss: 0.306082\n",
            "Train Epoch: 2 [50/74]\tloss: 0.510321\n",
            "Train Epoch: 2 [60/74]\tloss: 0.317198\n",
            "Train Epoch: 2 [70/74]\tloss: 0.384561\n",
            "[2] Validation Loss: 1.0419, Accuracy: 76.6892%\n",
            "Train Epoch: 3 [0/74]\tloss: 0.285068\n",
            "Train Epoch: 3 [10/74]\tloss: 0.181953\n",
            "Train Epoch: 3 [20/74]\tloss: 0.218704\n",
            "Train Epoch: 3 [30/74]\tloss: 0.184245\n",
            "Train Epoch: 3 [40/74]\tloss: 0.191185\n",
            "Train Epoch: 3 [50/74]\tloss: 0.093310\n",
            "Train Epoch: 3 [60/74]\tloss: 0.095794\n",
            "Train Epoch: 3 [70/74]\tloss: 0.091975\n",
            "[3] Validation Loss: 0.6450, Accuracy: 88.5135%\n",
            "Train Epoch: 4 [0/74]\tloss: 0.060846\n",
            "Train Epoch: 4 [10/74]\tloss: 0.073151\n",
            "Train Epoch: 4 [20/74]\tloss: 0.045382\n",
            "Train Epoch: 4 [30/74]\tloss: 0.027777\n",
            "Train Epoch: 4 [40/74]\tloss: 0.046411\n",
            "Train Epoch: 4 [50/74]\tloss: 0.073442\n",
            "Train Epoch: 4 [60/74]\tloss: 0.036355\n",
            "Train Epoch: 4 [70/74]\tloss: 0.025165\n",
            "[4] Validation Loss: 0.5385, Accuracy: 86.8243%\n",
            "Train Epoch: 5 [0/74]\tloss: 0.032426\n",
            "Train Epoch: 5 [10/74]\tloss: 0.030729\n",
            "Train Epoch: 5 [20/74]\tloss: 0.020613\n",
            "Train Epoch: 5 [30/74]\tloss: 0.022690\n",
            "Train Epoch: 5 [40/74]\tloss: 0.034782\n",
            "Train Epoch: 5 [50/74]\tloss: 0.035629\n",
            "Train Epoch: 5 [60/74]\tloss: 0.029483\n",
            "Train Epoch: 5 [70/74]\tloss: 0.011805\n",
            "[5] Validation Loss: 0.4779, Accuracy: 90.2027%\n",
            "Train Epoch: 6 [0/74]\tloss: 0.015037\n",
            "Train Epoch: 6 [10/74]\tloss: 0.010638\n",
            "Train Epoch: 6 [20/74]\tloss: 0.012586\n",
            "Train Epoch: 6 [30/74]\tloss: 0.007732\n",
            "Train Epoch: 6 [40/74]\tloss: 0.010799\n",
            "Train Epoch: 6 [50/74]\tloss: 0.012656\n",
            "Train Epoch: 6 [60/74]\tloss: 0.008784\n",
            "Train Epoch: 6 [70/74]\tloss: 0.013062\n",
            "[6] Validation Loss: 0.4120, Accuracy: 90.8784%\n",
            "Train Epoch: 7 [0/74]\tloss: 0.006875\n",
            "Train Epoch: 7 [10/74]\tloss: 0.011564\n",
            "Train Epoch: 7 [20/74]\tloss: 0.007275\n",
            "Train Epoch: 7 [30/74]\tloss: 0.008686\n",
            "Train Epoch: 7 [40/74]\tloss: 0.008034\n",
            "Train Epoch: 7 [50/74]\tloss: 0.005581\n",
            "Train Epoch: 7 [60/74]\tloss: 0.004708\n",
            "Train Epoch: 7 [70/74]\tloss: 0.005758\n",
            "[7] Validation Loss: 0.4104, Accuracy: 91.2162%\n",
            "Train Epoch: 8 [0/74]\tloss: 0.004656\n",
            "Train Epoch: 8 [10/74]\tloss: 0.005140\n",
            "Train Epoch: 8 [20/74]\tloss: 0.005501\n",
            "Train Epoch: 8 [30/74]\tloss: 0.007168\n",
            "Train Epoch: 8 [40/74]\tloss: 0.006983\n",
            "Train Epoch: 8 [50/74]\tloss: 0.004991\n",
            "Train Epoch: 8 [60/74]\tloss: 0.004199\n",
            "Train Epoch: 8 [70/74]\tloss: 0.004262\n",
            "[8] Validation Loss: 0.4095, Accuracy: 92.2297%\n",
            "Train Epoch: 9 [0/74]\tloss: 0.006173\n",
            "Train Epoch: 9 [10/74]\tloss: 0.004055\n",
            "Train Epoch: 9 [20/74]\tloss: 0.004979\n",
            "Train Epoch: 9 [30/74]\tloss: 0.004099\n",
            "Train Epoch: 9 [40/74]\tloss: 0.006012\n",
            "Train Epoch: 9 [50/74]\tloss: 0.003777\n",
            "Train Epoch: 9 [60/74]\tloss: 0.003733\n",
            "Train Epoch: 9 [70/74]\tloss: 0.003649\n",
            "[9] Validation Loss: 0.4212, Accuracy: 91.2162%\n",
            "Train Epoch: 10 [0/74]\tloss: 0.004513\n",
            "Train Epoch: 10 [10/74]\tloss: 0.003510\n",
            "Train Epoch: 10 [20/74]\tloss: 0.002834\n",
            "Train Epoch: 10 [30/74]\tloss: 0.003188\n",
            "Train Epoch: 10 [40/74]\tloss: 0.002566\n",
            "Train Epoch: 10 [50/74]\tloss: 0.003051\n",
            "Train Epoch: 10 [60/74]\tloss: 0.005116\n",
            "Train Epoch: 10 [70/74]\tloss: 0.002731\n",
            "[10] Validation Loss: 0.4100, Accuracy: 90.5405%\n",
            "Train Epoch: 11 [0/74]\tloss: 0.002602\n",
            "Train Epoch: 11 [10/74]\tloss: 0.002310\n",
            "Train Epoch: 11 [20/74]\tloss: 0.002320\n",
            "Train Epoch: 11 [30/74]\tloss: 0.002775\n",
            "Train Epoch: 11 [40/74]\tloss: 0.002780\n",
            "Train Epoch: 11 [50/74]\tloss: 0.002143\n",
            "Train Epoch: 11 [60/74]\tloss: 0.002186\n",
            "Train Epoch: 11 [70/74]\tloss: 0.004683\n",
            "[11] Validation Loss: 0.4131, Accuracy: 92.9054%\n",
            "Train Epoch: 12 [0/74]\tloss: 0.002224\n",
            "Train Epoch: 12 [10/74]\tloss: 0.001945\n",
            "Train Epoch: 12 [20/74]\tloss: 0.002037\n",
            "Train Epoch: 12 [30/74]\tloss: 0.002234\n",
            "Train Epoch: 12 [40/74]\tloss: 0.002486\n",
            "Train Epoch: 12 [50/74]\tloss: 0.002794\n",
            "Train Epoch: 12 [60/74]\tloss: 0.002194\n",
            "Train Epoch: 12 [70/74]\tloss: 0.003342\n",
            "[12] Validation Loss: 0.4090, Accuracy: 90.5405%\n",
            "Train Epoch: 13 [0/74]\tloss: 0.002522\n",
            "Train Epoch: 13 [10/74]\tloss: 0.001259\n",
            "Train Epoch: 13 [20/74]\tloss: 0.001348\n",
            "Train Epoch: 13 [30/74]\tloss: 0.002209\n",
            "Train Epoch: 13 [40/74]\tloss: 0.002222\n",
            "Train Epoch: 13 [50/74]\tloss: 0.001377\n",
            "Train Epoch: 13 [60/74]\tloss: 0.001889\n",
            "Train Epoch: 13 [70/74]\tloss: 0.002128\n",
            "[13] Validation Loss: 0.4071, Accuracy: 91.2162%\n",
            "Train Epoch: 14 [0/74]\tloss: 0.001439\n",
            "Train Epoch: 14 [10/74]\tloss: 0.001158\n",
            "Train Epoch: 14 [20/74]\tloss: 0.002234\n",
            "Train Epoch: 14 [30/74]\tloss: 0.001222\n",
            "Train Epoch: 14 [40/74]\tloss: 0.001797\n",
            "Train Epoch: 14 [50/74]\tloss: 0.001690\n",
            "Train Epoch: 14 [60/74]\tloss: 0.001448\n",
            "Train Epoch: 14 [70/74]\tloss: 0.001465\n",
            "[14] Validation Loss: 0.3928, Accuracy: 91.2162%\n",
            "Train Epoch: 15 [0/74]\tloss: 0.001155\n",
            "Train Epoch: 15 [10/74]\tloss: 0.001305\n",
            "Train Epoch: 15 [20/74]\tloss: 0.001187\n",
            "Train Epoch: 15 [30/74]\tloss: 0.001196\n",
            "Train Epoch: 15 [40/74]\tloss: 0.001422\n",
            "Train Epoch: 15 [50/74]\tloss: 0.001049\n",
            "Train Epoch: 15 [60/74]\tloss: 0.001315\n",
            "Train Epoch: 15 [70/74]\tloss: 0.000855\n",
            "[15] Validation Loss: 0.4074, Accuracy: 91.2162%\n",
            "Train Epoch: 16 [0/74]\tloss: 0.000975\n",
            "Train Epoch: 16 [10/74]\tloss: 0.001327\n",
            "Train Epoch: 16 [20/74]\tloss: 0.001263\n",
            "Train Epoch: 16 [30/74]\tloss: 0.001459\n",
            "Train Epoch: 16 [40/74]\tloss: 0.001701\n",
            "Train Epoch: 16 [50/74]\tloss: 0.001047\n",
            "Train Epoch: 16 [60/74]\tloss: 0.001280\n",
            "Train Epoch: 16 [70/74]\tloss: 0.001056\n",
            "[16] Validation Loss: 0.4028, Accuracy: 91.8919%\n",
            "Train Epoch: 17 [0/74]\tloss: 0.001327\n",
            "Train Epoch: 17 [10/74]\tloss: 0.001007\n",
            "Train Epoch: 17 [20/74]\tloss: 0.000744\n",
            "Train Epoch: 17 [30/74]\tloss: 0.001259\n",
            "Train Epoch: 17 [40/74]\tloss: 0.001082\n",
            "Train Epoch: 17 [50/74]\tloss: 0.000743\n",
            "Train Epoch: 17 [60/74]\tloss: 0.000833\n",
            "Train Epoch: 17 [70/74]\tloss: 0.001223\n",
            "[17] Validation Loss: 0.3927, Accuracy: 92.2297%\n",
            "Train Epoch: 18 [0/74]\tloss: 0.002157\n",
            "Train Epoch: 18 [10/74]\tloss: 0.001281\n",
            "Train Epoch: 18 [20/74]\tloss: 0.000994\n",
            "Train Epoch: 18 [30/74]\tloss: 0.000861\n",
            "Train Epoch: 18 [40/74]\tloss: 0.000672\n",
            "Train Epoch: 18 [50/74]\tloss: 0.000924\n",
            "Train Epoch: 18 [60/74]\tloss: 0.000717\n",
            "Train Epoch: 18 [70/74]\tloss: 0.000759\n",
            "[18] Validation Loss: 0.3932, Accuracy: 91.2162%\n",
            "Train Epoch: 19 [0/74]\tloss: 0.000738\n",
            "Train Epoch: 19 [10/74]\tloss: 0.000925\n",
            "Train Epoch: 19 [20/74]\tloss: 0.001030\n",
            "Train Epoch: 19 [30/74]\tloss: 0.000539\n",
            "Train Epoch: 19 [40/74]\tloss: 0.001009\n",
            "Train Epoch: 19 [50/74]\tloss: 0.001030\n",
            "Train Epoch: 19 [60/74]\tloss: 0.001237\n",
            "Train Epoch: 19 [70/74]\tloss: 0.000587\n",
            "[19] Validation Loss: 0.3848, Accuracy: 91.8919%\n",
            "Train Epoch: 20 [0/74]\tloss: 0.000763\n",
            "Train Epoch: 20 [10/74]\tloss: 0.000697\n",
            "Train Epoch: 20 [20/74]\tloss: 0.000781\n",
            "Train Epoch: 20 [30/74]\tloss: 0.001184\n",
            "Train Epoch: 20 [40/74]\tloss: 0.001014\n",
            "Train Epoch: 20 [50/74]\tloss: 0.000567\n",
            "Train Epoch: 20 [60/74]\tloss: 0.000555\n",
            "Train Epoch: 20 [70/74]\tloss: 0.000793\n",
            "[20] Validation Loss: 0.3960, Accuracy: 90.5405%\n",
            "Train Epoch: 21 [0/74]\tloss: 0.000439\n",
            "Train Epoch: 21 [10/74]\tloss: 0.000847\n",
            "Train Epoch: 21 [20/74]\tloss: 0.000724\n",
            "Train Epoch: 21 [30/74]\tloss: 0.000604\n",
            "Train Epoch: 21 [40/74]\tloss: 0.000452\n",
            "Train Epoch: 21 [50/74]\tloss: 0.000466\n",
            "Train Epoch: 21 [60/74]\tloss: 0.000531\n",
            "Train Epoch: 21 [70/74]\tloss: 0.000631\n",
            "[21] Validation Loss: 0.3879, Accuracy: 91.5541%\n",
            "Train Epoch: 22 [0/74]\tloss: 0.000916\n",
            "Train Epoch: 22 [10/74]\tloss: 0.000610\n",
            "Train Epoch: 22 [20/74]\tloss: 0.000659\n",
            "Train Epoch: 22 [30/74]\tloss: 0.000563\n",
            "Train Epoch: 22 [40/74]\tloss: 0.000654\n",
            "Train Epoch: 22 [50/74]\tloss: 0.000435\n",
            "Train Epoch: 22 [60/74]\tloss: 0.000552\n",
            "Train Epoch: 22 [70/74]\tloss: 0.001102\n",
            "[22] Validation Loss: 0.3897, Accuracy: 90.8784%\n",
            "Train Epoch: 23 [0/74]\tloss: 0.000517\n",
            "Train Epoch: 23 [10/74]\tloss: 0.000332\n",
            "Train Epoch: 23 [20/74]\tloss: 0.000481\n",
            "Train Epoch: 23 [30/74]\tloss: 0.000461\n",
            "Train Epoch: 23 [40/74]\tloss: 0.000557\n",
            "Train Epoch: 23 [50/74]\tloss: 0.000480\n",
            "Train Epoch: 23 [60/74]\tloss: 0.000542\n",
            "Train Epoch: 23 [70/74]\tloss: 0.000661\n",
            "[23] Validation Loss: 0.3868, Accuracy: 92.2297%\n",
            "Train Epoch: 24 [0/74]\tloss: 0.000440\n",
            "Train Epoch: 24 [10/74]\tloss: 0.000360\n",
            "Train Epoch: 24 [20/74]\tloss: 0.000885\n",
            "Train Epoch: 24 [30/74]\tloss: 0.000599\n",
            "Train Epoch: 24 [40/74]\tloss: 0.000729\n",
            "Train Epoch: 24 [50/74]\tloss: 0.001186\n",
            "Train Epoch: 24 [60/74]\tloss: 0.000731\n",
            "Train Epoch: 24 [70/74]\tloss: 0.000351\n",
            "[24] Validation Loss: 0.3886, Accuracy: 92.2297%\n",
            "Train Epoch: 25 [0/74]\tloss: 0.000440\n",
            "Train Epoch: 25 [10/74]\tloss: 0.000371\n",
            "Train Epoch: 25 [20/74]\tloss: 0.000351\n",
            "Train Epoch: 25 [30/74]\tloss: 0.000407\n",
            "Train Epoch: 25 [40/74]\tloss: 0.001583\n",
            "Train Epoch: 25 [50/74]\tloss: 0.000659\n",
            "Train Epoch: 25 [60/74]\tloss: 0.000763\n",
            "Train Epoch: 25 [70/74]\tloss: 0.001280\n",
            "[25] Validation Loss: 0.7190, Accuracy: 82.4324%\n",
            "Train Epoch: 26 [0/74]\tloss: 0.134089\n",
            "Train Epoch: 26 [10/74]\tloss: 3.856037\n",
            "Train Epoch: 26 [20/74]\tloss: 4.331532\n",
            "Train Epoch: 26 [30/74]\tloss: 3.909137\n",
            "Train Epoch: 26 [40/74]\tloss: 3.930207\n",
            "Train Epoch: 26 [50/74]\tloss: 4.504003\n",
            "Train Epoch: 26 [60/74]\tloss: 3.934750\n",
            "Train Epoch: 26 [70/74]\tloss: 3.988491\n",
            "[26] Validation Loss: 3.9192, Accuracy: 4.0541%\n",
            "Train Epoch: 27 [0/74]\tloss: 3.704227\n",
            "Train Epoch: 27 [10/74]\tloss: 4.070069\n",
            "Train Epoch: 27 [20/74]\tloss: 3.880725\n",
            "Train Epoch: 27 [30/74]\tloss: 3.776326\n",
            "Train Epoch: 27 [40/74]\tloss: 3.764782\n",
            "Train Epoch: 27 [50/74]\tloss: 3.289042\n",
            "Train Epoch: 27 [60/74]\tloss: 3.504529\n",
            "Train Epoch: 27 [70/74]\tloss: 3.594816\n",
            "[27] Validation Loss: 3.5420, Accuracy: 10.1351%\n",
            "Train Epoch: 28 [0/74]\tloss: 3.489744\n",
            "Train Epoch: 28 [10/74]\tloss: 3.458435\n",
            "Train Epoch: 28 [20/74]\tloss: 3.485371\n",
            "Train Epoch: 28 [30/74]\tloss: 3.398271\n",
            "Train Epoch: 28 [40/74]\tloss: 3.407495\n",
            "Train Epoch: 28 [50/74]\tloss: 3.492968\n",
            "Train Epoch: 28 [60/74]\tloss: 3.379052\n",
            "Train Epoch: 28 [70/74]\tloss: 3.232854\n",
            "[28] Validation Loss: 3.5706, Accuracy: 10.1351%\n",
            "Train Epoch: 29 [0/74]\tloss: 3.449331\n",
            "Train Epoch: 29 [10/74]\tloss: 3.181659\n",
            "Train Epoch: 29 [20/74]\tloss: 3.447990\n",
            "Train Epoch: 29 [30/74]\tloss: 3.505452\n",
            "Train Epoch: 29 [40/74]\tloss: 3.193645\n",
            "Train Epoch: 29 [50/74]\tloss: 3.848828\n",
            "Train Epoch: 29 [60/74]\tloss: 3.405573\n",
            "Train Epoch: 29 [70/74]\tloss: 3.393834\n",
            "[29] Validation Loss: 4.1479, Accuracy: 11.8243%\n",
            "[FINAL] Test Loss: 4.5119, Accuracy: 13.0872%\n",
            "Best Accuracy:  92.9054054054054\n",
            "Elapsed Time: 0h, 38m, 54s\n"
          ]
        },
        {
          "output_type": "display_data",
          "data": {
            "text/plain": [
              "VBox(children=(Label(value='0.023 MB of 0.023 MB uploaded\\r'), FloatProgress(value=1.0, max=1.0)))"
            ],
            "application/vnd.jupyter.widget-view+json": {
              "version_major": 2,
              "version_minor": 0,
              "model_id": "f0f98bc3df6f495eaf568a6cbd8ddfb6"
            }
          },
          "metadata": {}
        },
        {
          "output_type": "display_data",
          "data": {
            "text/plain": [
              "<IPython.core.display.HTML object>"
            ],
            "text/html": [
              "<style>\n",
              "    table.wandb td:nth-child(1) { padding: 0 10px; text-align: left ; width: auto;} td:nth-child(2) {text-align: left ; width: 100%}\n",
              "    .wandb-row { display: flex; flex-direction: row; flex-wrap: wrap; justify-content: flex-start; width: 100% }\n",
              "    .wandb-col { display: flex; flex-direction: column; flex-basis: 100%; flex: 1; padding: 10px; }\n",
              "    </style>\n",
              "<div class=\"wandb-row\"><div class=\"wandb-col\"><h3>Run history:</h3><br/><table class=\"wandb\"><tr><td>Epoch</td><td>▁▁▁▂▂▂▂▃▃▃▃▄▄▄▄▅▅▅▅▆▆▆▆▇▇▇▇███</td></tr><tr><td>Test Accuracy</td><td>▁</td></tr><tr><td>Test Loss</td><td>▁</td></tr><tr><td>Train Loss</td><td>▇▄▂▁▁▁▁▁▁▁▁▁▁▁▁▁▁▁▁▁▁▁▁▁▁▁██▇▇</td></tr><tr><td>Validation Accuracy</td><td>▅▇▇██████████████████████▇▁▁▁▂</td></tr><tr><td>Validation Loss</td><td>▄▃▂▁▁▁▁▁▁▁▁▁▁▁▁▁▁▁▁▁▁▁▁▁▁▂█▇▇█</td></tr></table><br/></div><div class=\"wandb-col\"><h3>Run summary:</h3><br/><table class=\"wandb\"><tr><td>Epoch</td><td>29</td></tr><tr><td>Test Accuracy</td><td>13.08725</td></tr><tr><td>Test Loss</td><td>4.51187</td></tr><tr><td>Train Loss</td><td>3.3149</td></tr><tr><td>Validation Accuracy</td><td>11.82432</td></tr><tr><td>Validation Loss</td><td>4.14795</td></tr></table><br/></div></div>"
            ]
          },
          "metadata": {}
        },
        {
          "output_type": "display_data",
          "data": {
            "text/plain": [
              "<IPython.core.display.HTML object>"
            ],
            "text/html": [
              " View run <strong style=\"color:#cdcd00\">ResNet18_with_RAdam</strong> at: <a href='https://wandb.ai/parkdoi-gachon-university/CUB_Transfer_Learning/runs/5pvbexos' target=\"_blank\">https://wandb.ai/parkdoi-gachon-university/CUB_Transfer_Learning/runs/5pvbexos</a><br/> View project at: <a href='https://wandb.ai/parkdoi-gachon-university/CUB_Transfer_Learning' target=\"_blank\">https://wandb.ai/parkdoi-gachon-university/CUB_Transfer_Learning</a><br/>Synced 5 W&B file(s), 0 media file(s), 0 artifact file(s) and 0 other file(s)"
            ]
          },
          "metadata": {}
        },
        {
          "output_type": "display_data",
          "data": {
            "text/plain": [
              "<IPython.core.display.HTML object>"
            ],
            "text/html": [
              "Find logs at: <code>./wandb/run-20241025_065142-5pvbexos/logs</code>"
            ]
          },
          "metadata": {}
        }
      ]
    }
  ]
}