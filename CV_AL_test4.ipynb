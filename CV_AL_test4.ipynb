{
  "nbformat": 4,
  "nbformat_minor": 0,
  "metadata": {
    "colab": {
      "provenance": [],
      "gpuType": "T4",
      "include_colab_link": true
    },
    "kernelspec": {
      "name": "python3",
      "display_name": "Python 3"
    },
    "language_info": {
      "name": "python"
    },
    "accelerator": "GPU"
  },
  "cells": [
    {
      "cell_type": "markdown",
      "metadata": {
        "id": "view-in-github",
        "colab_type": "text"
      },
      "source": [
        "<a href=\"https://colab.research.google.com/github/DOI03/DOI03/blob/main/CV_AL_test4.ipynb\" target=\"_parent\"><img src=\"https://colab.research.google.com/assets/colab-badge.svg\" alt=\"Open In Colab\"/></a>"
      ]
    },
    {
      "cell_type": "markdown",
      "source": [
        "1.   optimizer로 RAdam 사용\n",
        "2.   lr = 0.0001\n",
        "3.   get_cosine_schedule_with_warmup 스케줄러 사용\n",
        "\n",
        "\n",
        "\n"
      ],
      "metadata": {
        "id": "JBBnibyCbQ_A"
      }
    },
    {
      "cell_type": "code",
      "source": [
        "from google.colab import drive\n",
        "drive.mount('/content/gdrive')"
      ],
      "metadata": {
        "colab": {
          "base_uri": "https://localhost:8080/"
        },
        "id": "xr4ox9es1m_Z",
        "outputId": "24037d87-126c-4e3d-df36-9bc82f362b8e"
      },
      "execution_count": 1,
      "outputs": [
        {
          "output_type": "stream",
          "name": "stdout",
          "text": [
            "Mounted at /content/gdrive\n"
          ]
        }
      ]
    },
    {
      "cell_type": "code",
      "source": [
        "!pip install git+https://github.com/LiyuanLucasLiu/RAdam.git\n",
        "!pip install wandb"
      ],
      "metadata": {
        "colab": {
          "base_uri": "https://localhost:8080/"
        },
        "id": "7a36Uzf7yL9l",
        "outputId": "fbf3218e-f338-4091-8b7e-08a66695c4e3"
      },
      "execution_count": 2,
      "outputs": [
        {
          "output_type": "stream",
          "name": "stdout",
          "text": [
            "Collecting git+https://github.com/LiyuanLucasLiu/RAdam.git\n",
            "  Cloning https://github.com/LiyuanLucasLiu/RAdam.git to /tmp/pip-req-build-48agp0_z\n",
            "  Running command git clone --filter=blob:none --quiet https://github.com/LiyuanLucasLiu/RAdam.git /tmp/pip-req-build-48agp0_z\n",
            "  Resolved https://github.com/LiyuanLucasLiu/RAdam.git to commit d9fd30a337894c4003768561d45e8730dbd41333\n",
            "  Preparing metadata (setup.py) ... \u001b[?25l\u001b[?25hdone\n",
            "Requirement already satisfied: torch in /usr/local/lib/python3.10/dist-packages (from RAdam==0.0.1) (2.5.0+cu121)\n",
            "Requirement already satisfied: filelock in /usr/local/lib/python3.10/dist-packages (from torch->RAdam==0.0.1) (3.16.1)\n",
            "Requirement already satisfied: typing-extensions>=4.8.0 in /usr/local/lib/python3.10/dist-packages (from torch->RAdam==0.0.1) (4.12.2)\n",
            "Requirement already satisfied: networkx in /usr/local/lib/python3.10/dist-packages (from torch->RAdam==0.0.1) (3.4.2)\n",
            "Requirement already satisfied: jinja2 in /usr/local/lib/python3.10/dist-packages (from torch->RAdam==0.0.1) (3.1.4)\n",
            "Requirement already satisfied: fsspec in /usr/local/lib/python3.10/dist-packages (from torch->RAdam==0.0.1) (2024.6.1)\n",
            "Requirement already satisfied: sympy==1.13.1 in /usr/local/lib/python3.10/dist-packages (from torch->RAdam==0.0.1) (1.13.1)\n",
            "Requirement already satisfied: mpmath<1.4,>=1.1.0 in /usr/local/lib/python3.10/dist-packages (from sympy==1.13.1->torch->RAdam==0.0.1) (1.3.0)\n",
            "Requirement already satisfied: MarkupSafe>=2.0 in /usr/local/lib/python3.10/dist-packages (from jinja2->torch->RAdam==0.0.1) (3.0.2)\n",
            "Building wheels for collected packages: RAdam\n",
            "  Building wheel for RAdam (setup.py) ... \u001b[?25l\u001b[?25hdone\n",
            "  Created wheel for RAdam: filename=RAdam-0.0.1-py3-none-any.whl size=7098 sha256=f95a8d60c457e4ecf581ffe6f0de6b20a600583307e3a89dd37d90f42c50cda3\n",
            "  Stored in directory: /tmp/pip-ephem-wheel-cache-mg7e1cvn/wheels/27/dd/f4/a154a2dd1d807820314f09ba2fa30f13f96a0d2830e8bab05e\n",
            "Successfully built RAdam\n",
            "Installing collected packages: RAdam\n",
            "Successfully installed RAdam-0.0.1\n",
            "Requirement already satisfied: wandb in /usr/local/lib/python3.10/dist-packages (0.18.5)\n",
            "Requirement already satisfied: click!=8.0.0,>=7.1 in /usr/local/lib/python3.10/dist-packages (from wandb) (8.1.7)\n",
            "Requirement already satisfied: docker-pycreds>=0.4.0 in /usr/local/lib/python3.10/dist-packages (from wandb) (0.4.0)\n",
            "Requirement already satisfied: gitpython!=3.1.29,>=1.0.0 in /usr/local/lib/python3.10/dist-packages (from wandb) (3.1.43)\n",
            "Requirement already satisfied: platformdirs in /usr/local/lib/python3.10/dist-packages (from wandb) (4.3.6)\n",
            "Requirement already satisfied: protobuf!=4.21.0,!=5.28.0,<6,>=3.19.0 in /usr/local/lib/python3.10/dist-packages (from wandb) (3.20.3)\n",
            "Requirement already satisfied: psutil>=5.0.0 in /usr/local/lib/python3.10/dist-packages (from wandb) (5.9.5)\n",
            "Requirement already satisfied: pyyaml in /usr/local/lib/python3.10/dist-packages (from wandb) (6.0.2)\n",
            "Requirement already satisfied: requests<3,>=2.0.0 in /usr/local/lib/python3.10/dist-packages (from wandb) (2.32.3)\n",
            "Requirement already satisfied: sentry-sdk>=2.0.0 in /usr/local/lib/python3.10/dist-packages (from wandb) (2.17.0)\n",
            "Requirement already satisfied: setproctitle in /usr/local/lib/python3.10/dist-packages (from wandb) (1.3.3)\n",
            "Requirement already satisfied: setuptools in /usr/local/lib/python3.10/dist-packages (from wandb) (75.1.0)\n",
            "Requirement already satisfied: typing-extensions<5,>=4.4 in /usr/local/lib/python3.10/dist-packages (from wandb) (4.12.2)\n",
            "Requirement already satisfied: six>=1.4.0 in /usr/local/lib/python3.10/dist-packages (from docker-pycreds>=0.4.0->wandb) (1.16.0)\n",
            "Requirement already satisfied: gitdb<5,>=4.0.1 in /usr/local/lib/python3.10/dist-packages (from gitpython!=3.1.29,>=1.0.0->wandb) (4.0.11)\n",
            "Requirement already satisfied: charset-normalizer<4,>=2 in /usr/local/lib/python3.10/dist-packages (from requests<3,>=2.0.0->wandb) (3.4.0)\n",
            "Requirement already satisfied: idna<4,>=2.5 in /usr/local/lib/python3.10/dist-packages (from requests<3,>=2.0.0->wandb) (3.10)\n",
            "Requirement already satisfied: urllib3<3,>=1.21.1 in /usr/local/lib/python3.10/dist-packages (from requests<3,>=2.0.0->wandb) (2.2.3)\n",
            "Requirement already satisfied: certifi>=2017.4.17 in /usr/local/lib/python3.10/dist-packages (from requests<3,>=2.0.0->wandb) (2024.8.30)\n",
            "Requirement already satisfied: smmap<6,>=3.0.1 in /usr/local/lib/python3.10/dist-packages (from gitdb<5,>=4.0.1->gitpython!=3.1.29,>=1.0.0->wandb) (5.0.1)\n"
          ]
        }
      ]
    },
    {
      "cell_type": "code",
      "execution_count": 3,
      "metadata": {
        "id": "qOc0tT3-nv73",
        "colab": {
          "base_uri": "https://localhost:8080/",
          "height": 231
        },
        "outputId": "7a8b0ef5-2362-432a-bc8e-f21e717aabf9"
      },
      "outputs": [
        {
          "output_type": "stream",
          "name": "stderr",
          "text": [
            "\u001b[34m\u001b[1mwandb\u001b[0m: Using wandb-core as the SDK backend. Please refer to https://wandb.me/wandb-core for more information.\n"
          ]
        },
        {
          "output_type": "display_data",
          "data": {
            "text/plain": [
              "<IPython.core.display.Javascript object>"
            ],
            "application/javascript": [
              "\n",
              "        window._wandbApiKey = new Promise((resolve, reject) => {\n",
              "            function loadScript(url) {\n",
              "            return new Promise(function(resolve, reject) {\n",
              "                let newScript = document.createElement(\"script\");\n",
              "                newScript.onerror = reject;\n",
              "                newScript.onload = resolve;\n",
              "                document.body.appendChild(newScript);\n",
              "                newScript.src = url;\n",
              "            });\n",
              "            }\n",
              "            loadScript(\"https://cdn.jsdelivr.net/npm/postmate/build/postmate.min.js\").then(() => {\n",
              "            const iframe = document.createElement('iframe')\n",
              "            iframe.style.cssText = \"width:0;height:0;border:none\"\n",
              "            document.body.appendChild(iframe)\n",
              "            const handshake = new Postmate({\n",
              "                container: iframe,\n",
              "                url: 'https://wandb.ai/authorize'\n",
              "            });\n",
              "            const timeout = setTimeout(() => reject(\"Couldn't auto authenticate\"), 5000)\n",
              "            handshake.then(function(child) {\n",
              "                child.on('authorize', data => {\n",
              "                    clearTimeout(timeout)\n",
              "                    resolve(data)\n",
              "                });\n",
              "            });\n",
              "            })\n",
              "        });\n",
              "    "
            ]
          },
          "metadata": {}
        },
        {
          "output_type": "stream",
          "name": "stderr",
          "text": [
            "\u001b[34m\u001b[1mwandb\u001b[0m: Logging into wandb.ai. (Learn how to deploy a W&B server locally: https://wandb.me/wandb-server)\n",
            "\u001b[34m\u001b[1mwandb\u001b[0m: You can find your API key in your browser here: https://wandb.ai/authorize\n",
            "wandb: Paste an API key from your profile and hit enter, or press ctrl+c to quit:"
          ]
        },
        {
          "name": "stdout",
          "output_type": "stream",
          "text": [
            " ··········\n"
          ]
        },
        {
          "output_type": "stream",
          "name": "stderr",
          "text": [
            "\u001b[34m\u001b[1mwandb\u001b[0m: Appending key for api.wandb.ai to your netrc file: /root/.netrc\n"
          ]
        },
        {
          "output_type": "display_data",
          "data": {
            "text/plain": [
              "<IPython.core.display.HTML object>"
            ],
            "text/html": [
              "Tracking run with wandb version 0.18.5"
            ]
          },
          "metadata": {}
        },
        {
          "output_type": "display_data",
          "data": {
            "text/plain": [
              "<IPython.core.display.HTML object>"
            ],
            "text/html": [
              "Run data is saved locally in <code>/content/wandb/run-20241025_112351-qtx5tuzz</code>"
            ]
          },
          "metadata": {}
        },
        {
          "output_type": "display_data",
          "data": {
            "text/plain": [
              "<IPython.core.display.HTML object>"
            ],
            "text/html": [
              "Syncing run <strong><a href='https://wandb.ai/parkdoi-gachon-university/CUB_Transfer_Learning/runs/qtx5tuzz' target=\"_blank\">ResNet18_with_RAdam and OneCycleLR_test2</a></strong> to <a href='https://wandb.ai/parkdoi-gachon-university/CUB_Transfer_Learning' target=\"_blank\">Weights & Biases</a> (<a href='https://wandb.me/run' target=\"_blank\">docs</a>)<br/>"
            ]
          },
          "metadata": {}
        },
        {
          "output_type": "display_data",
          "data": {
            "text/plain": [
              "<IPython.core.display.HTML object>"
            ],
            "text/html": [
              " View project at <a href='https://wandb.ai/parkdoi-gachon-university/CUB_Transfer_Learning' target=\"_blank\">https://wandb.ai/parkdoi-gachon-university/CUB_Transfer_Learning</a>"
            ]
          },
          "metadata": {}
        },
        {
          "output_type": "display_data",
          "data": {
            "text/plain": [
              "<IPython.core.display.HTML object>"
            ],
            "text/html": [
              " View run at <a href='https://wandb.ai/parkdoi-gachon-university/CUB_Transfer_Learning/runs/qtx5tuzz' target=\"_blank\">https://wandb.ai/parkdoi-gachon-university/CUB_Transfer_Learning/runs/qtx5tuzz</a>"
            ]
          },
          "metadata": {}
        },
        {
          "output_type": "stream",
          "name": "stdout",
          "text": [
            "cuda\n"
          ]
        }
      ],
      "source": [
        "import os\n",
        "import time\n",
        "\n",
        "import torch\n",
        "import torchvision.transforms as transforms\n",
        "import torchvision.models as models\n",
        "from torch.utils.data import Dataset, DataLoader\n",
        "\n",
        "import torch.optim as optim\n",
        "import torch.nn as nn\n",
        "import torch.nn.functional as F\n",
        "\n",
        "import wandb\n",
        "\n",
        "# radam 사용\n",
        "from radam import RAdam\n",
        "\n",
        "# 스케줄러 사용\n",
        "from transformers import get_cosine_schedule_with_warmup\n",
        "\n",
        "from PIL import Image\n",
        "#내가 추가\n",
        "import re\n",
        "\n",
        "# wandb 설정 (오프라인 모드로 실행)\n",
        "wandb.init(project=\"CUB_Transfer_Learning\", name=\"RAdam and get_cosine_schedule_with_warmup\")\n",
        "\n",
        "### GPU Setting ###\n",
        "USE_CUDA = torch.cuda.is_available()\n",
        "DEVICE = torch.device(\"cuda\" if USE_CUDA else \"cpu\")\n",
        "print(DEVICE)"
      ]
    },
    {
      "cell_type": "code",
      "source": [
        "### Custom Dataset ###\n",
        "class CUB2011(Dataset):\n",
        "  def __init__(self, transform, mode='train'):\n",
        "    self.transform = transform\n",
        "    self.mode = mode\n",
        "\n",
        "    if self.mode == 'train':\n",
        "      self.image_folder = os.listdir('/content/gdrive/MyDrive/CUB_200_2011_repackage_class50/datasets/train')\n",
        "    elif self.mode == 'valid':\n",
        "      self.image_folder = os.listdir('/content/gdrive/MyDrive/CUB_200_2011_repackage_class50/datasets/valid')\n",
        "    elif self.mode == 'test':\n",
        "      self.image_folder = os.listdir('/content/gdrive/MyDrive/CUB_200_2011_repackage_class50/datasets/test')\n",
        "\n",
        "  def __len__(self):\n",
        "    return len(self.image_folder)\n",
        "\n",
        "  def __getitem__(self, idx):\n",
        "    img_path = self.image_folder[idx]\n",
        "    img = Image.open(os.path.join('/content/gdrive/MyDrive/CUB_200_2011_repackage_class50/datasets', self.mode, img_path)).convert('RGB')\n",
        "    img = self.transform(img)\n",
        "    label = img_path.split('_')[-1].split('.')[0]\n",
        "    label = re.sub(r'\\([^)]*\\)', '', label)\n",
        "    label = int(label)\n",
        "    return (img, label)"
      ],
      "metadata": {
        "id": "KaFgjkFp8tzI"
      },
      "execution_count": 4,
      "outputs": []
    },
    {
      "cell_type": "code",
      "source": [
        "### Data Preprocessing ###\n",
        "\n",
        "transforms_train = transforms.Compose([transforms.Resize((448,448)),\n",
        "                                       transforms.ToTensor()])\n",
        "transforms_valtest = transforms.Compose([transforms.Resize((448,448)),\n",
        "                                         transforms.ToTensor()])\n",
        "\n",
        "BATCH_SIZE = 32\n",
        "train_set = CUB2011(mode='train',\n",
        "                    transform=transforms_train)\n",
        "# transforms_train을 transforms_valtest로 변경\n",
        "val_set = CUB2011(mode='valid',\n",
        "                  transform=transforms_valtest)\n",
        "test_set = CUB2011(mode='test',\n",
        "                  transform=transforms_valtest)\n",
        "\n",
        "print('Num of each dataset: ',len(train_set),len(val_set),len(test_set))\n",
        "\n",
        "train_loader = DataLoader(train_set,batch_size=BATCH_SIZE,shuffle=True)\n",
        "val_loader = DataLoader(val_set,batch_size=BATCH_SIZE,shuffle=False)\n",
        "test_loader = DataLoader(test_set,batch_size=BATCH_SIZE,shuffle=False)\n",
        "\n",
        "print(\"Loaded dataloader\")\n",
        "\n",
        "### Model / Optimizer ###\n",
        "EPOCH = 25\n",
        "lr = 0.0001\n",
        "\n",
        "model = models.resnet18(pretrained=True)\n",
        "\n",
        "### Tranfer Learning ###\n",
        "num_features = model.fc.in_features\n",
        "model.fc = nn.Linear(num_features,50)\n",
        "model.to(DEVICE)\n",
        "\n",
        "optimizer = optim.RAdam(model.parameters(),lr=lr)\n",
        "\n",
        "# 스케줄러 초기화 (get_cosine_schedule_with_warmup 사용)\n",
        "total_steps = len(train_loader) * EPOCH\n",
        "scheduler = get_cosine_schedule_with_warmup(optimizer, num_warmup_steps=total_steps // 10, num_training_steps=total_steps)\n",
        "\n",
        "print(\"Created a learning model and optimizer\")"
      ],
      "metadata": {
        "colab": {
          "base_uri": "https://localhost:8080/"
        },
        "id": "38vx5jj22neg",
        "outputId": "dd004744-abd9-4a28-aa20-8a18abb610c7"
      },
      "execution_count": 5,
      "outputs": [
        {
          "output_type": "stream",
          "name": "stdout",
          "text": [
            "Num of each dataset:  2360 296 298\n",
            "Loaded dataloader\n"
          ]
        },
        {
          "output_type": "stream",
          "name": "stderr",
          "text": [
            "/usr/local/lib/python3.10/dist-packages/torchvision/models/_utils.py:208: UserWarning: The parameter 'pretrained' is deprecated since 0.13 and may be removed in the future, please use 'weights' instead.\n",
            "  warnings.warn(\n",
            "/usr/local/lib/python3.10/dist-packages/torchvision/models/_utils.py:223: UserWarning: Arguments other than a weight enum or `None` for 'weights' are deprecated since 0.13 and may be removed in the future. The current behavior is equivalent to passing `weights=ResNet18_Weights.IMAGENET1K_V1`. You can also use `weights=ResNet18_Weights.DEFAULT` to get the most up-to-date weights.\n",
            "  warnings.warn(msg)\n",
            "Downloading: \"https://download.pytorch.org/models/resnet18-f37072fd.pth\" to /root/.cache/torch/hub/checkpoints/resnet18-f37072fd.pth\n",
            "100%|██████████| 44.7M/44.7M [00:00<00:00, 99.0MB/s]\n"
          ]
        },
        {
          "output_type": "stream",
          "name": "stdout",
          "text": [
            "Created a learning model and optimizer\n"
          ]
        }
      ]
    },
    {
      "cell_type": "code",
      "source": [
        "### Train/Evaluation ###\n",
        "def train(model,train_loader,optimizer,epoch):\n",
        "  model.train()\n",
        "  for i,(image,target) in enumerate(train_loader):\n",
        "    image,target = image.to(DEVICE),target.to(DEVICE)\n",
        "    output = model(image)\n",
        "    optimizer.zero_grad()\n",
        "    train_loss = F.cross_entropy(output,target).to(DEVICE)\n",
        "\n",
        "    train_loss.backward()\n",
        "    optimizer.step()\n",
        "\n",
        "    # 스케줄러 업데이트\n",
        "    scheduler.step()\n",
        "\n",
        "    if i%10 ==0:\n",
        "      print(\n",
        "          f'Train Epoch: {epoch} [{i}/{len(train_loader)}]\\tloss: {train_loss.item():6f}')\n",
        "\n",
        "  return train_loss\n",
        "\n",
        "def evaluate(model,val_loader):\n",
        "  model.eval()\n",
        "  eval_loss = 0\n",
        "  correct = 0\n",
        "  with torch.no_grad():\n",
        "    for i,(image,target) in enumerate(val_loader):\n",
        "      image,target = image.to(DEVICE),target.to(DEVICE)\n",
        "      output = model(image)\n",
        "\n",
        "      eval_loss += F.cross_entropy(output,target, reduction='sum').item()\n",
        "      pred = output.max(1,keepdim=True)[1]\n",
        "      correct += pred.eq(target.view_as(pred)).sum().item()\n",
        "\n",
        "  eval_loss /= len(val_loader.dataset)\n",
        "  eval_accuracy = 100*correct / len(val_loader.dataset)\n",
        "  return eval_loss,eval_accuracy"
      ],
      "metadata": {
        "id": "apDhVk6C2r7R"
      },
      "execution_count": 6,
      "outputs": []
    },
    {
      "cell_type": "code",
      "source": [
        "### Main ###\n",
        "start = time.time()\n",
        "best = 0\n",
        "for epoch in range(EPOCH):\n",
        "    train_loss = train(model, train_loader, optimizer, epoch)\n",
        "    val_loss, val_accuracy = evaluate(model, val_loader)\n",
        "\n",
        "    # wandb 로그 기록\n",
        "    wandb.log({\n",
        "        'Epoch': epoch,\n",
        "        'Train Loss': train_loss,\n",
        "        'Validation Loss': val_loss,\n",
        "        'Validation Accuracy': val_accuracy\n",
        "    })\n",
        "\n",
        "    # Save best model\n",
        "    if val_accuracy > best:\n",
        "        best = val_accuracy\n",
        "        torch.save(model.state_dict(), \"./best_model.pth\")\n",
        "\n",
        "    print(f\"[{epoch}] Validation Loss: {val_loss:.4f}, Accuracy: {val_accuracy:.4f}%\")\n",
        "\n",
        "# Test result\n",
        "test_loss, test_accuracy = evaluate(model, test_loader)\n",
        "print(f'[FINAL] Test Loss: {test_loss:.4f}, Accuracy: {test_accuracy:.4f}%')\n",
        "\n",
        "# wandb 테스트 결과 로그 기록\n",
        "wandb.log({\n",
        "    'Test Loss': test_loss,\n",
        "    'Test Accuracy': test_accuracy\n",
        "})\n",
        "\n",
        "end = time.time()\n",
        "elapsed_time = end - start\n",
        "\n",
        "print(\"Best Accuracy: \", best)\n",
        "print(f\"Elapsed Time: {int(elapsed_time / 3600)}h, {int(elapsed_time / 60)}m, {int(elapsed_time % 60)}s\")\n",
        "\n",
        "wandb.finish()"
      ],
      "metadata": {
        "colab": {
          "base_uri": "https://localhost:8080/",
          "height": 1000
        },
        "id": "VNhSTX452wyd",
        "outputId": "97897f4e-15ba-434d-8bc2-e62bac6dc80c"
      },
      "execution_count": 7,
      "outputs": [
        {
          "output_type": "stream",
          "name": "stdout",
          "text": [
            "Train Epoch: 0 [0/74]\tloss: 4.069471\n",
            "Train Epoch: 0 [10/74]\tloss: 4.175213\n",
            "Train Epoch: 0 [20/74]\tloss: 4.003531\n",
            "Train Epoch: 0 [30/74]\tloss: 3.816018\n",
            "Train Epoch: 0 [40/74]\tloss: 3.623078\n",
            "Train Epoch: 0 [50/74]\tloss: 3.364537\n",
            "Train Epoch: 0 [60/74]\tloss: 3.014391\n",
            "Train Epoch: 0 [70/74]\tloss: 3.006881\n",
            "[0] Validation Loss: 2.6544, Accuracy: 43.5811%\n",
            "Train Epoch: 1 [0/74]\tloss: 2.523283\n",
            "Train Epoch: 1 [10/74]\tloss: 2.284463\n",
            "Train Epoch: 1 [20/74]\tloss: 2.114076\n",
            "Train Epoch: 1 [30/74]\tloss: 1.892113\n",
            "Train Epoch: 1 [40/74]\tloss: 1.720813\n",
            "Train Epoch: 1 [50/74]\tloss: 1.669986\n",
            "Train Epoch: 1 [60/74]\tloss: 1.235622\n",
            "Train Epoch: 1 [70/74]\tloss: 1.303895\n",
            "[1] Validation Loss: 1.5208, Accuracy: 67.2297%\n",
            "Train Epoch: 2 [0/74]\tloss: 0.936924\n",
            "Train Epoch: 2 [10/74]\tloss: 0.743878\n",
            "Train Epoch: 2 [20/74]\tloss: 0.688905\n",
            "Train Epoch: 2 [30/74]\tloss: 0.552266\n",
            "Train Epoch: 2 [40/74]\tloss: 0.782589\n",
            "Train Epoch: 2 [50/74]\tloss: 1.127929\n",
            "Train Epoch: 2 [60/74]\tloss: 1.004723\n",
            "Train Epoch: 2 [70/74]\tloss: 0.876714\n",
            "[2] Validation Loss: 2.9153, Accuracy: 35.8108%\n",
            "Train Epoch: 3 [0/74]\tloss: 0.726446\n",
            "Train Epoch: 3 [10/74]\tloss: 1.128357\n",
            "Train Epoch: 3 [20/74]\tloss: 0.698771\n",
            "Train Epoch: 3 [30/74]\tloss: 1.195689\n",
            "Train Epoch: 3 [40/74]\tloss: 1.285153\n",
            "Train Epoch: 3 [50/74]\tloss: 1.302446\n",
            "Train Epoch: 3 [60/74]\tloss: 1.795334\n",
            "Train Epoch: 3 [70/74]\tloss: 1.355907\n",
            "[3] Validation Loss: 4.7819, Accuracy: 13.5135%\n",
            "Train Epoch: 4 [0/74]\tloss: 1.409277\n",
            "Train Epoch: 4 [10/74]\tloss: 1.757390\n",
            "Train Epoch: 4 [20/74]\tloss: 1.571073\n",
            "Train Epoch: 4 [30/74]\tloss: 1.387097\n",
            "Train Epoch: 4 [40/74]\tloss: 1.527007\n",
            "Train Epoch: 4 [50/74]\tloss: 1.578458\n",
            "Train Epoch: 4 [60/74]\tloss: 1.747043\n",
            "Train Epoch: 4 [70/74]\tloss: 1.797600\n",
            "[4] Validation Loss: 4.1299, Accuracy: 17.2297%\n",
            "Train Epoch: 5 [0/74]\tloss: 1.351159\n",
            "Train Epoch: 5 [10/74]\tloss: 1.291631\n",
            "Train Epoch: 5 [20/74]\tloss: 1.246514\n",
            "Train Epoch: 5 [30/74]\tloss: 1.217060\n",
            "Train Epoch: 5 [40/74]\tloss: 1.234234\n",
            "Train Epoch: 5 [50/74]\tloss: 0.937623\n",
            "Train Epoch: 5 [60/74]\tloss: 1.219046\n",
            "Train Epoch: 5 [70/74]\tloss: 1.518039\n",
            "[5] Validation Loss: 9.1292, Accuracy: 22.2973%\n",
            "Train Epoch: 6 [0/74]\tloss: 1.207381\n",
            "Train Epoch: 6 [10/74]\tloss: 1.349725\n",
            "Train Epoch: 6 [20/74]\tloss: 0.952541\n",
            "Train Epoch: 6 [30/74]\tloss: 0.889699\n",
            "Train Epoch: 6 [40/74]\tloss: 1.335537\n",
            "Train Epoch: 6 [50/74]\tloss: 1.161406\n",
            "Train Epoch: 6 [60/74]\tloss: 0.789073\n",
            "Train Epoch: 6 [70/74]\tloss: 1.147009\n",
            "[6] Validation Loss: 5.6509, Accuracy: 23.9865%\n",
            "Train Epoch: 7 [0/74]\tloss: 1.046406\n",
            "Train Epoch: 7 [10/74]\tloss: 1.019197\n",
            "Train Epoch: 7 [20/74]\tloss: 0.920836\n",
            "Train Epoch: 7 [30/74]\tloss: 1.649962\n",
            "Train Epoch: 7 [40/74]\tloss: 1.751925\n",
            "Train Epoch: 7 [50/74]\tloss: 0.871250\n",
            "Train Epoch: 7 [60/74]\tloss: 1.005741\n",
            "Train Epoch: 7 [70/74]\tloss: 1.013140\n",
            "[7] Validation Loss: 2.2236, Accuracy: 44.5946%\n",
            "Train Epoch: 8 [0/74]\tloss: 0.589658\n",
            "Train Epoch: 8 [10/74]\tloss: 0.814570\n",
            "Train Epoch: 8 [20/74]\tloss: 1.096841\n",
            "Train Epoch: 8 [30/74]\tloss: 1.076657\n",
            "Train Epoch: 8 [40/74]\tloss: 1.291938\n",
            "Train Epoch: 8 [50/74]\tloss: 0.697368\n",
            "Train Epoch: 8 [60/74]\tloss: 1.082135\n",
            "Train Epoch: 8 [70/74]\tloss: 0.595565\n",
            "[8] Validation Loss: 2.1397, Accuracy: 50.0000%\n",
            "Train Epoch: 9 [0/74]\tloss: 0.571391\n",
            "Train Epoch: 9 [10/74]\tloss: 0.405614\n",
            "Train Epoch: 9 [20/74]\tloss: 0.260214\n",
            "Train Epoch: 9 [30/74]\tloss: 1.057838\n",
            "Train Epoch: 9 [40/74]\tloss: 0.267572\n",
            "Train Epoch: 9 [50/74]\tloss: 0.521830\n",
            "Train Epoch: 9 [60/74]\tloss: 0.568893\n",
            "Train Epoch: 9 [70/74]\tloss: 0.712649\n",
            "[9] Validation Loss: 2.3575, Accuracy: 52.0270%\n",
            "Train Epoch: 10 [0/74]\tloss: 0.188343\n",
            "Train Epoch: 10 [10/74]\tloss: 0.532932\n",
            "Train Epoch: 10 [20/74]\tloss: 0.517694\n",
            "Train Epoch: 10 [30/74]\tloss: 0.698812\n",
            "Train Epoch: 10 [40/74]\tloss: 0.402934\n",
            "Train Epoch: 10 [50/74]\tloss: 0.500066\n",
            "Train Epoch: 10 [60/74]\tloss: 0.408610\n",
            "Train Epoch: 10 [70/74]\tloss: 0.232324\n",
            "[10] Validation Loss: 3.1003, Accuracy: 46.2838%\n",
            "Train Epoch: 11 [0/74]\tloss: 0.253000\n",
            "Train Epoch: 11 [10/74]\tloss: 0.352238\n",
            "Train Epoch: 11 [20/74]\tloss: 0.219191\n",
            "Train Epoch: 11 [30/74]\tloss: 0.175083\n",
            "Train Epoch: 11 [40/74]\tloss: 0.335297\n",
            "Train Epoch: 11 [50/74]\tloss: 0.611177\n",
            "Train Epoch: 11 [60/74]\tloss: 0.400187\n",
            "Train Epoch: 11 [70/74]\tloss: 0.230247\n",
            "[11] Validation Loss: 1.6466, Accuracy: 60.8108%\n",
            "Train Epoch: 12 [0/74]\tloss: 0.124116\n",
            "Train Epoch: 12 [10/74]\tloss: 0.231291\n",
            "Train Epoch: 12 [20/74]\tloss: 0.285238\n",
            "Train Epoch: 12 [30/74]\tloss: 0.156334\n",
            "Train Epoch: 12 [40/74]\tloss: 0.427664\n",
            "Train Epoch: 12 [50/74]\tloss: 0.333710\n",
            "Train Epoch: 12 [60/74]\tloss: 0.314822\n",
            "Train Epoch: 12 [70/74]\tloss: 0.277476\n",
            "[12] Validation Loss: 1.7299, Accuracy: 62.5000%\n",
            "Train Epoch: 13 [0/74]\tloss: 0.190609\n",
            "Train Epoch: 13 [10/74]\tloss: 0.249468\n",
            "Train Epoch: 13 [20/74]\tloss: 0.343972\n",
            "Train Epoch: 13 [30/74]\tloss: 0.188064\n",
            "Train Epoch: 13 [40/74]\tloss: 0.260316\n",
            "Train Epoch: 13 [50/74]\tloss: 0.371849\n",
            "Train Epoch: 13 [60/74]\tloss: 0.357263\n",
            "Train Epoch: 13 [70/74]\tloss: 0.406263\n",
            "[13] Validation Loss: 1.3213, Accuracy: 69.2568%\n",
            "Train Epoch: 14 [0/74]\tloss: 0.151179\n",
            "Train Epoch: 14 [10/74]\tloss: 0.072349\n",
            "Train Epoch: 14 [20/74]\tloss: 0.078468\n",
            "Train Epoch: 14 [30/74]\tloss: 0.048961\n",
            "Train Epoch: 14 [40/74]\tloss: 0.058882\n",
            "Train Epoch: 14 [50/74]\tloss: 0.098422\n",
            "Train Epoch: 14 [60/74]\tloss: 0.281306\n",
            "Train Epoch: 14 [70/74]\tloss: 0.061432\n",
            "[14] Validation Loss: 1.2182, Accuracy: 70.2703%\n",
            "Train Epoch: 15 [0/74]\tloss: 0.039412\n",
            "Train Epoch: 15 [10/74]\tloss: 0.021565\n",
            "Train Epoch: 15 [20/74]\tloss: 0.044699\n",
            "Train Epoch: 15 [30/74]\tloss: 0.006193\n",
            "Train Epoch: 15 [40/74]\tloss: 0.028763\n",
            "Train Epoch: 15 [50/74]\tloss: 0.018636\n",
            "Train Epoch: 15 [60/74]\tloss: 0.007295\n",
            "Train Epoch: 15 [70/74]\tloss: 0.001374\n",
            "[15] Validation Loss: 0.9405, Accuracy: 77.3649%\n",
            "Train Epoch: 16 [0/74]\tloss: 0.057352\n",
            "Train Epoch: 16 [10/74]\tloss: 0.007562\n",
            "Train Epoch: 16 [20/74]\tloss: 0.009140\n",
            "Train Epoch: 16 [30/74]\tloss: 0.009054\n",
            "Train Epoch: 16 [40/74]\tloss: 0.012022\n",
            "Train Epoch: 16 [50/74]\tloss: 0.008384\n",
            "Train Epoch: 16 [60/74]\tloss: 0.000903\n",
            "Train Epoch: 16 [70/74]\tloss: 0.007904\n",
            "[16] Validation Loss: 0.8127, Accuracy: 81.7568%\n",
            "Train Epoch: 17 [0/74]\tloss: 0.003103\n",
            "Train Epoch: 17 [10/74]\tloss: 0.003834\n",
            "Train Epoch: 17 [20/74]\tloss: 0.001358\n",
            "Train Epoch: 17 [30/74]\tloss: 0.001042\n",
            "Train Epoch: 17 [40/74]\tloss: 0.004626\n",
            "Train Epoch: 17 [50/74]\tloss: 0.001297\n",
            "Train Epoch: 17 [60/74]\tloss: 0.000625\n",
            "Train Epoch: 17 [70/74]\tloss: 0.003202\n",
            "[17] Validation Loss: 0.8096, Accuracy: 83.1081%\n",
            "Train Epoch: 18 [0/74]\tloss: 0.002353\n",
            "Train Epoch: 18 [10/74]\tloss: 0.002448\n",
            "Train Epoch: 18 [20/74]\tloss: 0.001453\n",
            "Train Epoch: 18 [30/74]\tloss: 0.004141\n",
            "Train Epoch: 18 [40/74]\tloss: 0.002446\n",
            "Train Epoch: 18 [50/74]\tloss: 0.002430\n",
            "Train Epoch: 18 [60/74]\tloss: 0.001696\n",
            "Train Epoch: 18 [70/74]\tloss: 0.003542\n",
            "[18] Validation Loss: 0.7888, Accuracy: 81.7568%\n",
            "Train Epoch: 19 [0/74]\tloss: 0.001109\n",
            "Train Epoch: 19 [10/74]\tloss: 0.001514\n",
            "Train Epoch: 19 [20/74]\tloss: 0.000647\n",
            "Train Epoch: 19 [30/74]\tloss: 0.001202\n",
            "Train Epoch: 19 [40/74]\tloss: 0.000727\n",
            "Train Epoch: 19 [50/74]\tloss: 0.000720\n",
            "Train Epoch: 19 [60/74]\tloss: 0.001028\n",
            "Train Epoch: 19 [70/74]\tloss: 0.000434\n",
            "[19] Validation Loss: 0.7964, Accuracy: 82.7703%\n",
            "Train Epoch: 20 [0/74]\tloss: 0.002535\n",
            "Train Epoch: 20 [10/74]\tloss: 0.000480\n",
            "Train Epoch: 20 [20/74]\tloss: 0.002074\n",
            "Train Epoch: 20 [30/74]\tloss: 0.001088\n",
            "Train Epoch: 20 [40/74]\tloss: 0.000883\n",
            "Train Epoch: 20 [50/74]\tloss: 0.001610\n",
            "Train Epoch: 20 [60/74]\tloss: 0.001681\n",
            "Train Epoch: 20 [70/74]\tloss: 0.001614\n",
            "[20] Validation Loss: 0.7935, Accuracy: 82.7703%\n",
            "Train Epoch: 21 [0/74]\tloss: 0.001148\n",
            "Train Epoch: 21 [10/74]\tloss: 0.001346\n",
            "Train Epoch: 21 [20/74]\tloss: 0.000603\n",
            "Train Epoch: 21 [30/74]\tloss: 0.000820\n",
            "Train Epoch: 21 [40/74]\tloss: 0.001052\n",
            "Train Epoch: 21 [50/74]\tloss: 0.000840\n",
            "Train Epoch: 21 [60/74]\tloss: 0.000717\n",
            "Train Epoch: 21 [70/74]\tloss: 0.002617\n",
            "[21] Validation Loss: 0.7963, Accuracy: 82.7703%\n",
            "Train Epoch: 22 [0/74]\tloss: 0.000599\n",
            "Train Epoch: 22 [10/74]\tloss: 0.001878\n",
            "Train Epoch: 22 [20/74]\tloss: 0.000410\n",
            "Train Epoch: 22 [30/74]\tloss: 0.000758\n",
            "Train Epoch: 22 [40/74]\tloss: 0.000842\n",
            "Train Epoch: 22 [50/74]\tloss: 0.002230\n",
            "Train Epoch: 22 [60/74]\tloss: 0.001244\n",
            "Train Epoch: 22 [70/74]\tloss: 0.000738\n",
            "[22] Validation Loss: 0.7812, Accuracy: 83.1081%\n",
            "Train Epoch: 23 [0/74]\tloss: 0.000371\n",
            "Train Epoch: 23 [10/74]\tloss: 0.000680\n",
            "Train Epoch: 23 [20/74]\tloss: 0.005891\n",
            "Train Epoch: 23 [30/74]\tloss: 0.000596\n",
            "Train Epoch: 23 [40/74]\tloss: 0.001739\n",
            "Train Epoch: 23 [50/74]\tloss: 0.001210\n",
            "Train Epoch: 23 [60/74]\tloss: 0.001057\n",
            "Train Epoch: 23 [70/74]\tloss: 0.000405\n",
            "[23] Validation Loss: 0.7849, Accuracy: 83.1081%\n",
            "Train Epoch: 24 [0/74]\tloss: 0.000199\n",
            "Train Epoch: 24 [10/74]\tloss: 0.000619\n",
            "Train Epoch: 24 [20/74]\tloss: 0.003610\n",
            "Train Epoch: 24 [30/74]\tloss: 0.000769\n",
            "Train Epoch: 24 [40/74]\tloss: 0.000232\n",
            "Train Epoch: 24 [50/74]\tloss: 0.001608\n",
            "Train Epoch: 24 [60/74]\tloss: 0.001034\n",
            "Train Epoch: 24 [70/74]\tloss: 0.001982\n",
            "[24] Validation Loss: 0.7770, Accuracy: 82.4324%\n",
            "[FINAL] Test Loss: 0.8149, Accuracy: 79.1946%\n",
            "Best Accuracy:  83.10810810810811\n",
            "Elapsed Time: 0h, 21m, 4s\n"
          ]
        },
        {
          "output_type": "display_data",
          "data": {
            "text/plain": [
              "<IPython.core.display.HTML object>"
            ],
            "text/html": [
              "<style>\n",
              "    table.wandb td:nth-child(1) { padding: 0 10px; text-align: left ; width: auto;} td:nth-child(2) {text-align: left ; width: 100%}\n",
              "    .wandb-row { display: flex; flex-direction: row; flex-wrap: wrap; justify-content: flex-start; width: 100% }\n",
              "    .wandb-col { display: flex; flex-direction: column; flex-basis: 100%; flex: 1; padding: 10px; }\n",
              "    </style>\n",
              "<div class=\"wandb-row\"><div class=\"wandb-col\"><h3>Run history:</h3><br/><table class=\"wandb\"><tr><td>Epoch</td><td>▁▁▂▂▂▂▃▃▃▄▄▄▅▅▅▅▆▆▆▇▇▇▇██</td></tr><tr><td>Test Accuracy</td><td>▁</td></tr><tr><td>Test Loss</td><td>▁</td></tr><tr><td>Train Loss</td><td>█▃▃▄▄▄▄▆▂▂▂▂▂▁▁▁▁▁▁▁▁▁▁▁▁</td></tr><tr><td>Validation Accuracy</td><td>▄▆▃▁▁▂▂▄▅▅▄▆▆▇▇▇█████████</td></tr><tr><td>Validation Loss</td><td>▃▂▃▄▄█▅▂▂▂▃▂▂▁▁▁▁▁▁▁▁▁▁▁▁</td></tr></table><br/></div><div class=\"wandb-col\"><h3>Run summary:</h3><br/><table class=\"wandb\"><tr><td>Epoch</td><td>24</td></tr><tr><td>Test Accuracy</td><td>79.19463</td></tr><tr><td>Test Loss</td><td>0.81488</td></tr><tr><td>Train Loss</td><td>0.00131</td></tr><tr><td>Validation Accuracy</td><td>82.43243</td></tr><tr><td>Validation Loss</td><td>0.77696</td></tr></table><br/></div></div>"
            ]
          },
          "metadata": {}
        },
        {
          "output_type": "display_data",
          "data": {
            "text/plain": [
              "<IPython.core.display.HTML object>"
            ],
            "text/html": [
              " View run <strong style=\"color:#cdcd00\">ResNet18_with_RAdam and OneCycleLR_test2</strong> at: <a href='https://wandb.ai/parkdoi-gachon-university/CUB_Transfer_Learning/runs/qtx5tuzz' target=\"_blank\">https://wandb.ai/parkdoi-gachon-university/CUB_Transfer_Learning/runs/qtx5tuzz</a><br/> View project at: <a href='https://wandb.ai/parkdoi-gachon-university/CUB_Transfer_Learning' target=\"_blank\">https://wandb.ai/parkdoi-gachon-university/CUB_Transfer_Learning</a><br/>Synced 5 W&B file(s), 0 media file(s), 0 artifact file(s) and 0 other file(s)"
            ]
          },
          "metadata": {}
        },
        {
          "output_type": "display_data",
          "data": {
            "text/plain": [
              "<IPython.core.display.HTML object>"
            ],
            "text/html": [
              "Find logs at: <code>./wandb/run-20241025_112351-qtx5tuzz/logs</code>"
            ]
          },
          "metadata": {}
        }
      ]
    }
  ]
}