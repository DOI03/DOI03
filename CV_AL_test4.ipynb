{
  "nbformat": 4,
  "nbformat_minor": 0,
  "metadata": {
    "colab": {
      "provenance": [],
      "gpuType": "T4",
      "include_colab_link": true
    },
    "kernelspec": {
      "name": "python3",
      "display_name": "Python 3"
    },
    "language_info": {
      "name": "python"
    },
    "accelerator": "GPU",
    "widgets": {
      "application/vnd.jupyter.widget-state+json": {
        "007cb84e1a7948e0ae8f8f1b443f9a83": {
          "model_module": "@jupyter-widgets/controls",
          "model_name": "VBoxModel",
          "model_module_version": "1.5.0",
          "state": {
            "_dom_classes": [],
            "_model_module": "@jupyter-widgets/controls",
            "_model_module_version": "1.5.0",
            "_model_name": "VBoxModel",
            "_view_count": null,
            "_view_module": "@jupyter-widgets/controls",
            "_view_module_version": "1.5.0",
            "_view_name": "VBoxView",
            "box_style": "",
            "children": [
              "IPY_MODEL_f4077315cc3c4017b5a65902946c324f",
              "IPY_MODEL_59459bb2cd1643e89f685d2457778403"
            ],
            "layout": "IPY_MODEL_2b4a4e6f7dc94c42b4830905d4205362"
          }
        },
        "f4077315cc3c4017b5a65902946c324f": {
          "model_module": "@jupyter-widgets/controls",
          "model_name": "LabelModel",
          "model_module_version": "1.5.0",
          "state": {
            "_dom_classes": [],
            "_model_module": "@jupyter-widgets/controls",
            "_model_module_version": "1.5.0",
            "_model_name": "LabelModel",
            "_view_count": null,
            "_view_module": "@jupyter-widgets/controls",
            "_view_module_version": "1.5.0",
            "_view_name": "LabelView",
            "description": "",
            "description_tooltip": null,
            "layout": "IPY_MODEL_ec775cabcb194c04b18cd66fce354a63",
            "placeholder": "​",
            "style": "IPY_MODEL_df6ddde948a0417ca3efb9867a949760",
            "value": "0.021 MB of 0.021 MB uploaded\r"
          }
        },
        "59459bb2cd1643e89f685d2457778403": {
          "model_module": "@jupyter-widgets/controls",
          "model_name": "FloatProgressModel",
          "model_module_version": "1.5.0",
          "state": {
            "_dom_classes": [],
            "_model_module": "@jupyter-widgets/controls",
            "_model_module_version": "1.5.0",
            "_model_name": "FloatProgressModel",
            "_view_count": null,
            "_view_module": "@jupyter-widgets/controls",
            "_view_module_version": "1.5.0",
            "_view_name": "ProgressView",
            "bar_style": "",
            "description": "",
            "description_tooltip": null,
            "layout": "IPY_MODEL_967bdec5f349450aae8e85736ab326a7",
            "max": 1,
            "min": 0,
            "orientation": "horizontal",
            "style": "IPY_MODEL_58b203c3f4ca45c0bf668910f2d8a98e",
            "value": 1
          }
        },
        "2b4a4e6f7dc94c42b4830905d4205362": {
          "model_module": "@jupyter-widgets/base",
          "model_name": "LayoutModel",
          "model_module_version": "1.2.0",
          "state": {
            "_model_module": "@jupyter-widgets/base",
            "_model_module_version": "1.2.0",
            "_model_name": "LayoutModel",
            "_view_count": null,
            "_view_module": "@jupyter-widgets/base",
            "_view_module_version": "1.2.0",
            "_view_name": "LayoutView",
            "align_content": null,
            "align_items": null,
            "align_self": null,
            "border": null,
            "bottom": null,
            "display": null,
            "flex": null,
            "flex_flow": null,
            "grid_area": null,
            "grid_auto_columns": null,
            "grid_auto_flow": null,
            "grid_auto_rows": null,
            "grid_column": null,
            "grid_gap": null,
            "grid_row": null,
            "grid_template_areas": null,
            "grid_template_columns": null,
            "grid_template_rows": null,
            "height": null,
            "justify_content": null,
            "justify_items": null,
            "left": null,
            "margin": null,
            "max_height": null,
            "max_width": null,
            "min_height": null,
            "min_width": null,
            "object_fit": null,
            "object_position": null,
            "order": null,
            "overflow": null,
            "overflow_x": null,
            "overflow_y": null,
            "padding": null,
            "right": null,
            "top": null,
            "visibility": null,
            "width": null
          }
        },
        "ec775cabcb194c04b18cd66fce354a63": {
          "model_module": "@jupyter-widgets/base",
          "model_name": "LayoutModel",
          "model_module_version": "1.2.0",
          "state": {
            "_model_module": "@jupyter-widgets/base",
            "_model_module_version": "1.2.0",
            "_model_name": "LayoutModel",
            "_view_count": null,
            "_view_module": "@jupyter-widgets/base",
            "_view_module_version": "1.2.0",
            "_view_name": "LayoutView",
            "align_content": null,
            "align_items": null,
            "align_self": null,
            "border": null,
            "bottom": null,
            "display": null,
            "flex": null,
            "flex_flow": null,
            "grid_area": null,
            "grid_auto_columns": null,
            "grid_auto_flow": null,
            "grid_auto_rows": null,
            "grid_column": null,
            "grid_gap": null,
            "grid_row": null,
            "grid_template_areas": null,
            "grid_template_columns": null,
            "grid_template_rows": null,
            "height": null,
            "justify_content": null,
            "justify_items": null,
            "left": null,
            "margin": null,
            "max_height": null,
            "max_width": null,
            "min_height": null,
            "min_width": null,
            "object_fit": null,
            "object_position": null,
            "order": null,
            "overflow": null,
            "overflow_x": null,
            "overflow_y": null,
            "padding": null,
            "right": null,
            "top": null,
            "visibility": null,
            "width": null
          }
        },
        "df6ddde948a0417ca3efb9867a949760": {
          "model_module": "@jupyter-widgets/controls",
          "model_name": "DescriptionStyleModel",
          "model_module_version": "1.5.0",
          "state": {
            "_model_module": "@jupyter-widgets/controls",
            "_model_module_version": "1.5.0",
            "_model_name": "DescriptionStyleModel",
            "_view_count": null,
            "_view_module": "@jupyter-widgets/base",
            "_view_module_version": "1.2.0",
            "_view_name": "StyleView",
            "description_width": ""
          }
        },
        "967bdec5f349450aae8e85736ab326a7": {
          "model_module": "@jupyter-widgets/base",
          "model_name": "LayoutModel",
          "model_module_version": "1.2.0",
          "state": {
            "_model_module": "@jupyter-widgets/base",
            "_model_module_version": "1.2.0",
            "_model_name": "LayoutModel",
            "_view_count": null,
            "_view_module": "@jupyter-widgets/base",
            "_view_module_version": "1.2.0",
            "_view_name": "LayoutView",
            "align_content": null,
            "align_items": null,
            "align_self": null,
            "border": null,
            "bottom": null,
            "display": null,
            "flex": null,
            "flex_flow": null,
            "grid_area": null,
            "grid_auto_columns": null,
            "grid_auto_flow": null,
            "grid_auto_rows": null,
            "grid_column": null,
            "grid_gap": null,
            "grid_row": null,
            "grid_template_areas": null,
            "grid_template_columns": null,
            "grid_template_rows": null,
            "height": null,
            "justify_content": null,
            "justify_items": null,
            "left": null,
            "margin": null,
            "max_height": null,
            "max_width": null,
            "min_height": null,
            "min_width": null,
            "object_fit": null,
            "object_position": null,
            "order": null,
            "overflow": null,
            "overflow_x": null,
            "overflow_y": null,
            "padding": null,
            "right": null,
            "top": null,
            "visibility": null,
            "width": null
          }
        },
        "58b203c3f4ca45c0bf668910f2d8a98e": {
          "model_module": "@jupyter-widgets/controls",
          "model_name": "ProgressStyleModel",
          "model_module_version": "1.5.0",
          "state": {
            "_model_module": "@jupyter-widgets/controls",
            "_model_module_version": "1.5.0",
            "_model_name": "ProgressStyleModel",
            "_view_count": null,
            "_view_module": "@jupyter-widgets/base",
            "_view_module_version": "1.2.0",
            "_view_name": "StyleView",
            "bar_color": null,
            "description_width": ""
          }
        }
      }
    }
  },
  "cells": [
    {
      "cell_type": "markdown",
      "metadata": {
        "id": "view-in-github",
        "colab_type": "text"
      },
      "source": [
        "<a href=\"https://colab.research.google.com/github/DOI03/DOI03/blob/main/CV_AL_test4.ipynb\" target=\"_parent\"><img src=\"https://colab.research.google.com/assets/colab-badge.svg\" alt=\"Open In Colab\"/></a>"
      ]
    },
    {
      "cell_type": "markdown",
      "source": [
        "1.   optimizer로 RAdam 사용\n",
        "2.   lr = 0.0001\n",
        "3.   get_cosine_schedule_with_warmup 스케줄러 사용\n",
        "\n",
        "\n",
        "\n"
      ],
      "metadata": {
        "id": "JBBnibyCbQ_A"
      }
    },
    {
      "cell_type": "code",
      "source": [
        "from google.colab import drive\n",
        "drive.mount('/content/gdrive')"
      ],
      "metadata": {
        "colab": {
          "base_uri": "https://localhost:8080/"
        },
        "id": "xr4ox9es1m_Z",
        "outputId": "b69af551-6a83-4e8f-883e-419ba42c7be9"
      },
      "execution_count": 1,
      "outputs": [
        {
          "output_type": "stream",
          "name": "stdout",
          "text": [
            "Mounted at /content/gdrive\n"
          ]
        }
      ]
    },
    {
      "cell_type": "code",
      "source": [
        "!pip install git+https://github.com/LiyuanLucasLiu/RAdam.git\n",
        "!pip install wandb"
      ],
      "metadata": {
        "colab": {
          "base_uri": "https://localhost:8080/"
        },
        "id": "7a36Uzf7yL9l",
        "outputId": "337a5f5e-4eef-42c3-fdae-5c2622b9033f"
      },
      "execution_count": 2,
      "outputs": [
        {
          "output_type": "stream",
          "name": "stdout",
          "text": [
            "Collecting git+https://github.com/LiyuanLucasLiu/RAdam.git\n",
            "  Cloning https://github.com/LiyuanLucasLiu/RAdam.git to /tmp/pip-req-build-_8q0qcbr\n",
            "  Running command git clone --filter=blob:none --quiet https://github.com/LiyuanLucasLiu/RAdam.git /tmp/pip-req-build-_8q0qcbr\n",
            "  Resolved https://github.com/LiyuanLucasLiu/RAdam.git to commit d9fd30a337894c4003768561d45e8730dbd41333\n",
            "  Preparing metadata (setup.py) ... \u001b[?25l\u001b[?25hdone\n",
            "Requirement already satisfied: torch in /usr/local/lib/python3.10/dist-packages (from RAdam==0.0.1) (2.5.0+cu121)\n",
            "Requirement already satisfied: filelock in /usr/local/lib/python3.10/dist-packages (from torch->RAdam==0.0.1) (3.16.1)\n",
            "Requirement already satisfied: typing-extensions>=4.8.0 in /usr/local/lib/python3.10/dist-packages (from torch->RAdam==0.0.1) (4.12.2)\n",
            "Requirement already satisfied: networkx in /usr/local/lib/python3.10/dist-packages (from torch->RAdam==0.0.1) (3.4.2)\n",
            "Requirement already satisfied: jinja2 in /usr/local/lib/python3.10/dist-packages (from torch->RAdam==0.0.1) (3.1.4)\n",
            "Requirement already satisfied: fsspec in /usr/local/lib/python3.10/dist-packages (from torch->RAdam==0.0.1) (2024.6.1)\n",
            "Requirement already satisfied: sympy==1.13.1 in /usr/local/lib/python3.10/dist-packages (from torch->RAdam==0.0.1) (1.13.1)\n",
            "Requirement already satisfied: mpmath<1.4,>=1.1.0 in /usr/local/lib/python3.10/dist-packages (from sympy==1.13.1->torch->RAdam==0.0.1) (1.3.0)\n",
            "Requirement already satisfied: MarkupSafe>=2.0 in /usr/local/lib/python3.10/dist-packages (from jinja2->torch->RAdam==0.0.1) (3.0.2)\n",
            "Building wheels for collected packages: RAdam\n",
            "  Building wheel for RAdam (setup.py) ... \u001b[?25l\u001b[?25hdone\n",
            "  Created wheel for RAdam: filename=RAdam-0.0.1-py3-none-any.whl size=7098 sha256=57c5322d064d393c7b928edca1f76f2de87c449d2f945691bbfa07b4e53df340\n",
            "  Stored in directory: /tmp/pip-ephem-wheel-cache-bdrpejjb/wheels/27/dd/f4/a154a2dd1d807820314f09ba2fa30f13f96a0d2830e8bab05e\n",
            "Successfully built RAdam\n",
            "Installing collected packages: RAdam\n",
            "Successfully installed RAdam-0.0.1\n",
            "Requirement already satisfied: wandb in /usr/local/lib/python3.10/dist-packages (0.18.5)\n",
            "Requirement already satisfied: click!=8.0.0,>=7.1 in /usr/local/lib/python3.10/dist-packages (from wandb) (8.1.7)\n",
            "Requirement already satisfied: docker-pycreds>=0.4.0 in /usr/local/lib/python3.10/dist-packages (from wandb) (0.4.0)\n",
            "Requirement already satisfied: gitpython!=3.1.29,>=1.0.0 in /usr/local/lib/python3.10/dist-packages (from wandb) (3.1.43)\n",
            "Requirement already satisfied: platformdirs in /usr/local/lib/python3.10/dist-packages (from wandb) (4.3.6)\n",
            "Requirement already satisfied: protobuf!=4.21.0,!=5.28.0,<6,>=3.19.0 in /usr/local/lib/python3.10/dist-packages (from wandb) (3.20.3)\n",
            "Requirement already satisfied: psutil>=5.0.0 in /usr/local/lib/python3.10/dist-packages (from wandb) (5.9.5)\n",
            "Requirement already satisfied: pyyaml in /usr/local/lib/python3.10/dist-packages (from wandb) (6.0.2)\n",
            "Requirement already satisfied: requests<3,>=2.0.0 in /usr/local/lib/python3.10/dist-packages (from wandb) (2.32.3)\n",
            "Requirement already satisfied: sentry-sdk>=2.0.0 in /usr/local/lib/python3.10/dist-packages (from wandb) (2.17.0)\n",
            "Requirement already satisfied: setproctitle in /usr/local/lib/python3.10/dist-packages (from wandb) (1.3.3)\n",
            "Requirement already satisfied: setuptools in /usr/local/lib/python3.10/dist-packages (from wandb) (75.1.0)\n",
            "Requirement already satisfied: typing-extensions<5,>=4.4 in /usr/local/lib/python3.10/dist-packages (from wandb) (4.12.2)\n",
            "Requirement already satisfied: six>=1.4.0 in /usr/local/lib/python3.10/dist-packages (from docker-pycreds>=0.4.0->wandb) (1.16.0)\n",
            "Requirement already satisfied: gitdb<5,>=4.0.1 in /usr/local/lib/python3.10/dist-packages (from gitpython!=3.1.29,>=1.0.0->wandb) (4.0.11)\n",
            "Requirement already satisfied: charset-normalizer<4,>=2 in /usr/local/lib/python3.10/dist-packages (from requests<3,>=2.0.0->wandb) (3.4.0)\n",
            "Requirement already satisfied: idna<4,>=2.5 in /usr/local/lib/python3.10/dist-packages (from requests<3,>=2.0.0->wandb) (3.10)\n",
            "Requirement already satisfied: urllib3<3,>=1.21.1 in /usr/local/lib/python3.10/dist-packages (from requests<3,>=2.0.0->wandb) (2.2.3)\n",
            "Requirement already satisfied: certifi>=2017.4.17 in /usr/local/lib/python3.10/dist-packages (from requests<3,>=2.0.0->wandb) (2024.8.30)\n",
            "Requirement already satisfied: smmap<6,>=3.0.1 in /usr/local/lib/python3.10/dist-packages (from gitdb<5,>=4.0.1->gitpython!=3.1.29,>=1.0.0->wandb) (5.0.1)\n"
          ]
        }
      ]
    },
    {
      "cell_type": "code",
      "execution_count": 3,
      "metadata": {
        "id": "qOc0tT3-nv73",
        "colab": {
          "base_uri": "https://localhost:8080/",
          "height": 231
        },
        "outputId": "c913d764-5892-444d-dc96-85348e0c603a"
      },
      "outputs": [
        {
          "output_type": "stream",
          "name": "stderr",
          "text": [
            "\u001b[34m\u001b[1mwandb\u001b[0m: Using wandb-core as the SDK backend. Please refer to https://wandb.me/wandb-core for more information.\n"
          ]
        },
        {
          "output_type": "display_data",
          "data": {
            "text/plain": [
              "<IPython.core.display.Javascript object>"
            ],
            "application/javascript": [
              "\n",
              "        window._wandbApiKey = new Promise((resolve, reject) => {\n",
              "            function loadScript(url) {\n",
              "            return new Promise(function(resolve, reject) {\n",
              "                let newScript = document.createElement(\"script\");\n",
              "                newScript.onerror = reject;\n",
              "                newScript.onload = resolve;\n",
              "                document.body.appendChild(newScript);\n",
              "                newScript.src = url;\n",
              "            });\n",
              "            }\n",
              "            loadScript(\"https://cdn.jsdelivr.net/npm/postmate/build/postmate.min.js\").then(() => {\n",
              "            const iframe = document.createElement('iframe')\n",
              "            iframe.style.cssText = \"width:0;height:0;border:none\"\n",
              "            document.body.appendChild(iframe)\n",
              "            const handshake = new Postmate({\n",
              "                container: iframe,\n",
              "                url: 'https://wandb.ai/authorize'\n",
              "            });\n",
              "            const timeout = setTimeout(() => reject(\"Couldn't auto authenticate\"), 5000)\n",
              "            handshake.then(function(child) {\n",
              "                child.on('authorize', data => {\n",
              "                    clearTimeout(timeout)\n",
              "                    resolve(data)\n",
              "                });\n",
              "            });\n",
              "            })\n",
              "        });\n",
              "    "
            ]
          },
          "metadata": {}
        },
        {
          "output_type": "stream",
          "name": "stderr",
          "text": [
            "\u001b[34m\u001b[1mwandb\u001b[0m: Logging into wandb.ai. (Learn how to deploy a W&B server locally: https://wandb.me/wandb-server)\n",
            "\u001b[34m\u001b[1mwandb\u001b[0m: You can find your API key in your browser here: https://wandb.ai/authorize\n",
            "wandb: Paste an API key from your profile and hit enter, or press ctrl+c to quit:"
          ]
        },
        {
          "name": "stdout",
          "output_type": "stream",
          "text": [
            " ··········\n"
          ]
        },
        {
          "output_type": "stream",
          "name": "stderr",
          "text": [
            "\u001b[34m\u001b[1mwandb\u001b[0m: Appending key for api.wandb.ai to your netrc file: /root/.netrc\n"
          ]
        },
        {
          "output_type": "display_data",
          "data": {
            "text/plain": [
              "<IPython.core.display.HTML object>"
            ],
            "text/html": [
              "Tracking run with wandb version 0.18.5"
            ]
          },
          "metadata": {}
        },
        {
          "output_type": "display_data",
          "data": {
            "text/plain": [
              "<IPython.core.display.HTML object>"
            ],
            "text/html": [
              "Run data is saved locally in <code>/content/wandb/run-20241025_115951-lnw848zx</code>"
            ]
          },
          "metadata": {}
        },
        {
          "output_type": "display_data",
          "data": {
            "text/plain": [
              "<IPython.core.display.HTML object>"
            ],
            "text/html": [
              "Syncing run <strong><a href='https://wandb.ai/parkdoi-gachon-university/CUB_Transfer_Learning/runs/lnw848zx' target=\"_blank\">RAdam and get_cosine_schedule_with_warmup</a></strong> to <a href='https://wandb.ai/parkdoi-gachon-university/CUB_Transfer_Learning' target=\"_blank\">Weights & Biases</a> (<a href='https://wandb.me/run' target=\"_blank\">docs</a>)<br/>"
            ]
          },
          "metadata": {}
        },
        {
          "output_type": "display_data",
          "data": {
            "text/plain": [
              "<IPython.core.display.HTML object>"
            ],
            "text/html": [
              " View project at <a href='https://wandb.ai/parkdoi-gachon-university/CUB_Transfer_Learning' target=\"_blank\">https://wandb.ai/parkdoi-gachon-university/CUB_Transfer_Learning</a>"
            ]
          },
          "metadata": {}
        },
        {
          "output_type": "display_data",
          "data": {
            "text/plain": [
              "<IPython.core.display.HTML object>"
            ],
            "text/html": [
              " View run at <a href='https://wandb.ai/parkdoi-gachon-university/CUB_Transfer_Learning/runs/lnw848zx' target=\"_blank\">https://wandb.ai/parkdoi-gachon-university/CUB_Transfer_Learning/runs/lnw848zx</a>"
            ]
          },
          "metadata": {}
        },
        {
          "output_type": "stream",
          "name": "stdout",
          "text": [
            "cuda\n"
          ]
        }
      ],
      "source": [
        "import os\n",
        "import time\n",
        "\n",
        "import torch\n",
        "import torchvision.transforms as transforms\n",
        "import torchvision.models as models\n",
        "from torch.utils.data import Dataset, DataLoader\n",
        "\n",
        "import torch.optim as optim\n",
        "import torch.nn as nn\n",
        "import torch.nn.functional as F\n",
        "\n",
        "import wandb\n",
        "\n",
        "# radam 사용\n",
        "from radam import RAdam\n",
        "\n",
        "# 스케줄러 사용\n",
        "from transformers import get_cosine_schedule_with_warmup\n",
        "\n",
        "from PIL import Image\n",
        "#내가 추가\n",
        "import re\n",
        "\n",
        "# wandb 설정 (오프라인 모드로 실행)\n",
        "wandb.init(project=\"CUB_Transfer_Learning\", name=\"RAdam and get_cosine_schedule_with_warmup\")\n",
        "\n",
        "### GPU Setting ###\n",
        "USE_CUDA = torch.cuda.is_available()\n",
        "DEVICE = torch.device(\"cuda\" if USE_CUDA else \"cpu\")\n",
        "print(DEVICE)"
      ]
    },
    {
      "cell_type": "code",
      "source": [
        "### Custom Dataset ###\n",
        "class CUB2011(Dataset):\n",
        "  def __init__(self, transform, mode='train'):\n",
        "    self.transform = transform\n",
        "    self.mode = mode\n",
        "\n",
        "    if self.mode == 'train':\n",
        "      self.image_folder = os.listdir('/content/gdrive/MyDrive/CUB_200_2011_repackage_class50/datasets/train')\n",
        "    elif self.mode == 'valid':\n",
        "      self.image_folder = os.listdir('/content/gdrive/MyDrive/CUB_200_2011_repackage_class50/datasets/valid')\n",
        "    elif self.mode == 'test':\n",
        "      self.image_folder = os.listdir('/content/gdrive/MyDrive/CUB_200_2011_repackage_class50/datasets/test')\n",
        "\n",
        "  def __len__(self):\n",
        "    return len(self.image_folder)\n",
        "\n",
        "  def __getitem__(self, idx):\n",
        "    img_path = self.image_folder[idx]\n",
        "    img = Image.open(os.path.join('/content/gdrive/MyDrive/CUB_200_2011_repackage_class50/datasets', self.mode, img_path)).convert('RGB')\n",
        "    img = self.transform(img)\n",
        "    label = img_path.split('_')[-1].split('.')[0]\n",
        "    label = re.sub(r'\\([^)]*\\)', '', label)\n",
        "    label = int(label)\n",
        "    return (img, label)"
      ],
      "metadata": {
        "id": "KaFgjkFp8tzI"
      },
      "execution_count": 4,
      "outputs": []
    },
    {
      "cell_type": "code",
      "source": [
        "### Data Preprocessing ###\n",
        "\n",
        "transforms_train = transforms.Compose([transforms.Resize((448,448)),\n",
        "                                       transforms.ToTensor()])\n",
        "transforms_valtest = transforms.Compose([transforms.Resize((448,448)),\n",
        "                                         transforms.ToTensor()])\n",
        "\n",
        "BATCH_SIZE = 32\n",
        "train_set = CUB2011(mode='train',\n",
        "                    transform=transforms_train)\n",
        "# transforms_train을 transforms_valtest로 변경\n",
        "val_set = CUB2011(mode='valid',\n",
        "                  transform=transforms_valtest)\n",
        "test_set = CUB2011(mode='test',\n",
        "                  transform=transforms_valtest)\n",
        "\n",
        "print('Num of each dataset: ',len(train_set),len(val_set),len(test_set))\n",
        "\n",
        "train_loader = DataLoader(train_set,batch_size=BATCH_SIZE,shuffle=True)\n",
        "val_loader = DataLoader(val_set,batch_size=BATCH_SIZE,shuffle=False)\n",
        "test_loader = DataLoader(test_set,batch_size=BATCH_SIZE,shuffle=False)\n",
        "\n",
        "print(\"Loaded dataloader\")\n",
        "\n",
        "### Model / Optimizer ###\n",
        "EPOCH = 25\n",
        "lr = 0.0001\n",
        "\n",
        "model = models.resnet18(pretrained=True)\n",
        "\n",
        "### Tranfer Learning ###\n",
        "num_features = model.fc.in_features\n",
        "model.fc = nn.Linear(num_features,50)\n",
        "model.to(DEVICE)\n",
        "\n",
        "optimizer = optim.RAdam(model.parameters(),lr=lr)\n",
        "\n",
        "# 스케줄러 초기화 (get_cosine_schedule_with_warmup 사용)\n",
        "total_steps = len(train_loader) * EPOCH\n",
        "scheduler = get_cosine_schedule_with_warmup(optimizer, num_warmup_steps=total_steps // 10, num_training_steps=total_steps)\n",
        "\n",
        "print(\"Created a learning model and optimizer\")"
      ],
      "metadata": {
        "colab": {
          "base_uri": "https://localhost:8080/"
        },
        "id": "38vx5jj22neg",
        "outputId": "9985fac9-1a04-46eb-e2a7-9021fbf776a4"
      },
      "execution_count": 5,
      "outputs": [
        {
          "output_type": "stream",
          "name": "stdout",
          "text": [
            "Num of each dataset:  2360 296 298\n",
            "Loaded dataloader\n"
          ]
        },
        {
          "output_type": "stream",
          "name": "stderr",
          "text": [
            "/usr/local/lib/python3.10/dist-packages/torchvision/models/_utils.py:208: UserWarning: The parameter 'pretrained' is deprecated since 0.13 and may be removed in the future, please use 'weights' instead.\n",
            "  warnings.warn(\n",
            "/usr/local/lib/python3.10/dist-packages/torchvision/models/_utils.py:223: UserWarning: Arguments other than a weight enum or `None` for 'weights' are deprecated since 0.13 and may be removed in the future. The current behavior is equivalent to passing `weights=ResNet18_Weights.IMAGENET1K_V1`. You can also use `weights=ResNet18_Weights.DEFAULT` to get the most up-to-date weights.\n",
            "  warnings.warn(msg)\n",
            "Downloading: \"https://download.pytorch.org/models/resnet18-f37072fd.pth\" to /root/.cache/torch/hub/checkpoints/resnet18-f37072fd.pth\n",
            "100%|██████████| 44.7M/44.7M [00:01<00:00, 31.7MB/s]\n"
          ]
        },
        {
          "output_type": "stream",
          "name": "stdout",
          "text": [
            "Created a learning model and optimizer\n"
          ]
        }
      ]
    },
    {
      "cell_type": "code",
      "source": [
        "### Train/Evaluation ###\n",
        "def train(model,train_loader,optimizer,epoch):\n",
        "  model.train()\n",
        "  for i,(image,target) in enumerate(train_loader):\n",
        "    image,target = image.to(DEVICE),target.to(DEVICE)\n",
        "    output = model(image)\n",
        "    optimizer.zero_grad()\n",
        "    train_loss = F.cross_entropy(output,target).to(DEVICE)\n",
        "\n",
        "    train_loss.backward()\n",
        "    optimizer.step()\n",
        "\n",
        "    # 스케줄러 업데이트\n",
        "    scheduler.step()\n",
        "\n",
        "    if i%10 ==0:\n",
        "      print(\n",
        "          f'Train Epoch: {epoch} [{i}/{len(train_loader)}]\\tloss: {train_loss.item():6f}')\n",
        "\n",
        "  return train_loss\n",
        "\n",
        "def evaluate(model,val_loader):\n",
        "  model.eval()\n",
        "  eval_loss = 0\n",
        "  correct = 0\n",
        "  with torch.no_grad():\n",
        "    for i,(image,target) in enumerate(val_loader):\n",
        "      image,target = image.to(DEVICE),target.to(DEVICE)\n",
        "      output = model(image)\n",
        "\n",
        "      eval_loss += F.cross_entropy(output,target, reduction='sum').item()\n",
        "      pred = output.max(1,keepdim=True)[1]\n",
        "      correct += pred.eq(target.view_as(pred)).sum().item()\n",
        "\n",
        "  eval_loss /= len(val_loader.dataset)\n",
        "  eval_accuracy = 100*correct / len(val_loader.dataset)\n",
        "  return eval_loss,eval_accuracy"
      ],
      "metadata": {
        "id": "apDhVk6C2r7R"
      },
      "execution_count": 6,
      "outputs": []
    },
    {
      "cell_type": "code",
      "source": [
        "### Main ###\n",
        "start = time.time()\n",
        "best = 0\n",
        "for epoch in range(EPOCH):\n",
        "    train_loss = train(model, train_loader, optimizer, epoch)\n",
        "    val_loss, val_accuracy = evaluate(model, val_loader)\n",
        "\n",
        "    # wandb 로그 기록\n",
        "    wandb.log({\n",
        "        'Epoch': epoch,\n",
        "        'Train Loss': train_loss,\n",
        "        'Validation Loss': val_loss,\n",
        "        'Validation Accuracy': val_accuracy\n",
        "    })\n",
        "\n",
        "    # Save best model\n",
        "    if val_accuracy > best:\n",
        "        best = val_accuracy\n",
        "        torch.save(model.state_dict(), \"./best_model.pth\")\n",
        "\n",
        "    print(f\"[{epoch}] Validation Loss: {val_loss:.4f}, Accuracy: {val_accuracy:.4f}%\")\n",
        "\n",
        "# Test result\n",
        "test_loss, test_accuracy = evaluate(model, test_loader)\n",
        "print(f'[FINAL] Test Loss: {test_loss:.4f}, Accuracy: {test_accuracy:.4f}%')\n",
        "\n",
        "# wandb 테스트 결과 로그 기록\n",
        "wandb.log({\n",
        "    'Test Loss': test_loss,\n",
        "    'Test Accuracy': test_accuracy\n",
        "})\n",
        "\n",
        "end = time.time()\n",
        "elapsed_time = end - start\n",
        "\n",
        "print(\"Best Accuracy: \", best)\n",
        "print(f\"Elapsed Time: {int(elapsed_time / 3600)}h, {int(elapsed_time / 60)}m, {int(elapsed_time % 60)}s\")\n",
        "\n",
        "wandb.finish()"
      ],
      "metadata": {
        "colab": {
          "base_uri": "https://localhost:8080/",
          "height": 1000,
          "referenced_widgets": [
            "007cb84e1a7948e0ae8f8f1b443f9a83",
            "f4077315cc3c4017b5a65902946c324f",
            "59459bb2cd1643e89f685d2457778403",
            "2b4a4e6f7dc94c42b4830905d4205362",
            "ec775cabcb194c04b18cd66fce354a63",
            "df6ddde948a0417ca3efb9867a949760",
            "967bdec5f349450aae8e85736ab326a7",
            "58b203c3f4ca45c0bf668910f2d8a98e"
          ]
        },
        "id": "VNhSTX452wyd",
        "outputId": "b37b6057-25a3-44c3-8b59-e884d7eb3ead"
      },
      "execution_count": 7,
      "outputs": [
        {
          "output_type": "stream",
          "name": "stdout",
          "text": [
            "Train Epoch: 0 [0/74]\tloss: 4.218960\n",
            "Train Epoch: 0 [10/74]\tloss: 3.992342\n",
            "Train Epoch: 0 [20/74]\tloss: 4.101707\n",
            "Train Epoch: 0 [30/74]\tloss: 3.791001\n",
            "Train Epoch: 0 [40/74]\tloss: 3.940465\n",
            "Train Epoch: 0 [50/74]\tloss: 4.129678\n",
            "Train Epoch: 0 [60/74]\tloss: 4.088923\n",
            "Train Epoch: 0 [70/74]\tloss: 3.979158\n",
            "[0] Validation Loss: 3.9341, Accuracy: 3.3784%\n",
            "Train Epoch: 1 [0/74]\tloss: 3.836885\n",
            "Train Epoch: 1 [10/74]\tloss: 3.884736\n",
            "Train Epoch: 1 [20/74]\tloss: 3.890033\n",
            "Train Epoch: 1 [30/74]\tloss: 3.851415\n",
            "Train Epoch: 1 [40/74]\tloss: 3.826817\n",
            "Train Epoch: 1 [50/74]\tloss: 3.641040\n",
            "Train Epoch: 1 [60/74]\tloss: 3.749457\n",
            "Train Epoch: 1 [70/74]\tloss: 3.677436\n",
            "[1] Validation Loss: 3.5825, Accuracy: 12.8378%\n",
            "Train Epoch: 2 [0/74]\tloss: 3.510320\n",
            "Train Epoch: 2 [10/74]\tloss: 3.336631\n",
            "Train Epoch: 2 [20/74]\tloss: 3.516457\n",
            "Train Epoch: 2 [30/74]\tloss: 3.097935\n",
            "Train Epoch: 2 [40/74]\tloss: 3.075442\n",
            "Train Epoch: 2 [50/74]\tloss: 2.958725\n",
            "Train Epoch: 2 [60/74]\tloss: 2.887043\n",
            "Train Epoch: 2 [70/74]\tloss: 2.837309\n",
            "[2] Validation Loss: 2.9872, Accuracy: 35.1351%\n",
            "Train Epoch: 3 [0/74]\tloss: 2.915626\n",
            "Train Epoch: 3 [10/74]\tloss: 2.786372\n",
            "Train Epoch: 3 [20/74]\tloss: 2.729805\n",
            "Train Epoch: 3 [30/74]\tloss: 2.527295\n",
            "Train Epoch: 3 [40/74]\tloss: 2.498935\n",
            "Train Epoch: 3 [50/74]\tloss: 2.676429\n",
            "Train Epoch: 3 [60/74]\tloss: 2.578215\n",
            "Train Epoch: 3 [70/74]\tloss: 2.263890\n",
            "[3] Validation Loss: 2.3598, Accuracy: 56.0811%\n",
            "Train Epoch: 4 [0/74]\tloss: 2.038610\n",
            "Train Epoch: 4 [10/74]\tloss: 2.081039\n",
            "Train Epoch: 4 [20/74]\tloss: 1.944268\n",
            "Train Epoch: 4 [30/74]\tloss: 1.835880\n",
            "Train Epoch: 4 [40/74]\tloss: 1.833330\n",
            "Train Epoch: 4 [50/74]\tloss: 1.729383\n",
            "Train Epoch: 4 [60/74]\tloss: 1.819311\n",
            "Train Epoch: 4 [70/74]\tloss: 1.900454\n",
            "[4] Validation Loss: 1.9630, Accuracy: 64.8649%\n",
            "Train Epoch: 5 [0/74]\tloss: 1.441786\n",
            "Train Epoch: 5 [10/74]\tloss: 1.621237\n",
            "Train Epoch: 5 [20/74]\tloss: 1.628507\n",
            "Train Epoch: 5 [30/74]\tloss: 1.460892\n",
            "Train Epoch: 5 [40/74]\tloss: 1.512208\n",
            "Train Epoch: 5 [50/74]\tloss: 1.363976\n",
            "Train Epoch: 5 [60/74]\tloss: 1.393212\n",
            "Train Epoch: 5 [70/74]\tloss: 1.445064\n",
            "[5] Validation Loss: 1.6430, Accuracy: 73.6486%\n",
            "Train Epoch: 6 [0/74]\tloss: 1.272260\n",
            "Train Epoch: 6 [10/74]\tloss: 1.015601\n",
            "Train Epoch: 6 [20/74]\tloss: 1.074916\n",
            "Train Epoch: 6 [30/74]\tloss: 1.254838\n",
            "Train Epoch: 6 [40/74]\tloss: 1.227441\n",
            "Train Epoch: 6 [50/74]\tloss: 1.149808\n",
            "Train Epoch: 6 [60/74]\tloss: 1.096643\n",
            "Train Epoch: 6 [70/74]\tloss: 1.104879\n",
            "[6] Validation Loss: 1.4027, Accuracy: 77.3649%\n",
            "Train Epoch: 7 [0/74]\tloss: 0.908459\n",
            "Train Epoch: 7 [10/74]\tloss: 0.839392\n",
            "Train Epoch: 7 [20/74]\tloss: 0.828295\n",
            "Train Epoch: 7 [30/74]\tloss: 0.851181\n",
            "Train Epoch: 7 [40/74]\tloss: 0.654171\n",
            "Train Epoch: 7 [50/74]\tloss: 0.915454\n",
            "Train Epoch: 7 [60/74]\tloss: 0.836432\n",
            "Train Epoch: 7 [70/74]\tloss: 0.787126\n",
            "[7] Validation Loss: 1.2500, Accuracy: 79.0541%\n",
            "Train Epoch: 8 [0/74]\tloss: 0.504991\n",
            "Train Epoch: 8 [10/74]\tloss: 0.676351\n",
            "Train Epoch: 8 [20/74]\tloss: 0.552760\n",
            "Train Epoch: 8 [30/74]\tloss: 0.553911\n",
            "Train Epoch: 8 [40/74]\tloss: 0.518989\n",
            "Train Epoch: 8 [50/74]\tloss: 0.602120\n",
            "Train Epoch: 8 [60/74]\tloss: 0.596835\n",
            "Train Epoch: 8 [70/74]\tloss: 0.549148\n",
            "[8] Validation Loss: 1.0839, Accuracy: 82.4324%\n",
            "Train Epoch: 9 [0/74]\tloss: 0.501953\n",
            "Train Epoch: 9 [10/74]\tloss: 0.366289\n",
            "Train Epoch: 9 [20/74]\tloss: 0.389155\n",
            "Train Epoch: 9 [30/74]\tloss: 0.446566\n",
            "Train Epoch: 9 [40/74]\tloss: 0.404754\n",
            "Train Epoch: 9 [50/74]\tloss: 0.487525\n",
            "Train Epoch: 9 [60/74]\tloss: 0.350196\n",
            "Train Epoch: 9 [70/74]\tloss: 0.388020\n",
            "[9] Validation Loss: 0.9814, Accuracy: 83.1081%\n",
            "Train Epoch: 10 [0/74]\tloss: 0.333204\n",
            "Train Epoch: 10 [10/74]\tloss: 0.287531\n",
            "Train Epoch: 10 [20/74]\tloss: 0.299168\n",
            "Train Epoch: 10 [30/74]\tloss: 0.325691\n",
            "Train Epoch: 10 [40/74]\tloss: 0.313826\n",
            "Train Epoch: 10 [50/74]\tloss: 0.260602\n",
            "Train Epoch: 10 [60/74]\tloss: 0.236851\n",
            "Train Epoch: 10 [70/74]\tloss: 0.261927\n",
            "[10] Validation Loss: 0.9509, Accuracy: 83.1081%\n",
            "Train Epoch: 11 [0/74]\tloss: 0.220560\n",
            "Train Epoch: 11 [10/74]\tloss: 0.198302\n",
            "Train Epoch: 11 [20/74]\tloss: 0.229845\n",
            "Train Epoch: 11 [30/74]\tloss: 0.308358\n",
            "Train Epoch: 11 [40/74]\tloss: 0.259261\n",
            "Train Epoch: 11 [50/74]\tloss: 0.219222\n",
            "Train Epoch: 11 [60/74]\tloss: 0.235001\n",
            "Train Epoch: 11 [70/74]\tloss: 0.254032\n",
            "[11] Validation Loss: 0.8712, Accuracy: 83.4459%\n",
            "Train Epoch: 12 [0/74]\tloss: 0.176578\n",
            "Train Epoch: 12 [10/74]\tloss: 0.165884\n",
            "Train Epoch: 12 [20/74]\tloss: 0.169566\n",
            "Train Epoch: 12 [30/74]\tloss: 0.146168\n",
            "Train Epoch: 12 [40/74]\tloss: 0.183964\n",
            "Train Epoch: 12 [50/74]\tloss: 0.153170\n",
            "Train Epoch: 12 [60/74]\tloss: 0.166560\n",
            "Train Epoch: 12 [70/74]\tloss: 0.191580\n",
            "[12] Validation Loss: 0.8670, Accuracy: 84.1216%\n",
            "Train Epoch: 13 [0/74]\tloss: 0.134172\n",
            "Train Epoch: 13 [10/74]\tloss: 0.130214\n",
            "Train Epoch: 13 [20/74]\tloss: 0.109412\n",
            "Train Epoch: 13 [30/74]\tloss: 0.116122\n",
            "Train Epoch: 13 [40/74]\tloss: 0.128256\n",
            "Train Epoch: 13 [50/74]\tloss: 0.127030\n",
            "Train Epoch: 13 [60/74]\tloss: 0.125729\n",
            "Train Epoch: 13 [70/74]\tloss: 0.118628\n",
            "[13] Validation Loss: 0.8612, Accuracy: 84.1216%\n",
            "Train Epoch: 14 [0/74]\tloss: 0.137560\n",
            "Train Epoch: 14 [10/74]\tloss: 0.095807\n",
            "Train Epoch: 14 [20/74]\tloss: 0.114309\n",
            "Train Epoch: 14 [30/74]\tloss: 0.128898\n",
            "Train Epoch: 14 [40/74]\tloss: 0.122790\n",
            "Train Epoch: 14 [50/74]\tloss: 0.154836\n",
            "Train Epoch: 14 [60/74]\tloss: 0.094583\n",
            "Train Epoch: 14 [70/74]\tloss: 0.093763\n",
            "[14] Validation Loss: 0.8533, Accuracy: 84.4595%\n",
            "Train Epoch: 15 [0/74]\tloss: 0.096365\n",
            "Train Epoch: 15 [10/74]\tloss: 0.101224\n",
            "Train Epoch: 15 [20/74]\tloss: 0.110830\n",
            "Train Epoch: 15 [30/74]\tloss: 0.098123\n",
            "Train Epoch: 15 [40/74]\tloss: 0.112709\n",
            "Train Epoch: 15 [50/74]\tloss: 0.102789\n",
            "Train Epoch: 15 [60/74]\tloss: 0.105690\n",
            "Train Epoch: 15 [70/74]\tloss: 0.115371\n",
            "[15] Validation Loss: 0.8034, Accuracy: 84.4595%\n",
            "Train Epoch: 16 [0/74]\tloss: 0.083539\n",
            "Train Epoch: 16 [10/74]\tloss: 0.105015\n",
            "Train Epoch: 16 [20/74]\tloss: 0.098779\n",
            "Train Epoch: 16 [30/74]\tloss: 0.098284\n",
            "Train Epoch: 16 [40/74]\tloss: 0.071979\n",
            "Train Epoch: 16 [50/74]\tloss: 0.084567\n",
            "Train Epoch: 16 [60/74]\tloss: 0.085496\n",
            "Train Epoch: 16 [70/74]\tloss: 0.095648\n",
            "[16] Validation Loss: 0.7945, Accuracy: 84.4595%\n",
            "Train Epoch: 17 [0/74]\tloss: 0.093786\n",
            "Train Epoch: 17 [10/74]\tloss: 0.076095\n",
            "Train Epoch: 17 [20/74]\tloss: 0.095722\n",
            "Train Epoch: 17 [30/74]\tloss: 0.061904\n",
            "Train Epoch: 17 [40/74]\tloss: 0.071498\n",
            "Train Epoch: 17 [50/74]\tloss: 0.072225\n",
            "Train Epoch: 17 [60/74]\tloss: 0.078449\n",
            "Train Epoch: 17 [70/74]\tloss: 0.072473\n",
            "[17] Validation Loss: 0.7860, Accuracy: 84.4595%\n",
            "Train Epoch: 18 [0/74]\tloss: 0.065558\n",
            "Train Epoch: 18 [10/74]\tloss: 0.067616\n",
            "Train Epoch: 18 [20/74]\tloss: 0.080779\n",
            "Train Epoch: 18 [30/74]\tloss: 0.066262\n",
            "Train Epoch: 18 [40/74]\tloss: 0.123503\n",
            "Train Epoch: 18 [50/74]\tloss: 0.061532\n",
            "Train Epoch: 18 [60/74]\tloss: 0.069805\n",
            "Train Epoch: 18 [70/74]\tloss: 0.059408\n",
            "[18] Validation Loss: 0.7798, Accuracy: 83.1081%\n",
            "Train Epoch: 19 [0/74]\tloss: 0.059051\n",
            "Train Epoch: 19 [10/74]\tloss: 0.075573\n",
            "Train Epoch: 19 [20/74]\tloss: 0.074916\n",
            "Train Epoch: 19 [30/74]\tloss: 0.076756\n",
            "Train Epoch: 19 [40/74]\tloss: 0.073425\n",
            "Train Epoch: 19 [50/74]\tloss: 0.085181\n",
            "Train Epoch: 19 [60/74]\tloss: 0.061922\n",
            "Train Epoch: 19 [70/74]\tloss: 0.077932\n",
            "[19] Validation Loss: 0.7868, Accuracy: 85.1351%\n",
            "Train Epoch: 20 [0/74]\tloss: 0.066397\n",
            "Train Epoch: 20 [10/74]\tloss: 0.085550\n",
            "Train Epoch: 20 [20/74]\tloss: 0.065433\n",
            "Train Epoch: 20 [30/74]\tloss: 0.063160\n",
            "Train Epoch: 20 [40/74]\tloss: 0.081177\n",
            "Train Epoch: 20 [50/74]\tloss: 0.063296\n",
            "Train Epoch: 20 [60/74]\tloss: 0.072034\n",
            "Train Epoch: 20 [70/74]\tloss: 0.059930\n",
            "[20] Validation Loss: 0.7812, Accuracy: 84.7973%\n",
            "Train Epoch: 21 [0/74]\tloss: 0.063127\n",
            "Train Epoch: 21 [10/74]\tloss: 0.063223\n",
            "Train Epoch: 21 [20/74]\tloss: 0.063410\n",
            "Train Epoch: 21 [30/74]\tloss: 0.059546\n",
            "Train Epoch: 21 [40/74]\tloss: 0.060401\n",
            "Train Epoch: 21 [50/74]\tloss: 0.055466\n",
            "Train Epoch: 21 [60/74]\tloss: 0.054439\n",
            "Train Epoch: 21 [70/74]\tloss: 0.040859\n",
            "[21] Validation Loss: 0.7787, Accuracy: 84.4595%\n",
            "Train Epoch: 22 [0/74]\tloss: 0.054598\n",
            "Train Epoch: 22 [10/74]\tloss: 0.064543\n",
            "Train Epoch: 22 [20/74]\tloss: 0.064410\n",
            "Train Epoch: 22 [30/74]\tloss: 0.051898\n",
            "Train Epoch: 22 [40/74]\tloss: 0.059070\n",
            "Train Epoch: 22 [50/74]\tloss: 0.060751\n",
            "Train Epoch: 22 [60/74]\tloss: 0.058499\n",
            "Train Epoch: 22 [70/74]\tloss: 0.085692\n",
            "[22] Validation Loss: 0.7763, Accuracy: 84.7973%\n",
            "Train Epoch: 23 [0/74]\tloss: 0.081890\n",
            "Train Epoch: 23 [10/74]\tloss: 0.088062\n",
            "Train Epoch: 23 [20/74]\tloss: 0.077008\n",
            "Train Epoch: 23 [30/74]\tloss: 0.056075\n",
            "Train Epoch: 23 [40/74]\tloss: 0.061408\n",
            "Train Epoch: 23 [50/74]\tloss: 0.050064\n",
            "Train Epoch: 23 [60/74]\tloss: 0.055726\n",
            "Train Epoch: 23 [70/74]\tloss: 0.066211\n",
            "[23] Validation Loss: 0.7802, Accuracy: 83.4459%\n",
            "Train Epoch: 24 [0/74]\tloss: 0.060924\n",
            "Train Epoch: 24 [10/74]\tloss: 0.078545\n",
            "Train Epoch: 24 [20/74]\tloss: 0.052593\n",
            "Train Epoch: 24 [30/74]\tloss: 0.075238\n",
            "Train Epoch: 24 [40/74]\tloss: 0.063236\n",
            "Train Epoch: 24 [50/74]\tloss: 0.082129\n",
            "Train Epoch: 24 [60/74]\tloss: 0.058467\n",
            "Train Epoch: 24 [70/74]\tloss: 0.083409\n",
            "[24] Validation Loss: 0.7800, Accuracy: 83.1081%\n",
            "[FINAL] Test Loss: 0.7876, Accuracy: 87.2483%\n",
            "Best Accuracy:  85.13513513513513\n",
            "Elapsed Time: 0h, 26m, 2s\n"
          ]
        },
        {
          "output_type": "display_data",
          "data": {
            "text/plain": [
              "VBox(children=(Label(value='0.021 MB of 0.021 MB uploaded\\r'), FloatProgress(value=1.0, max=1.0)))"
            ],
            "application/vnd.jupyter.widget-view+json": {
              "version_major": 2,
              "version_minor": 0,
              "model_id": "007cb84e1a7948e0ae8f8f1b443f9a83"
            }
          },
          "metadata": {}
        },
        {
          "output_type": "display_data",
          "data": {
            "text/plain": [
              "<IPython.core.display.HTML object>"
            ],
            "text/html": [
              "<style>\n",
              "    table.wandb td:nth-child(1) { padding: 0 10px; text-align: left ; width: auto;} td:nth-child(2) {text-align: left ; width: 100%}\n",
              "    .wandb-row { display: flex; flex-direction: row; flex-wrap: wrap; justify-content: flex-start; width: 100% }\n",
              "    .wandb-col { display: flex; flex-direction: column; flex-basis: 100%; flex: 1; padding: 10px; }\n",
              "    </style>\n",
              "<div class=\"wandb-row\"><div class=\"wandb-col\"><h3>Run history:</h3><br/><table class=\"wandb\"><tr><td>Epoch</td><td>▁▁▂▂▂▂▃▃▃▄▄▄▅▅▅▅▆▆▆▇▇▇▇██</td></tr><tr><td>Test Accuracy</td><td>▁</td></tr><tr><td>Test Loss</td><td>▁</td></tr><tr><td>Train Loss</td><td>██▆▅▅▃▃▂▂▂▂▁▁▁▁▁▁▁▁▁▁▁▁▁▁</td></tr><tr><td>Validation Accuracy</td><td>▁▂▄▆▆▇▇▇█████████████████</td></tr><tr><td>Validation Loss</td><td>█▇▆▅▄▃▂▂▂▁▁▁▁▁▁▁▁▁▁▁▁▁▁▁▁</td></tr></table><br/></div><div class=\"wandb-col\"><h3>Run summary:</h3><br/><table class=\"wandb\"><tr><td>Epoch</td><td>24</td></tr><tr><td>Test Accuracy</td><td>87.24832</td></tr><tr><td>Test Loss</td><td>0.78762</td></tr><tr><td>Train Loss</td><td>0.07405</td></tr><tr><td>Validation Accuracy</td><td>83.10811</td></tr><tr><td>Validation Loss</td><td>0.78004</td></tr></table><br/></div></div>"
            ]
          },
          "metadata": {}
        },
        {
          "output_type": "display_data",
          "data": {
            "text/plain": [
              "<IPython.core.display.HTML object>"
            ],
            "text/html": [
              " View run <strong style=\"color:#cdcd00\">RAdam and get_cosine_schedule_with_warmup</strong> at: <a href='https://wandb.ai/parkdoi-gachon-university/CUB_Transfer_Learning/runs/lnw848zx' target=\"_blank\">https://wandb.ai/parkdoi-gachon-university/CUB_Transfer_Learning/runs/lnw848zx</a><br/> View project at: <a href='https://wandb.ai/parkdoi-gachon-university/CUB_Transfer_Learning' target=\"_blank\">https://wandb.ai/parkdoi-gachon-university/CUB_Transfer_Learning</a><br/>Synced 5 W&B file(s), 0 media file(s), 0 artifact file(s) and 0 other file(s)"
            ]
          },
          "metadata": {}
        },
        {
          "output_type": "display_data",
          "data": {
            "text/plain": [
              "<IPython.core.display.HTML object>"
            ],
            "text/html": [
              "Find logs at: <code>./wandb/run-20241025_115951-lnw848zx/logs</code>"
            ]
          },
          "metadata": {}
        }
      ]
    }
  ]
}